{
 "cells": [
  {
   "cell_type": "markdown",
   "metadata": {
    "id": "409z5Xx5xfHU"
   },
   "source": [
    "## Условный оператор if. Практическое задание\n",
    "\n",
    "В конце ноутбука вы можете найти решения задач."
   ]
  },
  {
   "cell_type": "markdown",
   "metadata": {
    "id": "SuYgeIE9222o"
   },
   "source": [
    "1. Есть разные мнения, что считать юбилеем. В этой задаче будем называть юбилеем даты, кратные 10 годам. Напишите программу, которая спрашивает, сколько лет исполняется человеку, и сохраняет это число. Если дата круглая (делится на 10 без остатка), пусть программа выводит поздравление с юбилеем. Если не круглая — пусть программа просто поздравляет с днём рождения.\n"
   ]
  },
  {
   "cell_type": "code",
   "execution_count": 3,
   "metadata": {
    "id": "Ts3xiFRa4cCp"
   },
   "outputs": [
    {
     "name": "stdout",
     "output_type": "stream",
     "text": [
      "Сколько вам лет? 20\n",
      "С юбилеем!\n"
     ]
    }
   ],
   "source": [
    "# Запрашиваем, сколько человеку исполняется лет\n",
    "\n",
    "age = int(input(\"Сколько вам лет? \"))\n",
    "\n",
    "# Проверяем деление на 10 и выводим поздравление\n",
    "\n",
    "if age % 10 == 0:\n",
    "    print (\"С юбилеем!\")\n",
    "else:\n",
    "    print(\"С др!\")"
   ]
  },
  {
   "cell_type": "markdown",
   "metadata": {
    "id": "jD4BgoMSs9S6"
   },
   "source": [
    "2. Напишите программу «Военкомат», которая проверяет, подлежит ли человек призыву или нет по российским законам. Пусть программа запрашивает пол и возраст. Если это мужчина от 18 до 27 лет, программа должна выводить сообщение «Подлежит призыву!», во всех остальных случаях — выводить «Не подлежит призыву!»."
   ]
  },
  {
   "cell_type": "code",
   "execution_count": 6,
   "metadata": {
    "id": "aSu6tjf9tcMz"
   },
   "outputs": [
    {
     "name": "stdout",
     "output_type": "stream",
     "text": [
      "Сколько лет?18\n",
      "Пол?Женщина\n",
      "Не подлежит\n"
     ]
    }
   ],
   "source": [
    "# Программа \"Военкомат\"\n",
    "\n",
    "age = int(input(\"Сколько лет?\"))\n",
    "sex = input(\"Пол?\") \n",
    "\n",
    "# Проверка\n",
    "\n",
    "if age >= 18 and age <= 27 and sex == \"Мужчина\":\n",
    "    print(\"Подлежит\")\n",
    "else:\n",
    "    print (\"Не подлежит\")\n",
    "\n"
   ]
  },
  {
   "cell_type": "markdown",
   "metadata": {
    "id": "0efAMWGB1-t8"
   },
   "source": [
    "3. Напишите программу, которая запрашивает на ввод два числа. Если произведение этих чисел получается отрицательным, программа должна сообщать, что на ввод были получены числа с разными знаками. В противном случае программа должна сообщать, что на ввод были получены числа с одинаковыми знаками или ноль."
   ]
  },
  {
   "cell_type": "code",
   "execution_count": 10,
   "metadata": {
    "id": "NrJghu4Z18ss"
   },
   "outputs": [
    {
     "name": "stdout",
     "output_type": "stream",
     "text": [
      "Введите первое число-2\n",
      "Введите второе число-2\n",
      "Знаки одинаковые\n"
     ]
    }
   ],
   "source": [
    "# Запрашиваем числа\n",
    "\n",
    "first = float(input(\"Введите первое число\"))\n",
    "\n",
    "second = float(input(\"Введите второе число\"))\n",
    "\n",
    "\n",
    "\n",
    "# Проверяем их произведение и выводим результат\n",
    "\n",
    "if (first * second) >= 0:\n",
    "    print (\"Знаки одинаковые\")\n",
    "else:\n",
    "    print (\"Знаки разные\")"
   ]
  },
  {
   "cell_type": "markdown",
   "metadata": {
    "id": "R2L1d6T9xqHF"
   },
   "source": [
    "\n",
    "|\n",
    "\n",
    "\n",
    "|\n",
    "\n",
    "\n",
    "|\n",
    "\n",
    "\n",
    "|\n",
    "\n",
    "\n",
    "|\n",
    "\n",
    "\n",
    "|\n",
    "\n",
    "\n",
    "|\n",
    "\n",
    "\n",
    "|\n",
    "\n",
    "\n",
    "|\n",
    "\n",
    "\n",
    "|\n",
    "\n",
    "|\n",
    "\n",
    "\n",
    "|\n",
    "\n",
    "\n",
    "|\n",
    "\n",
    "\n",
    "|\n",
    "\n",
    "\n",
    "|\n",
    "## Решения"
   ]
  },
  {
   "cell_type": "markdown",
   "metadata": {
    "id": "Nu5DaJvdxqHG"
   },
   "source": [
    "1. Есть разные мнения, что считать юбилеем. В этой задаче будем называть юбилеем даты, кратные 10 годам. Напишите программу, которая спрашивает, сколько лет исполняется человеку, и сохраняет это число. Если дата круглая (делится на 10 без остатка), пусть программа выводит поздравление с юбилеем. Если не круглая — пусть программа просто поздравляет с днём рождения.\n"
   ]
  },
  {
   "cell_type": "code",
   "execution_count": null,
   "metadata": {
    "colab": {
     "base_uri": "https://localhost:8080/"
    },
    "executionInfo": {
     "elapsed": 3685,
     "status": "ok",
     "timestamp": 1644868247920,
     "user": {
      "displayName": "Евгения Миллер",
      "photoUrl": "https://lh3.googleusercontent.com/a-/AOh14Gj2X0dQicVOw3_uvDLm2AdkkDjMIUubVj8NCWQ6=s64",
      "userId": "01842992490389353651"
     },
     "user_tz": -180
    },
    "id": "HH5vfTxUxqHG",
    "outputId": "5da22084-404e-442b-8fc1-bb7cd4b84a74"
   },
   "outputs": [
    {
     "name": "stdout",
     "output_type": "stream",
     "text": [
      "Сколько лет вам исполняется? 20\n",
      "Поздравляем с юбилеем!\n"
     ]
    }
   ],
   "source": [
    "# Запрашиваем, сколько человеку исполняется лет\n",
    "age = int(input('Сколько лет вам исполняется? '))\n",
    "\n",
    "# Проверяем деление на 10 и выводим поздравление\n",
    "if age % 10 == 0:\n",
    "    print('Поздравляем с юбилеем!')\n",
    "else:\n",
    "    print('С днём рождения!')"
   ]
  },
  {
   "cell_type": "markdown",
   "metadata": {
    "id": "ZJ3_8mxNxqHH"
   },
   "source": [
    "2. Напишите программу «Военкомат», которая проверяет, подлежит ли человек призыву или нет по российским законам. Пусть программа запрашивает пол и возраст. Если это мужчина от 18 до 27 лет, программа должна выводить сообщение «Подлежит призыву!», во всех остальных случаях — выводить «Не подлежит призыву!»."
   ]
  },
  {
   "cell_type": "code",
   "execution_count": null,
   "metadata": {
    "colab": {
     "base_uri": "https://localhost:8080/"
    },
    "executionInfo": {
     "elapsed": 4781,
     "status": "ok",
     "timestamp": 1645750407351,
     "user": {
      "displayName": "Евгения Миллер",
      "photoUrl": "https://lh3.googleusercontent.com/a-/AOh14Gj2X0dQicVOw3_uvDLm2AdkkDjMIUubVj8NCWQ6=s64",
      "userId": "01842992490389353651"
     },
     "user_tz": -180
    },
    "id": "76iSfpP7xqHI",
    "outputId": "b35165c6-5ae2-48c6-a86e-8dc6a56a782a"
   },
   "outputs": [
    {
     "name": "stdout",
     "output_type": "stream",
     "text": [
      "Укажите ваш возраст: 18\n",
      "Укажите ваш пол (введите М или Ж): М\n",
      "Подлежит призыву!\n"
     ]
    }
   ],
   "source": [
    "# Программа \"Военкомат\"\n",
    "age = int(input('Укажите ваш возраст: '))\n",
    "sex = input('Укажите ваш пол (введите М или Ж): ')\n",
    "\n",
    "# Проверка\n",
    "if age >= 18 and age < 27 and sex == 'М':\n",
    "    print('Подлежит призыву!')\n",
    "else:\n",
    "    print('Не подлежит призыву!')"
   ]
  },
  {
   "cell_type": "markdown",
   "metadata": {
    "id": "LPIXnuzcxqHI"
   },
   "source": [
    "3. Напишите программу, которая запрашивает на ввод два числа. Если произведение этих чисел получается отрицательным, программа должна сообщать, что на ввод были получены числа с разными знаками. В противном случае программа должна сообщать, что на ввод были получены числа с одинаковыми знаками или ноль."
   ]
  },
  {
   "cell_type": "code",
   "execution_count": null,
   "metadata": {
    "colab": {
     "base_uri": "https://localhost:8080/"
    },
    "executionInfo": {
     "elapsed": 3631,
     "status": "ok",
     "timestamp": 1645750557400,
     "user": {
      "displayName": "Евгения Миллер",
      "photoUrl": "https://lh3.googleusercontent.com/a-/AOh14Gj2X0dQicVOw3_uvDLm2AdkkDjMIUubVj8NCWQ6=s64",
      "userId": "01842992490389353651"
     },
     "user_tz": -180
    },
    "id": "Qlxv4cuKxqHJ",
    "outputId": "2eec88ef-e6e8-4bc3-d331-903a22ce8b0f"
   },
   "outputs": [
    {
     "name": "stdout",
     "output_type": "stream",
     "text": [
      "Введите первое число: -5\n",
      "Введите второе число: 8\n",
      "На ввод были получены числа с разными знаками\n"
     ]
    }
   ],
   "source": [
    "# Запрашиваем числа\n",
    "num1 = float(input('Введите первое число: '))\n",
    "num2 = float(input('Введите второе число: '))\n",
    "\n",
    "# Проверяем их произведение и выводим результат\n",
    "if num1 * num2 < 0:\n",
    "    print('На ввод были получены числа с разными знаками')\n",
    "else:\n",
    "    print('На ввод были получены числа с одинаковыми знаками или ноль')"
   ]
  }
 ],
 "metadata": {
  "colab": {
   "collapsed_sections": [],
   "name": "6.1_Условный_оператор_if_Практика.ipynb",
   "provenance": []
  },
  "kernelspec": {
   "display_name": "Python 3 (ipykernel)",
   "language": "python",
   "name": "python3"
  },
  "language_info": {
   "codemirror_mode": {
    "name": "ipython",
    "version": 3
   },
   "file_extension": ".py",
   "mimetype": "text/x-python",
   "name": "python",
   "nbconvert_exporter": "python",
   "pygments_lexer": "ipython3",
   "version": "3.9.13"
  }
 },
 "nbformat": 4,
 "nbformat_minor": 1
}
