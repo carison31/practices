{
 "cells": [
  {
   "cell_type": "markdown",
   "metadata": {
    "id": "dK9fU_veQppb"
   },
   "source": [
    "# Словари. Практическое задание\n",
    "\n",
    "В этом практическом задании четыре обязательные и две дополнительных задачи.\n",
    "\n",
    "*Обязательные задачи* нужно сделать, чтобы проверить, что вы действительно усвоили материал урока. Если у вас всё получилось, вы можете переходить к следующему уроку.\n",
    "\n",
    "*Дополнительные задачи* для тех, кто чувствует, что нужно ещё немного потренироваться и порешать задачки по программированию.\n",
    "\n",
    "Удачи!\n"
   ]
  },
  {
   "cell_type": "markdown",
   "metadata": {
    "id": "h83wnOjfQqvG"
   },
   "source": [
    "**Цели практического задания:**\n",
    "1. Попрактиковать работу с типом данных dict в Python.\n",
    "2. Научиться округлять значения с помощью `round`.\n",
    "3. Изучить округление с помощью форматированных строк.\n"
   ]
  },
  {
   "cell_type": "markdown",
   "metadata": {
    "id": "QYWZMcuBQ0AU"
   },
   "source": [
    "\n",
    "\n",
    "---\n",
    "\n",
    "\n",
    "---\n",
    "\n"
   ]
  },
  {
   "cell_type": "markdown",
   "metadata": {
    "id": "j4WnZYvSRJa5"
   },
   "source": [
    "**Обязательные задачи**"
   ]
  },
  {
   "cell_type": "markdown",
   "metadata": {
    "id": "RoalPkr_RsKz"
   },
   "source": [
    "*Задача 1. Турнирная таблица*\n",
    "\n",
    "Даны финальные баллы спортсменов по результатам соревнований, которые хранятся в словаре `final_scores`.\n",
    "\n",
    "Напишите функцию, которая находит имена трёх победителей соревнования и их результаты по данным, которые лежат в словаре. Победители — спортсмены с максимальным количеством баллов. Выведите результат функции на экран.\n",
    "\n",
    "Проверьте работоспособность программы на разных значениях `final_scores`.\n"
   ]
  },
  {
   "cell_type": "markdown",
   "metadata": {
    "id": "u7GUe-L9U4gr"
   },
   "source": [
    "Пример: \n",
    "<br>\n",
    "Input: `final_scores = {'Евгений Потапенко': 120, 'Иван Иванович': 200, 'Кузьма Иванов': 190, 'Иннокентий Соловьев': 150,  'Герасим Маркелов': 190, 'Олег Корнеев': 220}` \n",
    "<br>\n",
    "Output: \n",
    "\n",
    "`1 место - Олег Корнеев: 220`\n",
    "\n",
    "`2 место - Иван Иванович: 200`\n",
    "\n",
    "`3 место - Кузьма Иванов: 190`"
   ]
  },
  {
   "cell_type": "code",
   "execution_count": 23,
   "metadata": {
    "id": "LJvoZnoDUJGa"
   },
   "outputs": [],
   "source": [
    "final_scores = {'Евгений Потапенко': 120, 'Иван Иванович': 200, 'Кузьма Иванов': 190, 'Иннокентий Соловьев': 150,  'Герасим Маркелов': 180, 'Олег Корнеев': 220}"
   ]
  },
  {
   "cell_type": "code",
   "execution_count": 24,
   "metadata": {
    "id": "V-KHbXsWQqHk"
   },
   "outputs": [
    {
     "name": "stdout",
     "output_type": "stream",
     "text": [
      "Олег Корнеев 220\n",
      "Иван Иванович 200\n",
      "Кузьма Иванов 190\n"
     ]
    }
   ],
   "source": [
    "# Ваш код здесь\n",
    "best_scores = sorted(final_scores.values(), reverse = True)[:3]\n",
    "\n",
    "for i in range (3):    \n",
    "    for k, v in final_scores.items():\n",
    "        if v == best_scores[i]:\n",
    "            print (k, v)\n",
    "\n"
   ]
  },
  {
   "cell_type": "code",
   "execution_count": null,
   "metadata": {},
   "outputs": [],
   "source": []
  },
  {
   "cell_type": "markdown",
   "metadata": {
    "id": "pVys3PxUVZ5s"
   },
   "source": [
    "*Задача 2. Словарь констант*\n",
    "\n",
    "Дан список кортежей `constants`. В каждом кортеже на первом месте лежит обозначение математической или физической константы, а на втором месте — её значение, например: ('g', '9.823773828293883939291').\n",
    "\n",
    "Определите функцию, которая из списка кортежей преобразует данные в словарь, в котором обозначение константы — это ключ, а соответствующее число — значение.\n",
    "\n",
    "Напишите программу, которая считывает с экрана буквенное обозначение константы и выдаёт её значение по данным из словаря. Если такого обозначения нет — пишет, что значение не найдено. \n",
    "\n",
    "Для выполнения этого задания воспользуйтесь методом `get` для словарей.\n"
   ]
  },
  {
   "cell_type": "markdown",
   "metadata": {
    "id": "rGcUFE8xjQr_"
   },
   "source": [
    "Пример: \n",
    "\n",
    "Output: \n",
    "\n",
    "`Введите имя константы:`\n",
    "\n",
    "`pi`\n",
    "\n",
    "`pi = 3.14159265358979323846264338327950288`"
   ]
  },
  {
   "cell_type": "markdown",
   "metadata": {
    "id": "nhTOAnwOaN3l"
   },
   "source": [
    "Подсказка\n",
    "\n",
    "Метод `get` для `dict` ищет значение по указанному ключу в исходном словаре. Если значение не найдено, то возвращает сообщение, указанное вторым аргументом.\n",
    "\n",
    "Пример:"
   ]
  },
  {
   "cell_type": "code",
   "execution_count": null,
   "metadata": {
    "colab": {
     "base_uri": "https://localhost:8080/"
    },
    "executionInfo": {
     "elapsed": 261,
     "status": "ok",
     "timestamp": 1634980254593,
     "user": {
      "displayName": "Yulduz Fattakhova",
      "photoUrl": "https://lh3.googleusercontent.com/a-/AOh14GiMux79i3vxuxKnCVSDClfaXbH-jvsA0woYdDAT=s64",
      "userId": "14698334089562212742"
     },
     "user_tz": -180
    },
    "id": "yrA5F-tdafjZ",
    "outputId": "3301c9df-8537-48f7-f8ed-4df6f2c406d4"
   },
   "outputs": [
    {
     "name": "stdout",
     "output_type": "stream",
     "text": [
      "1\n",
      "не найдено\n"
     ]
    }
   ],
   "source": [
    "d = {1: '1', 2: '2'}\n",
    "print(d.get(1, 'не найдено'))\n",
    "print(d.get(3, 'не найдено'))"
   ]
  },
  {
   "cell_type": "code",
   "execution_count": 27,
   "metadata": {
    "id": "i-hIQBqEZIEo"
   },
   "outputs": [],
   "source": [
    "constants = [('g', '9.823773828293883939291'), ('pi', '3.14159265358979323846264338327950288'), \\\n",
    "             ('L', '0.5'), ('e', '2.71828182845904523536028747135266249'), \\\n",
    "             ('B2', '1.902160583104'), ('C2', '0.64341054629')]"
   ]
  },
  {
   "cell_type": "code",
   "execution_count": 32,
   "metadata": {
    "id": "Tg6DXsOdZxBy"
   },
   "outputs": [],
   "source": [
    "# Ваш код здесь\n",
    "def list_to_dict (constants):\n",
    "    const_dict = dict()\n",
    "    for tupl in constants:\n",
    "        const_dict[tupl[0]] = tupl[1]\n",
    "    return const_dict\n",
    "\n",
    "def get_value (key):\n",
    "    print(list_to_dict(constants).get(key, \"значение не найдено\"))\n",
    "    "
   ]
  },
  {
   "cell_type": "code",
   "execution_count": 34,
   "metadata": {},
   "outputs": [
    {
     "name": "stdout",
     "output_type": "stream",
     "text": [
      "{'g': '9.823773828293883939291', 'pi': '3.14159265358979323846264338327950288', 'L': '0.5', 'e': '2.71828182845904523536028747135266249', 'B2': '1.902160583104', 'C2': '0.64341054629'}\n",
      "1.902160583104\n"
     ]
    }
   ],
   "source": [
    "print(list_to_dict(constants))\n",
    "get_value(\"B2\")"
   ]
  },
  {
   "cell_type": "markdown",
   "metadata": {
    "id": "tbcS9VKcbLcC"
   },
   "source": [
    "*Задача 3. Округление*\n",
    "\n",
    "Модифицируйте предыдущую программу следующим образом:\n",
    "\n",
    "Прежде чем вывести значение константы, спросите у пользователя, сколько знаков после запятой ему нужно вывести. Если пользователь ничего не указывает — по умолчанию выводить всё число целиком. Воспользуйтесь функцией `round` для округления.\n",
    "\n",
    "\n"
   ]
  },
  {
   "cell_type": "markdown",
   "metadata": {
    "id": "f56Vwo_Bjn_6"
   },
   "source": [
    "Пример: \n",
    "\n",
    "Output: \n",
    "\n",
    "`Введите имя константы:`\n",
    "\n",
    "`pi`\n",
    "\n",
    "`Сколько знаков после запятой вывести?`\n",
    "\n",
    "`2`\n",
    "\n",
    "`pi = 3.14`"
   ]
  },
  {
   "cell_type": "code",
   "execution_count": 54,
   "metadata": {
    "id": "NVgG4JJOaBPv"
   },
   "outputs": [],
   "source": [
    "# Ваш код здесь\n",
    "def get_value (key, amount = \"\"):\n",
    "    if key not in list_to_dict(constants).keys():\n",
    "        print(\"Не найдено\")\n",
    "    elif amount == \"\":\n",
    "        print(float(list_to_dict(constants).get(key, \"значение не найдено\")))\n",
    "    else:   \n",
    "        print(round(float(list_to_dict(constants).get(key, \"значение не найдено\")), 3))"
   ]
  },
  {
   "cell_type": "code",
   "execution_count": 68,
   "metadata": {
    "scrolled": false
   },
   "outputs": [
    {
     "name": "stdout",
     "output_type": "stream",
     "text": [
      "9.824\n"
     ]
    }
   ],
   "source": [
    "get_value(\"g\", 3)"
   ]
  },
  {
   "cell_type": "markdown",
   "metadata": {
    "id": "urZhl0zaj1Do"
   },
   "source": [
    "*Задача 4. Округление с помощью форматированных строк*\n",
    "\n",
    "Есть ещё один вариант округления значений через форматированные строки. К любому значению в f-строке можно применить дополнительные условия с помощью двоеточия. Например, указать, сколько знаков после запятой нужно вывести.\n",
    "\n",
    "Наиболее часто используемые дополнительные условия представлены в этой статье: https://zetcode.com/python/fstring/.\n",
    "\n",
    "Рассмотрим пример, как выводить определённое количество знаков после запятой в числе:\n"
   ]
  },
  {
   "cell_type": "code",
   "execution_count": null,
   "metadata": {
    "colab": {
     "base_uri": "https://localhost:8080/"
    },
    "executionInfo": {
     "elapsed": 262,
     "status": "ok",
     "timestamp": 1634983402299,
     "user": {
      "displayName": "Yulduz Fattakhova",
      "photoUrl": "https://lh3.googleusercontent.com/a-/AOh14GiMux79i3vxuxKnCVSDClfaXbH-jvsA0woYdDAT=s64",
      "userId": "14698334089562212742"
     },
     "user_tz": -180
    },
    "id": "iVm4QQdfmGjB",
    "outputId": "6c1d704f-47b7-4de3-de2a-a3147b79eb70",
    "scrolled": true
   },
   "outputs": [
    {
     "name": "stdout",
     "output_type": "stream",
     "text": [
      "pi = 3.141592653589793\n",
      "pi = 3.14\n",
      "pi = 3.1416\n"
     ]
    }
   ],
   "source": [
    "pi_value = 3.14159265358979323846264338327950288\n",
    "# Вывод числа Пи целиком\n",
    "print(f'pi = {pi_value}')\n",
    "# Вывод числа Пи c двумя знаками после запятой\n",
    "print(f'pi = {pi_value:.2f}')\n",
    "# Вывод числа Пи c четыремя знаками после запятой. Заметьте: произошло округление в большую сторону\n",
    "print(f'pi = {pi_value:.4f}')"
   ]
  },
  {
   "cell_type": "markdown",
   "metadata": {
    "id": "AG17SFDmm9B0"
   },
   "source": [
    "Измените код программы из задачи «Округление». Вместо округления с помощью  `round` используйте округление с помощью дополнительного условия в f-строке."
   ]
  },
  {
   "cell_type": "code",
   "execution_count": 67,
   "metadata": {
    "id": "qYOrhllTmg20"
   },
   "outputs": [],
   "source": [
    "# Ваш код здесь\n",
    "def get_value (key, amount = \"\"):\n",
    "    if key not in list_to_dict(constants).keys():\n",
    "        print(\"Не найдено\")\n",
    "    elif amount == \"\":\n",
    "        print(float(list_to_dict(constants)[key]))\n",
    "    else:   \n",
    "        print(f\"{float(list_to_dict(constants)[key]):.{amount}f}\")"
   ]
  },
  {
   "cell_type": "markdown",
   "metadata": {
    "id": "2LGVgYnTnekQ"
   },
   "source": [
    "\n",
    "\n",
    "---\n",
    "\n",
    "\n",
    "\n",
    "---\n",
    "\n",
    "\n",
    "\n",
    "\n"
   ]
  },
  {
   "cell_type": "markdown",
   "metadata": {
    "id": "ChVlaCWanqkj"
   },
   "source": [
    "**Дополнительные задачи**"
   ]
  },
  {
   "cell_type": "markdown",
   "metadata": {
    "id": "niHS3o0tnwKC"
   },
   "source": [
    "*Задача 5. Аналитика пользователей*\n",
    "\n",
    "У вас есть информация по пользователям, которая хранится в `users_info`. Каждый элемент списка — это словарь с данными пользователя.\n",
    "\n",
    "Выведите имена и id всех пользователей, удовлетворяющих следующему условию:\n",
    "возраст больше 35 лет, в браке и без детей.\n"
   ]
  },
  {
   "cell_type": "code",
   "execution_count": 5,
   "metadata": {
    "id": "aJh8ksrvnb4N"
   },
   "outputs": [],
   "source": [
    "users_info = [\n",
    "              {'id': 111, 'name': 'Ирина', 'age': 40, 'has_children': False, 'is_married': True}, \n",
    "              {'id': 121, 'name': 'Надежда', 'age': 20, 'has_children': False, 'is_married': False},\n",
    "              {'id': 131, 'name': 'Степан', 'age': 21, 'has_children': False, 'is_married': False},\n",
    "              {'id': 141, 'name': 'Константин', 'age': 65, 'has_children': True, 'is_married': False},\n",
    "              {'id': 151, 'name': 'Мария', 'age': 52, 'has_children': True, 'is_married': True},\n",
    "              {'id': 161, 'name': 'Валерия', 'age': 38, 'has_children': False, 'is_married': True},\n",
    "              {'id': 171, 'name': 'Александр', 'age': 29, 'has_children': True, 'is_married': True},\n",
    "]"
   ]
  },
  {
   "cell_type": "code",
   "execution_count": 6,
   "metadata": {
    "id": "Vn_veNKCrM1M"
   },
   "outputs": [
    {
     "name": "stdout",
     "output_type": "stream",
     "text": [
      "Имя: Ирина, id: 111\n",
      "Имя: Валерия, id: 161\n"
     ]
    }
   ],
   "source": [
    "# Ваш код здесь\n",
    "def get_person (person):\n",
    "    if person['id'] > 35 and person['is_married'] and person['has_children'] == False:\n",
    "        print (f\"Имя: {person['name']}, id: {person['id']}\")\n",
    "        \n",
    "def get_people (users_info):\n",
    "    for i in users_info:\n",
    "        get_person(i)\n",
    "get_people(users_info)"
   ]
  },
  {
   "cell_type": "markdown",
   "metadata": {
    "id": "OPcsHOKCrLb9"
   },
   "source": [
    "*Задача 6. Закупки*\n",
    "\n",
    "Дан список `orders`, который состоит из кортежей. Каждый кортеж — это закупка определённого покупателя. В нём хранится следующая информация:\n",
    "\n",
    "(id покупателя, количество товаров, сумма покупки)\n",
    "\n",
    "Определите размер скидки для каждого покупателя по истории покупок из списка `orders`. Рассчитать скидку можно по следующему алгоритму:\n",
    "- если сумма покупок от 10 тыс руб — скидка 5%;\n",
    "- если сумма покупок от 15 тыс руб — скидка 10%;\n",
    "- если сумма покупок от 20 тыс руб — скидка 15%;\n",
    "- если сумма покупок менее 10 тыс руб — скидка 0%.\n",
    "\n",
    "Результаты расчёта запишите в словарь `discount_system` в следующем виде:\n",
    "\n",
    "- ключ — id покупателя;\n",
    "- значение — словарь вида: {'discount': 5, 'total_sum': 12000}, где `discount` — размер скидки, `total_sum` — общая сумма покупок.\n",
    "\n",
    "Используйте функции и декомпозицию.\n"
   ]
  },
  {
   "cell_type": "code",
   "execution_count": null,
   "metadata": {
    "colab": {
     "base_uri": "https://localhost:8080/"
    },
    "executionInfo": {
     "elapsed": 4,
     "status": "ok",
     "timestamp": 1634987755474,
     "user": {
      "displayName": "Yulduz Fattakhova",
      "photoUrl": "https://lh3.googleusercontent.com/a-/AOh14GiMux79i3vxuxKnCVSDClfaXbH-jvsA0woYdDAT=s64",
      "userId": "14698334089562212742"
     },
     "user_tz": -180
    },
    "id": "nifqSdJX3LW7",
    "outputId": "1513693c-d107-4158-ab2e-e97767934d8e"
   },
   "outputs": [
    {
     "data": {
      "text/plain": [
       "{101: {'discount': 0, 'total_sum': 9000},\n",
       " 111: {'discount': 15, 'total_sum': 1001200},\n",
       " 118: {'discount': 0, 'total_sum': 8000},\n",
       " 119: {'discount': 5, 'total_sum': 13300},\n",
       " 123: {'discount': 5, 'total_sum': 14700},\n",
       " 156: {'discount': 10, 'total_sum': 19000},\n",
       " 178: {'discount': 5, 'total_sum': 12100}}"
      ]
     },
     "execution_count": 21,
     "metadata": {},
     "output_type": "execute_result"
    }
   ],
   "source": [
    "# Пример результата\n",
    "discount_system"
   ]
  },
  {
   "cell_type": "code",
   "execution_count": 16,
   "metadata": {
    "id": "S_V1Ebq2sXDM"
   },
   "outputs": [],
   "source": [
    "orders = [\n",
    "          (111, 3, 1200), (118, 9, 8000),\n",
    "          (111, 10, 1000000), (119, 9, 13300),\n",
    "          (156, 10, 11000), (123, 9, 11200),\n",
    "          (178, 20, 3200), (178, 5, 8900),\n",
    "          (156, 9, 8000), (123, 4, 3500),\n",
    "          (101, 9, 8000), (101, 8, 1000),\n",
    "]"
   ]
  },
  {
   "cell_type": "code",
   "execution_count": 58,
   "metadata": {
    "id": "JYIo32cp1_sZ"
   },
   "outputs": [
    {
     "name": "stdout",
     "output_type": "stream",
     "text": [
      "{111: {'total_sum': 1001200, 'discount': 15}, 118: {'total_sum': 8000, 'discount': 0}, 119: {'total_sum': 13300, 'discount': 5}, 156: {'total_sum': 19000, 'discount': 10}, 123: {'total_sum': 14700, 'discount': 5}, 178: {'total_sum': 12100, 'discount': 5}, 101: {'total_sum': 9000, 'discount': 0}}\n",
      "{111: {'total_sum': 1001200, 'discount': 15}, 118: {'total_sum': 8000, 'discount': 0}, 119: {'total_sum': 13300, 'discount': 5}, 156: {'total_sum': 19000, 'discount': 10}, 123: {'total_sum': 14700, 'discount': 5}, 178: {'total_sum': 12100, 'discount': 5}, 101: {'total_sum': 9000, 'discount': 0}}\n"
     ]
    }
   ],
   "source": [
    "# Ваш код здесь\n",
    "\n",
    "def get_dict(discount_system, user_info):\n",
    "    if user_info[0] not in discount_system.keys():\n",
    "        pre_dict = dict()\n",
    "        pre_dict['total_sum'] = user_info[2]\n",
    "        discount_system[user_info[0]] = pre_dict\n",
    "        (discount_system[user_info[0]])['discount'] = discount_conds(discount_system, user_info) \n",
    "    else:\n",
    "        (discount_system[user_info[0]])['total_sum'] += user_info[2]\n",
    "        (discount_system[user_info[0]])['discount']\n",
    "        (discount_system[user_info[0]])['discount'] = discount_conds(discount_system, user_info)\n",
    "    #return discount_system\n",
    "\n",
    "def discount_conds(discount_system, user_info):\n",
    "    if (discount_system[user_info[0]])['total_sum'] < 10000:\n",
    "        return 0\n",
    "    elif (discount_system[user_info[0]])['total_sum'] < 15000:\n",
    "        return 5\n",
    "    elif (discount_system[user_info[0]])['total_sum'] < 20000:\n",
    "        return 10\n",
    "    elif (discount_system[user_info[0]])['total_sum'] >= 20000:\n",
    "        return 15\n",
    "        \n",
    "\n",
    "\n",
    "def fill_dict (orders):\n",
    "    discount_system = dict()\n",
    "    for user_info in orders:\n",
    "        get_dict(discount_system, user_info)\n",
    "    print (discount_system)\n",
    "    return discount_system\n",
    "\n",
    "\n",
    "\n",
    "discount_system = fill_dict(orders)\n",
    "print (discount_system)"
   ]
  },
  {
   "cell_type": "markdown",
   "metadata": {
    "id": "UC2ZGEM_3o85"
   },
   "source": [
    "Далее напишите программу, которая будет запрашивать id пользователя и сумму его покупки. По данным скидок из словаря `discount_system` рассчитайте сумму покупки со скидкой и выведите на экран. После обновите значения `discount` и `total_sum` по данному пользователю. \n",
    "\n",
    "Если скидка изменилась, выведите сообщение о его новой скидке на последующие покупки.\n",
    "\n",
    "Если пришёл новый пользователь, просто добавьте его данные в словарь `discount_system`.\n"
   ]
  },
  {
   "cell_type": "code",
   "execution_count": 69,
   "metadata": {
    "colab": {
     "base_uri": "https://localhost:8080/"
    },
    "executionInfo": {
     "elapsed": 5580,
     "status": "ok",
     "timestamp": 1634988438457,
     "user": {
      "displayName": "Yulduz Fattakhova",
      "photoUrl": "https://lh3.googleusercontent.com/a-/AOh14GiMux79i3vxuxKnCVSDClfaXbH-jvsA0woYdDAT=s64",
      "userId": "14698334089562212742"
     },
     "user_tz": -180
    },
    "id": "qfM_Z1iR3Osl",
    "outputId": "6f67846f-782c-4b62-e29e-9fe5a5ea7c1a"
   },
   "outputs": [
    {
     "name": "stdout",
     "output_type": "stream",
     "text": [
      "ID?11\n",
      "Стоимость покупки?100000000\n",
      "ваша стоимость покупки с 10000 = 100010000\n",
      "Ваша программа лояльности обновилась, новая скидка: 15\n"
     ]
    }
   ],
   "source": [
    "# Пример работы программы\n",
    "def get_name ():\n",
    "    name = int(input(\"ID?\"))\n",
    "    return name\n",
    "\n",
    "def get_cost():\n",
    "    cost = int(input(\"Стоимость покупки?\"))\n",
    "    return cost\n",
    "\n",
    "def updating_values (discount_system):\n",
    "    name = get_name()\n",
    "    if name not in discount_system.keys():\n",
    "        old_money = 0\n",
    "    else:\n",
    "        old_money = (discount_system[name])[\"total_sum\"]\n",
    "    cost = get_cost()\n",
    "    user_info = (name, 0, cost)\n",
    "    get_dict(discount_system, user_info)\n",
    "    print (f\"ваша стоимость покупки с {old_money} = {(discount_system[name])['total_sum']}\")\n",
    "    print (f\"Ваша программа лояльности обновилась, новая скидка: {(discount_system[name])['discount']}\")\n",
    "\n",
    "updating_values(discount_system)"
   ]
  },
  {
   "cell_type": "code",
   "execution_count": 67,
   "metadata": {
    "id": "Ber_eYlO48h0",
    "scrolled": true
   },
   "outputs": [
    {
     "name": "stdout",
     "output_type": "stream",
     "text": [
      "{111: {'total_sum': 1003200, 'discount': 15}, 118: {'total_sum': 10000, 'discount': 5}, 119: {'total_sum': 13300, 'discount': 5}, 156: {'total_sum': 19000, 'discount': 10}, 123: {'total_sum': 14700, 'discount': 5}, 178: {'total_sum': 12100, 'discount': 5}, 101: {'total_sum': 9000, 'discount': 0}, 11: {'total_sum': 2000, 'discount': 0}}\n"
     ]
    }
   ],
   "source": [
    "# Ваш код здесь\n",
    "print (discount_system)"
   ]
  },
  {
   "cell_type": "markdown",
   "metadata": {
    "id": "qMRE4b6L0LWO"
   },
   "source": [
    "|\n",
    "\n",
    "|\n",
    "\n",
    "|\n",
    "\n",
    "|\n",
    "\n",
    "|\n",
    "\n",
    "|\n",
    "\n",
    "|\n",
    "\n",
    "|\n",
    "\n",
    "|\n",
    "\n",
    "|\n",
    "\n",
    "|\n",
    "\n",
    "|\n",
    "\n",
    "|\n",
    "\n",
    "|\n",
    "\n",
    "|\n",
    "\n",
    "|\n",
    "\n",
    "|\n",
    "\n",
    "|\n",
    "\n",
    "|\n",
    "\n",
    "## Решения "
   ]
  },
  {
   "cell_type": "markdown",
   "metadata": {
    "id": "wg-yf0H00J3J"
   },
   "source": [
    "**Обязательные задачи**"
   ]
  },
  {
   "cell_type": "markdown",
   "metadata": {
    "id": "YPLyqlLs0J3J"
   },
   "source": [
    "*Задача 1. Турнирная таблица*\n",
    "\n",
    "Даны финальные баллы спортсменов по результатам соревнований, которые хранятся в словаре `final_scores`.\n",
    "\n",
    "Напишите функцию, которая находит имена трёх победителей соревнования и их результаты по данным, которые лежат в словаре. Победители — спортсмены с максимальным количеством баллов. Выведите результат функции на экран.\n",
    "\n",
    "Проверьте работоспособность программы на разных значениях `final_scores`.\n"
   ]
  },
  {
   "cell_type": "markdown",
   "metadata": {
    "id": "oQ-Gz0um0J3K"
   },
   "source": [
    "Пример: \n",
    "<br>\n",
    "Input: `final_scores = {'Евгений Потапенко': 120, 'Иван Иванович': 200, 'Кузьма Иванов': 190, 'Иннокентий Соловьев': 150,  'Герасим Маркелов': 190, 'Олег Корнеев': 220}` \n",
    "<br>\n",
    "Output: \n",
    "\n",
    "`1 место - Олег Корнеев: 220`\n",
    "\n",
    "`2 место - Иван Иванович: 200`\n",
    "\n",
    "`3 место - Кузьма Иванов: 190`"
   ]
  },
  {
   "cell_type": "code",
   "execution_count": 1,
   "metadata": {
    "executionInfo": {
     "elapsed": 9,
     "status": "ok",
     "timestamp": 1645550557916,
     "user": {
      "displayName": "Евгения Миллер",
      "photoUrl": "https://lh3.googleusercontent.com/a-/AOh14Gj2X0dQicVOw3_uvDLm2AdkkDjMIUubVj8NCWQ6=s64",
      "userId": "01842992490389353651"
     },
     "user_tz": -180
    },
    "id": "qVznH4qY0J3K"
   },
   "outputs": [],
   "source": [
    "final_scores = {'Евгений Потапенко': 120, 'Иван Иванович': 200, 'Кузьма Иванов': 190, 'Иннокентий Соловьев': 150,  'Герасим Маркелов': 180, 'Олег Корнеев': 220}"
   ]
  },
  {
   "cell_type": "code",
   "execution_count": 2,
   "metadata": {
    "executionInfo": {
     "elapsed": 8,
     "status": "ok",
     "timestamp": 1645550557917,
     "user": {
      "displayName": "Евгения Миллер",
      "photoUrl": "https://lh3.googleusercontent.com/a-/AOh14Gj2X0dQicVOw3_uvDLm2AdkkDjMIUubVj8NCWQ6=s64",
      "userId": "01842992490389353651"
     },
     "user_tz": -180
    },
    "id": "OaSKK2mpM5JH"
   },
   "outputs": [],
   "source": [
    "def find_winners(final_scores):\n",
    "    best_scores = sorted(final_scores.values(), reverse=True)[:3]\n",
    "    for i in range(3):\n",
    "        for k, v in final_scores.items():\n",
    "            if v == best_scores[i]:\n",
    "                print(f'{i+1} место - {k}: {v}')"
   ]
  },
  {
   "cell_type": "code",
   "execution_count": 3,
   "metadata": {
    "colab": {
     "base_uri": "https://localhost:8080/"
    },
    "executionInfo": {
     "elapsed": 7,
     "status": "ok",
     "timestamp": 1645550557917,
     "user": {
      "displayName": "Евгения Миллер",
      "photoUrl": "https://lh3.googleusercontent.com/a-/AOh14Gj2X0dQicVOw3_uvDLm2AdkkDjMIUubVj8NCWQ6=s64",
      "userId": "01842992490389353651"
     },
     "user_tz": -180
    },
    "id": "O4tBch424hoR",
    "outputId": "854ee2f2-8eb7-4fcb-a578-ac473efa6d9e"
   },
   "outputs": [
    {
     "name": "stdout",
     "output_type": "stream",
     "text": [
      "1 место - Олег Корнеев: 220\n",
      "2 место - Иван Иванович: 200\n",
      "3 место - Кузьма Иванов: 190\n"
     ]
    }
   ],
   "source": [
    "find_winners(final_scores)"
   ]
  },
  {
   "cell_type": "markdown",
   "metadata": {
    "id": "IG4KTcyp0J3L"
   },
   "source": [
    "*Задача 2. Словарь констант*\n",
    "\n",
    "Дан список кортежей `constants`. В каждом кортеже на первом месте лежит обозначение математической или физической константы, а на втором месте — её значение, например: ('g', '9.823773828293883939291').\n",
    "\n",
    "Определите функцию, которая из списка кортежей преобразует данные в словарь, в котором обозначение константы — это ключ, а соответствующее число — значение.\n",
    "\n",
    "Напишите программу, которая считывает с экрана буквенное обозначение константы и выдаёт её значение по данным из словаря. Если такого обозначения нет — пишет, что значение не найдено. \n",
    "\n",
    "Для выполнения этого задания воспользуйтесь методом `get` для словарей.\n"
   ]
  },
  {
   "cell_type": "markdown",
   "metadata": {
    "id": "i6jsHrBo0J3L"
   },
   "source": [
    "Пример: \n",
    "\n",
    "Output: \n",
    "\n",
    "`Введите имя константы:`\n",
    "\n",
    "`pi`\n",
    "\n",
    "`pi = 3.14159265358979323846264338327950288`"
   ]
  },
  {
   "cell_type": "markdown",
   "metadata": {
    "id": "5w7aPcAA0J3L"
   },
   "source": [
    "Подсказка\n",
    "\n",
    "Метод `get` для `dict` ищет значение по указанному ключу в исходном словаре. Если значение не найдено, то возвращает сообщение, указанное вторым аргументом.\n",
    "\n",
    "Пример:"
   ]
  },
  {
   "cell_type": "code",
   "execution_count": null,
   "metadata": {
    "colab": {
     "base_uri": "https://localhost:8080/"
    },
    "executionInfo": {
     "elapsed": 261,
     "status": "ok",
     "timestamp": 1634980254593,
     "user": {
      "displayName": "Yulduz Fattakhova",
      "photoUrl": "https://lh3.googleusercontent.com/a-/AOh14GiMux79i3vxuxKnCVSDClfaXbH-jvsA0woYdDAT=s64",
      "userId": "14698334089562212742"
     },
     "user_tz": -180
    },
    "id": "E8AxScew0J3L",
    "outputId": "3301c9df-8537-48f7-f8ed-4df6f2c406d4"
   },
   "outputs": [
    {
     "name": "stdout",
     "output_type": "stream",
     "text": [
      "1\n",
      "не найдено\n"
     ]
    }
   ],
   "source": [
    "d = {1: '1', 2: '2'}\n",
    "print(d.get(1, 'не найдено'))\n",
    "print(d.get(3, 'не найдено'))"
   ]
  },
  {
   "cell_type": "code",
   "execution_count": 6,
   "metadata": {
    "executionInfo": {
     "elapsed": 257,
     "status": "ok",
     "timestamp": 1645550965063,
     "user": {
      "displayName": "Евгения Миллер",
      "photoUrl": "https://lh3.googleusercontent.com/a-/AOh14Gj2X0dQicVOw3_uvDLm2AdkkDjMIUubVj8NCWQ6=s64",
      "userId": "01842992490389353651"
     },
     "user_tz": -180
    },
    "id": "yxxNqNiD0J3M"
   },
   "outputs": [],
   "source": [
    "constants = [('g', '9.823773828293883939291'), ('pi', '3.14159265358979323846264338327950288'), \\\n",
    "             ('L', '0.5'), ('e', '2.71828182845904523536028747135266249'), \\\n",
    "             ('B2', '1.902160583104'), ('C2', '0.64341054629')]"
   ]
  },
  {
   "cell_type": "code",
   "execution_count": null,
   "metadata": {
    "colab": {
     "base_uri": "https://localhost:8080/"
    },
    "executionInfo": {
     "elapsed": 3122,
     "status": "ok",
     "timestamp": 1645531154868,
     "user": {
      "displayName": "Евгения Миллер",
      "photoUrl": "https://lh3.googleusercontent.com/a-/AOh14Gj2X0dQicVOw3_uvDLm2AdkkDjMIUubVj8NCWQ6=s64",
      "userId": "01842992490389353651"
     },
     "user_tz": -180
    },
    "id": "2g0LVA3j9kXH",
    "outputId": "fb747650-0f9c-4563-df65-d79eaca7273e"
   },
   "outputs": [
    {
     "name": "stdout",
     "output_type": "stream",
     "text": [
      "Введите имя константы: pi\n",
      "pi = 3.14159265358979323846264338327950288\n"
     ]
    }
   ],
   "source": [
    "constants_dict = dict(constants)\n",
    "query = input('Введите имя константы: ')\n",
    "print(query + ' = ' + constants_dict.get(query, 'не найдено'))\n"
   ]
  },
  {
   "cell_type": "markdown",
   "metadata": {
    "id": "ldCexrdE0J3M"
   },
   "source": [
    "*Задача 3. Округление*\n",
    "\n",
    "Модифицируйте предыдущую программу следующим образом:\n",
    "\n",
    "Прежде чем вывести значение константы, спросите у пользователя, сколько знаков после запятой ему нужно вывести. Если пользователь ничего не указывает — по умолчанию выводить всё число целиком. Воспользуйтесь функцией `round` для округления.\n",
    "\n",
    "\n"
   ]
  },
  {
   "cell_type": "markdown",
   "metadata": {
    "id": "9GoONq6E0J3M"
   },
   "source": [
    "Пример: \n",
    "\n",
    "Output: \n",
    "\n",
    "`Введите имя константы:`\n",
    "\n",
    "`pi`\n",
    "\n",
    "`Сколько знаков после запятой вывести?`\n",
    "\n",
    "`2`\n",
    "\n",
    "`pi = 3.14`"
   ]
  },
  {
   "cell_type": "code",
   "execution_count": 25,
   "metadata": {
    "colab": {
     "base_uri": "https://localhost:8080/"
    },
    "executionInfo": {
     "elapsed": 2660,
     "status": "ok",
     "timestamp": 1645552266851,
     "user": {
      "displayName": "Евгения Миллер",
      "photoUrl": "https://lh3.googleusercontent.com/a-/AOh14Gj2X0dQicVOw3_uvDLm2AdkkDjMIUubVj8NCWQ6=s64",
      "userId": "01842992490389353651"
     },
     "user_tz": -180
    },
    "id": "KIBtIKZo0J3M",
    "outputId": "c838ade6-d1ba-4597-fa4c-5f6939650a1d"
   },
   "outputs": [
    {
     "name": "stdout",
     "output_type": "stream",
     "text": [
      "Введите имя константы: g\n",
      "Сколько знаков после запятой вывести? 4\n",
      "g = 9.8238\n"
     ]
    }
   ],
   "source": [
    "query = input('Введите имя константы: ')\n",
    "decimal = input('Сколько знаков после запятой вывести? ')\n",
    "if query not in constants_dict:\n",
    "    answer = 'не найдено'\n",
    "elif decimal:\n",
    "    answer = round(float(constants_dict[query]), int(decimal))\n",
    "else:\n",
    "    answer = constants_dict[query]\n",
    "print(query, '=', answer)"
   ]
  },
  {
   "cell_type": "markdown",
   "metadata": {
    "id": "EuvCwe7v0J3N"
   },
   "source": [
    "*Задача 4. Округление с помощью форматированных строк*\n",
    "\n",
    "Есть ещё один вариант округления значений через форматированные строки. К любому значению в f-строке можно применить дополнительные условия с помощью двоеточия. Например, указать, сколько знаков после запятой нужно вывести.\n",
    "\n",
    "Наиболее часто используемые дополнительные условия представлены в этой статье: https://zetcode.com/python/fstring/.\n",
    "\n",
    "Рассмотрим пример, как выводить определённое количество знаков после запятой в числе:\n"
   ]
  },
  {
   "cell_type": "code",
   "execution_count": null,
   "metadata": {
    "colab": {
     "base_uri": "https://localhost:8080/"
    },
    "executionInfo": {
     "elapsed": 262,
     "status": "ok",
     "timestamp": 1634983402299,
     "user": {
      "displayName": "Yulduz Fattakhova",
      "photoUrl": "https://lh3.googleusercontent.com/a-/AOh14GiMux79i3vxuxKnCVSDClfaXbH-jvsA0woYdDAT=s64",
      "userId": "14698334089562212742"
     },
     "user_tz": -180
    },
    "id": "e0MNEGmT0J3N",
    "outputId": "6c1d704f-47b7-4de3-de2a-a3147b79eb70"
   },
   "outputs": [
    {
     "name": "stdout",
     "output_type": "stream",
     "text": [
      "pi = 3.141592653589793\n",
      "pi = 3.14\n",
      "pi = 3.1416\n"
     ]
    }
   ],
   "source": [
    "pi_value = 3.14159265358979323846264338327950288\n",
    "# Вывод числа Пи целиком\n",
    "print(f'pi = {pi_value}')\n",
    "# Вывод числа Пи c двумя знаками после запятой\n",
    "print(f'pi = {pi_value:.2f}')\n",
    "# Вывод числа Пи c четыремя знаками после запятой. Заметьте: произошло округление в большую сторону\n",
    "print(f'pi = {pi_value:.4f}')"
   ]
  },
  {
   "cell_type": "markdown",
   "metadata": {
    "id": "ar5cUIXJ0J3N"
   },
   "source": [
    "Измените код программы из задачи «Округление». Вместо округления с помощью  `round` используйте округление с помощью дополнительного условия в f-строке."
   ]
  },
  {
   "cell_type": "code",
   "execution_count": 27,
   "metadata": {
    "colab": {
     "base_uri": "https://localhost:8080/"
    },
    "executionInfo": {
     "elapsed": 2818,
     "status": "ok",
     "timestamp": 1645552375077,
     "user": {
      "displayName": "Евгения Миллер",
      "photoUrl": "https://lh3.googleusercontent.com/a-/AOh14Gj2X0dQicVOw3_uvDLm2AdkkDjMIUubVj8NCWQ6=s64",
      "userId": "01842992490389353651"
     },
     "user_tz": -180
    },
    "id": "HGzTihMr0J3N",
    "outputId": "f1234dbe-37bf-4e10-8445-77f20cf7d462"
   },
   "outputs": [
    {
     "name": "stdout",
     "output_type": "stream",
     "text": [
      "Введите имя константы: g\n",
      "Сколько знаков после запятой вывести? 2\n",
      "g = 9.82\n"
     ]
    }
   ],
   "source": [
    "query = input('Введите имя константы: ')\n",
    "decimal = input('Сколько знаков после запятой вывести? ')\n",
    "if query not in constants_dict:\n",
    "    print(query + ' = не найдено')\n",
    "elif decimal:\n",
    "    print(f'{query} = {float(constants_dict[query]):.{decimal}f}')\n",
    "else:\n",
    "    print(query, '=', constants_dict[query])"
   ]
  },
  {
   "cell_type": "markdown",
   "metadata": {
    "id": "zbMpA_KP0J3O"
   },
   "source": [
    "\n",
    "\n",
    "---\n",
    "\n",
    "\n",
    "\n",
    "---\n",
    "\n",
    "\n",
    "\n",
    "\n"
   ]
  },
  {
   "cell_type": "markdown",
   "metadata": {
    "id": "UdNTHXJ60J3O"
   },
   "source": [
    "**Дополнительные задачи**"
   ]
  },
  {
   "cell_type": "markdown",
   "metadata": {
    "id": "SXeMqbNj0J3O"
   },
   "source": [
    "*Задача 5. Аналитика пользователей*\n",
    "\n",
    "У вас есть информация по пользователям, которая хранится в `users_info`. Каждый элемент списка — это словарь с данными пользователя.\n",
    "\n",
    "Выведите имена и id всех пользователей, удовлетворяющих следующему условию:\n",
    "возраст больше 35 лет, в браке и без детей.\n"
   ]
  },
  {
   "cell_type": "code",
   "execution_count": null,
   "metadata": {
    "id": "tP17hbva0J3O"
   },
   "outputs": [],
   "source": [
    "users_info = [\n",
    "              {'id': 111, 'name': 'Ирина', 'age': 40, 'has_children': False, 'is_married': True}, \n",
    "              {'id': 121, 'name': 'Надежда', 'age': 20, 'has_children': False, 'is_married': False},\n",
    "              {'id': 131, 'name': 'Степан', 'age': 21, 'has_children': False, 'is_married': False},\n",
    "              {'id': 141, 'name': 'Константин', 'age': 65, 'has_children': True, 'is_married': False},\n",
    "              {'id': 151, 'name': 'Мария', 'age': 52, 'has_children': True, 'is_married': True},\n",
    "              {'id': 161, 'name': 'Валерия', 'age': 38, 'has_children': False, 'is_married': False},\n",
    "              {'id': 171, 'name': 'Александр', 'age': 29, 'has_children': True, 'is_married': True},\n",
    "]"
   ]
  },
  {
   "cell_type": "code",
   "execution_count": null,
   "metadata": {
    "colab": {
     "base_uri": "https://localhost:8080/"
    },
    "executionInfo": {
     "elapsed": 240,
     "status": "ok",
     "timestamp": 1645530351939,
     "user": {
      "displayName": "Евгения Миллер",
      "photoUrl": "https://lh3.googleusercontent.com/a-/AOh14Gj2X0dQicVOw3_uvDLm2AdkkDjMIUubVj8NCWQ6=s64",
      "userId": "01842992490389353651"
     },
     "user_tz": -180
    },
    "id": "-USrlW650J3O",
    "outputId": "b656c505-ae38-438d-b239-118519794eee"
   },
   "outputs": [
    {
     "name": "stdout",
     "output_type": "stream",
     "text": [
      "111 Ирина\n"
     ]
    }
   ],
   "source": [
    "for user in users_info:\n",
    "    if user['age'] > 35 and user['is_married'] == True and user['has_children'] == False:\n",
    "        print(user['id'], user['name'])"
   ]
  },
  {
   "cell_type": "markdown",
   "metadata": {
    "id": "5B1s_Ykx0J3P"
   },
   "source": [
    "*Задача 6. Закупки*\n",
    "\n",
    "Дан список `orders`, который состоит из кортежей. Каждый кортеж — это закупка определённого покупателя. В нём хранится следующая информация:\n",
    "\n",
    "(id покупателя, количество товаров, сумма покупки)\n",
    "\n",
    "Определите размер скидки для каждого покупателя по истории покупок из списка `orders`. Рассчитать скидку можно по следующему алгоритму:\n",
    "- если сумма покупок от 10 тыс руб — скидка 5%;\n",
    "- если сумма покупок от 15 тыс руб — скидка 10%;\n",
    "- если сумма покупок от 20 тыс руб — скидка 15%;\n",
    "- если сумма покупок менее 10 тыс руб — скидка 0%.\n",
    "\n",
    "Результаты расчёта запишите в словарь `discount_system` в следующем виде:\n",
    "\n",
    "- ключ — id покупателя;\n",
    "- значение — словарь вида: {'discount': 5, 'total_sum': 12000}, где `discount` — размер скидки, `total_sum` — общая сумма покупок.\n",
    "\n",
    "Используйте функции и декомпозицию.\n"
   ]
  },
  {
   "cell_type": "code",
   "execution_count": null,
   "metadata": {
    "colab": {
     "base_uri": "https://localhost:8080/"
    },
    "executionInfo": {
     "elapsed": 4,
     "status": "ok",
     "timestamp": 1634987755474,
     "user": {
      "displayName": "Yulduz Fattakhova",
      "photoUrl": "https://lh3.googleusercontent.com/a-/AOh14GiMux79i3vxuxKnCVSDClfaXbH-jvsA0woYdDAT=s64",
      "userId": "14698334089562212742"
     },
     "user_tz": -180
    },
    "id": "BlHWagWJ0J3P",
    "outputId": "1513693c-d107-4158-ab2e-e97767934d8e"
   },
   "outputs": [
    {
     "data": {
      "text/plain": [
       "{101: {'discount': 0, 'total_sum': 9000},\n",
       " 111: {'discount': 15, 'total_sum': 1001200},\n",
       " 118: {'discount': 0, 'total_sum': 8000},\n",
       " 119: {'discount': 5, 'total_sum': 13300},\n",
       " 123: {'discount': 5, 'total_sum': 14700},\n",
       " 156: {'discount': 10, 'total_sum': 19000},\n",
       " 178: {'discount': 5, 'total_sum': 12100}}"
      ]
     },
     "execution_count": 21,
     "metadata": {},
     "output_type": "execute_result"
    }
   ],
   "source": [
    "# Пример результата\n",
    "discount_system"
   ]
  },
  {
   "cell_type": "code",
   "execution_count": 30,
   "metadata": {
    "executionInfo": {
     "elapsed": 378,
     "status": "ok",
     "timestamp": 1645567161385,
     "user": {
      "displayName": "Евгения Миллер",
      "photoUrl": "https://lh3.googleusercontent.com/a-/AOh14Gj2X0dQicVOw3_uvDLm2AdkkDjMIUubVj8NCWQ6=s64",
      "userId": "01842992490389353651"
     },
     "user_tz": -180
    },
    "id": "Fw2vuFNx0J3P"
   },
   "outputs": [],
   "source": [
    "orders = [\n",
    "          (111, 3, 1200), (118, 9, 8000),\n",
    "          (111, 10, 1000000), (119, 9, 13300),\n",
    "          (156, 10, 11000), (123, 9, 11200),\n",
    "          (178, 20, 3200), (178, 5, 8900),\n",
    "          (156, 9, 8000), (123, 4, 3500),\n",
    "          (101, 9, 8000), (101, 8, 1000),\n",
    "]"
   ]
  },
  {
   "cell_type": "code",
   "execution_count": 41,
   "metadata": {
    "executionInfo": {
     "elapsed": 343,
     "status": "ok",
     "timestamp": 1645567451389,
     "user": {
      "displayName": "Евгения Миллер",
      "photoUrl": "https://lh3.googleusercontent.com/a-/AOh14Gj2X0dQicVOw3_uvDLm2AdkkDjMIUubVj8NCWQ6=s64",
      "userId": "01842992490389353651"
     },
     "user_tz": -180
    },
    "id": "mdwtUqFW0J3P"
   },
   "outputs": [],
   "source": [
    "def count_discount_system(orders):\n",
    "    discount_system = {}\n",
    "    for o in orders:\n",
    "        if o[0] not in discount_system:\n",
    "            discount_system[o[0]] = {'discount': 0, 'total_sum': 0}\n",
    "        discount_system[o[0]]['total_sum'] += o[2]\n",
    "        discount_system[o[0]]['discount'] = update_discount(discount_system[o[0]])\n",
    "\n",
    "    return discount_system"
   ]
  },
  {
   "cell_type": "code",
   "execution_count": 42,
   "metadata": {
    "executionInfo": {
     "elapsed": 4,
     "status": "ok",
     "timestamp": 1645567452141,
     "user": {
      "displayName": "Евгения Миллер",
      "photoUrl": "https://lh3.googleusercontent.com/a-/AOh14Gj2X0dQicVOw3_uvDLm2AdkkDjMIUubVj8NCWQ6=s64",
      "userId": "01842992490389353651"
     },
     "user_tz": -180
    },
    "id": "GUeC6xhYcrVm"
   },
   "outputs": [],
   "source": [
    "def update_discount(customer):\n",
    "    if customer['total_sum'] >= 20000:\n",
    "        customer['discount'] = 15\n",
    "    elif customer['total_sum'] >= 15000: \n",
    "        customer['discount'] = 10\n",
    "    elif customer['total_sum'] >= 10000:\n",
    "        customer['discount'] = 5\n",
    "\n",
    "    return customer['discount']"
   ]
  },
  {
   "cell_type": "code",
   "execution_count": 45,
   "metadata": {
    "executionInfo": {
     "elapsed": 246,
     "status": "ok",
     "timestamp": 1645567776437,
     "user": {
      "displayName": "Евгения Миллер",
      "photoUrl": "https://lh3.googleusercontent.com/a-/AOh14Gj2X0dQicVOw3_uvDLm2AdkkDjMIUubVj8NCWQ6=s64",
      "userId": "01842992490389353651"
     },
     "user_tz": -180
    },
    "id": "HvxcJ970ciaC"
   },
   "outputs": [],
   "source": [
    "discount_system = count_discount_system(orders)"
   ]
  },
  {
   "cell_type": "code",
   "execution_count": 46,
   "metadata": {
    "colab": {
     "base_uri": "https://localhost:8080/"
    },
    "executionInfo": {
     "elapsed": 242,
     "status": "ok",
     "timestamp": 1645567782639,
     "user": {
      "displayName": "Евгения Миллер",
      "photoUrl": "https://lh3.googleusercontent.com/a-/AOh14Gj2X0dQicVOw3_uvDLm2AdkkDjMIUubVj8NCWQ6=s64",
      "userId": "01842992490389353651"
     },
     "user_tz": -180
    },
    "id": "iUCnt2Xge6fg",
    "outputId": "a2c4bde5-3d9a-40d2-f586-d012227b8efc"
   },
   "outputs": [
    {
     "data": {
      "text/plain": [
       "{101: {'discount': 0, 'total_sum': 9000},\n",
       " 111: {'discount': 15, 'total_sum': 1001200},\n",
       " 118: {'discount': 0, 'total_sum': 8000},\n",
       " 119: {'discount': 5, 'total_sum': 13300},\n",
       " 123: {'discount': 5, 'total_sum': 14700},\n",
       " 156: {'discount': 10, 'total_sum': 19000},\n",
       " 178: {'discount': 5, 'total_sum': 12100}}"
      ]
     },
     "execution_count": 46,
     "metadata": {},
     "output_type": "execute_result"
    }
   ],
   "source": [
    "discount_system"
   ]
  },
  {
   "cell_type": "markdown",
   "metadata": {
    "id": "Nj1Xz9SV0J3P"
   },
   "source": [
    "Далее напишите программу, которая будет запрашивать id пользователя и сумму его покупки. По данным скидок из словаря `discount_system` рассчитайте сумму покупки со скидкой и выведите на экран. После обновите значения `discount` и `total_sum` по данному пользователю. \n",
    "\n",
    "Если скидка изменилась, выведите сообщение о его новой скидке на последующие покупки.\n",
    "\n",
    "Если пришёл новый пользователь, просто добавьте его данные в словарь `discount_system`.\n"
   ]
  },
  {
   "cell_type": "code",
   "execution_count": null,
   "metadata": {
    "colab": {
     "base_uri": "https://localhost:8080/"
    },
    "executionInfo": {
     "elapsed": 5580,
     "status": "ok",
     "timestamp": 1634988438457,
     "user": {
      "displayName": "Yulduz Fattakhova",
      "photoUrl": "https://lh3.googleusercontent.com/a-/AOh14GiMux79i3vxuxKnCVSDClfaXbH-jvsA0woYdDAT=s64",
      "userId": "14698334089562212742"
     },
     "user_tz": -180
    },
    "id": "-ng5gO_80J3Q",
    "outputId": "6f67846f-782c-4b62-e29e-9fe5a5ea7c1a"
   },
   "outputs": [
    {
     "name": "stdout",
     "output_type": "stream",
     "text": [
      "ID?101\n",
      "Стоимость покупки?2500\n",
      "стоимость покупки с 0 = 2500.0\n",
      "Ваша программа лояльности обновилась, новая скидка: 5\n"
     ]
    }
   ],
   "source": [
    "# Пример работы программы"
   ]
  },
  {
   "cell_type": "code",
   "execution_count": 48,
   "metadata": {
    "executionInfo": {
     "elapsed": 245,
     "status": "ok",
     "timestamp": 1645568213204,
     "user": {
      "displayName": "Евгения Миллер",
      "photoUrl": "https://lh3.googleusercontent.com/a-/AOh14Gj2X0dQicVOw3_uvDLm2AdkkDjMIUubVj8NCWQ6=s64",
      "userId": "01842992490389353651"
     },
     "user_tz": -180
    },
    "id": "ejyUbBUJeOzk"
   },
   "outputs": [],
   "source": [
    "def add_order(discount_system, id, order):\n",
    "    if id not in discount_system:\n",
    "        discount_system[id] = {'discount': 0, 'total_sum': 0}\n",
    "    discount_system[id]['total_sum'] += order\n",
    "    discount_system[id]['discount'] = update_discount(discount_system[id])\n",
    "\n",
    "    return discount_system"
   ]
  },
  {
   "cell_type": "code",
   "execution_count": 22,
   "metadata": {
    "colab": {
     "base_uri": "https://localhost:8080/"
    },
    "executionInfo": {
     "elapsed": 15676,
     "status": "ok",
     "timestamp": 1645568425673,
     "user": {
      "displayName": "Евгения Миллер",
      "photoUrl": "https://lh3.googleusercontent.com/a-/AOh14Gj2X0dQicVOw3_uvDLm2AdkkDjMIUubVj8NCWQ6=s64",
      "userId": "01842992490389353651"
     },
     "user_tz": -180
    },
    "id": "L4UJjWT70J3Q",
    "outputId": "e41e6ad3-8eda-4ff2-96e4-31cce69f93dc"
   },
   "outputs": [
    {
     "name": "stdout",
     "output_type": "stream",
     "text": [
      "ID? 111\n",
      "Стоимость покупки? 3000\n"
     ]
    },
    {
     "ename": "NameError",
     "evalue": "name 'discount_system' is not defined",
     "output_type": "error",
     "traceback": [
      "\u001b[1;31m---------------------------------------------------------------------------\u001b[0m",
      "\u001b[1;31mNameError\u001b[0m                                 Traceback (most recent call last)",
      "\u001b[1;32m~\\AppData\\Local\\Temp\\ipykernel_10436\\1523166654.py\u001b[0m in \u001b[0;36m<module>\u001b[1;34m\u001b[0m\n\u001b[0;32m      2\u001b[0m \u001b[0morder\u001b[0m \u001b[1;33m=\u001b[0m \u001b[0mfloat\u001b[0m\u001b[1;33m(\u001b[0m\u001b[0minput\u001b[0m\u001b[1;33m(\u001b[0m\u001b[1;34m'Стоимость покупки? '\u001b[0m\u001b[1;33m)\u001b[0m\u001b[1;33m)\u001b[0m\u001b[1;33m\u001b[0m\u001b[1;33m\u001b[0m\u001b[0m\n\u001b[0;32m      3\u001b[0m \u001b[1;33m\u001b[0m\u001b[0m\n\u001b[1;32m----> 4\u001b[1;33m \u001b[1;32mif\u001b[0m \u001b[0mid\u001b[0m \u001b[1;32mnot\u001b[0m \u001b[1;32min\u001b[0m \u001b[0mdiscount_system\u001b[0m\u001b[1;33m:\u001b[0m\u001b[1;33m\u001b[0m\u001b[1;33m\u001b[0m\u001b[0m\n\u001b[0m\u001b[0;32m      5\u001b[0m     \u001b[0mdiscount\u001b[0m \u001b[1;33m=\u001b[0m \u001b[1;36m0\u001b[0m\u001b[1;33m\u001b[0m\u001b[1;33m\u001b[0m\u001b[0m\n\u001b[0;32m      6\u001b[0m \u001b[1;32melse\u001b[0m\u001b[1;33m:\u001b[0m\u001b[1;33m\u001b[0m\u001b[1;33m\u001b[0m\u001b[0m\n",
      "\u001b[1;31mNameError\u001b[0m: name 'discount_system' is not defined"
     ]
    }
   ],
   "source": [
    "id = int(input('ID? '))\n",
    "order = float(input('Стоимость покупки? '))\n",
    "\n",
    "if id not in discount_system:\n",
    "    discount = 0\n",
    "else: \n",
    "    discount = discount_system[id]['discount']\n",
    "new_price = order*(1-discount/100)\n",
    "print(f'Стоимость покупки со скидкой {discount} = {new_price}')\n",
    "\n",
    "discount_system = add_order(discount_system, id, new_price)\n",
    "\n",
    "if discount_system[id]['discount'] != discount:\n",
    "    print('Ваша программа лояльности обновилась, новая скидка:', discount_system[id]['discount'])\n"
   ]
  },
  {
   "cell_type": "code",
   "execution_count": 53,
   "metadata": {
    "colab": {
     "base_uri": "https://localhost:8080/"
    },
    "executionInfo": {
     "elapsed": 248,
     "status": "ok",
     "timestamp": 1645568333242,
     "user": {
      "displayName": "Евгения Миллер",
      "photoUrl": "https://lh3.googleusercontent.com/a-/AOh14Gj2X0dQicVOw3_uvDLm2AdkkDjMIUubVj8NCWQ6=s64",
      "userId": "01842992490389353651"
     },
     "user_tz": -180
    },
    "id": "7kbC6s2QesRL",
    "outputId": "bf7e3cb4-c153-4d8a-b10e-9bc59b07f216"
   },
   "outputs": [
    {
     "data": {
      "text/plain": [
       "{101: {'discount': 5, 'total_sum': 11500.0},\n",
       " 111: {'discount': 15, 'total_sum': 1005644.0},\n",
       " 118: {'discount': 0, 'total_sum': 8000},\n",
       " 119: {'discount': 5, 'total_sum': 13300},\n",
       " 123: {'discount': 5, 'total_sum': 14700},\n",
       " 156: {'discount': 10, 'total_sum': 19000},\n",
       " 178: {'discount': 5, 'total_sum': 12100}}"
      ]
     },
     "execution_count": 53,
     "metadata": {},
     "output_type": "execute_result"
    }
   ],
   "source": [
    "discount_system"
   ]
  },
  {
   "cell_type": "code",
   "execution_count": 23,
   "metadata": {
    "id": "HoOxKrMWhBNR"
   },
   "outputs": [
    {
     "name": "stdout",
     "output_type": "stream",
     "text": [
      "hello\n"
     ]
    }
   ],
   "source": [
    "print (\"hello\")"
   ]
  },
  {
   "cell_type": "code",
   "execution_count": 29,
   "metadata": {},
   "outputs": [
    {
     "name": "stdout",
     "output_type": "stream",
     "text": [
      "11510.0\n"
     ]
    }
   ],
   "source": [
    "dictionary = {101: {'discount': 5, 'total_sum': 11500.0}}\n",
    "(dictionary[101])['total_sum'] += 10\n",
    "print ((dictionary[101])['total_sum'])"
   ]
  },
  {
   "cell_type": "code",
   "execution_count": null,
   "metadata": {},
   "outputs": [],
   "source": []
  }
 ],
 "metadata": {
  "colab": {
   "collapsed_sections": [],
   "name": "10.4_Словари_Практика.ipynb",
   "provenance": []
  },
  "kernelspec": {
   "display_name": "Python 3 (ipykernel)",
   "language": "python",
   "name": "python3"
  },
  "language_info": {
   "codemirror_mode": {
    "name": "ipython",
    "version": 3
   },
   "file_extension": ".py",
   "mimetype": "text/x-python",
   "name": "python",
   "nbconvert_exporter": "python",
   "pygments_lexer": "ipython3",
   "version": "3.9.13"
  }
 },
 "nbformat": 4,
 "nbformat_minor": 1
}
