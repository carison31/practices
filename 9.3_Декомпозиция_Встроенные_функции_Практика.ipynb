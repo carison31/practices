{
 "cells": [
  {
   "cell_type": "markdown",
   "metadata": {
    "id": "I3cIqq1_avyx"
   },
   "source": [
    "В этом практическом задании одна обязательная и одна дополнительная задача.\n",
    "\n",
    "*Обязательные задачи* нужно сделать, чтобы проверить, что вы действительно усвоили материал урока. Если у вас всё получилось, вы можете переходить к следующему уроку.\n",
    "\n",
    "*Дополнительные задачи* для тех, кто чувствует, что нужно ещё немного потренироваться и порешать задачки по программированию. \n",
    "\n",
    "Удачи!\n"
   ]
  },
  {
   "cell_type": "markdown",
   "metadata": {
    "id": "mF7WQFldayeZ"
   },
   "source": [
    "**Цели практического задания:** \n",
    "1. Научиться декомпозировать большие задачи на более маленькие с применением функций.\n",
    "2. Поработать со встроенными функциями.\n"
   ]
  },
  {
   "cell_type": "markdown",
   "metadata": {
    "id": "qSDMGVxpbOMM"
   },
   "source": [
    "---"
   ]
  },
  {
   "cell_type": "markdown",
   "metadata": {
    "id": "6m31Ptr8tFdp"
   },
   "source": [
    "**Обязательная задача**"
   ]
  },
  {
   "cell_type": "markdown",
   "metadata": {
    "id": "c8RhDlHkbRMQ"
   },
   "source": [
    "*Задача 1. Сбои в приложении*\n",
    "\n",
    "Данные о количестве жалоб на сбой в приложении такси за последние четыре недели лежат в списке `complaint_stat`, где каждый элемент — это данные за все дни одной недели. \n",
    "\n",
    "Вам нужно найти и вывести следующие значения для каждой недели:\n",
    "* Среднее количество жалоб (в случае дробного результата необходимо округлить до целого).\n",
    "* Количество дней, в которые количество жалоб было больше, чем их среднее количество.\n",
    "\n",
    "Для решения данной задачи создайте три функции:\n",
    "\n",
    "* `get_average_number` — подсчёт среднего в списке;\n",
    "* `outlier_days_count` — подсчёт количества дней, в которые количество жалоб больше, чем среднее;\n",
    "* `get_complaint_info` — получение сводной информации (среднее количество жалоб и количество дней с жалобами выше среднего) по списку.\n",
    "\n",
    "\n",
    "\n",
    "\n"
   ]
  },
  {
   "cell_type": "code",
   "execution_count": 4,
   "metadata": {
    "id": "W5WyJ5AGawI0"
   },
   "outputs": [],
   "source": [
    "complaint_stat = [\n",
    "                  [27, 22, 15, 8, 3, 16, 15],\n",
    "                  [12, 4, 10, 13, 29, 22, 121],\n",
    "                  [5, 7, 6, 13, 2, 1, 25],\n",
    "                  [15, 6, 14, 19, 25, 7, 3]\n",
    "]"
   ]
  },
  {
   "cell_type": "code",
   "execution_count": 5,
   "metadata": {
    "id": "fSo0BZKhrhQh"
   },
   "outputs": [],
   "source": [
    "def get_average_number(week_stat):\n",
    "    average = sum(week_stat)/len(week_stat)\n",
    "    return average"
   ]
  },
  {
   "cell_type": "code",
   "execution_count": 6,
   "metadata": {
    "id": "jpcZQhvXrtpI"
   },
   "outputs": [],
   "source": [
    "def outlier_days_count(week_stat, week_avg):\n",
    "    amount = 0\n",
    "    for elem in week_stat:\n",
    "        if elem > week_avg:\n",
    "            amount += 1 \n",
    "    return amount"
   ]
  },
  {
   "cell_type": "code",
   "execution_count": 10,
   "metadata": {
    "id": "CdouUu2Vr0rw"
   },
   "outputs": [],
   "source": [
    "def get_complaint_info(complaint_stat):\n",
    "    for elem in complaint_stat:\n",
    "        average = get_average_number(elem)\n",
    "        amount = outlier_days_count(elem, get_average_number(elem))\n",
    "        print (f\"Неделя {elem}: среднее: {int(get_average_number(elem))}, количество дней, больших среднего: {outlier_days_count(elem, get_average_number(elem))}\")"
   ]
  },
  {
   "cell_type": "code",
   "execution_count": 11,
   "metadata": {
    "colab": {
     "base_uri": "https://localhost:8080/"
    },
    "executionInfo": {
     "elapsed": 196,
     "status": "ok",
     "timestamp": 1634330650438,
     "user": {
      "displayName": "Yulduz Fattakhova",
      "photoUrl": "https://lh3.googleusercontent.com/a-/AOh14GiMux79i3vxuxKnCVSDClfaXbH-jvsA0woYdDAT=s64",
      "userId": "14698334089562212742"
     },
     "user_tz": -180
    },
    "id": "nsN3u0wwsEHo",
    "outputId": "6bb54826-945b-4edd-b7be-03b82bb7da35",
    "scrolled": false
   },
   "outputs": [
    {
     "name": "stdout",
     "output_type": "stream",
     "text": [
      "Неделя [27, 22, 15, 8, 3, 16, 15]: среднее: 15, количество дней, больших среднего: 3\n",
      "Неделя [12, 4, 10, 13, 29, 22, 121]: среднее: 30, количество дней, больших среднего: 1\n",
      "Неделя [5, 7, 6, 13, 2, 1, 25]: среднее: 8, количество дней, больших среднего: 2\n",
      "Неделя [15, 6, 14, 19, 25, 7, 3]: среднее: 12, количество дней, больших среднего: 4\n"
     ]
    }
   ],
   "source": [
    "# Результат работы функции\n",
    "get_complaint_info(complaint_stat)"
   ]
  },
  {
   "cell_type": "markdown",
   "metadata": {
    "id": "lGPV3njFuLCK"
   },
   "source": [
    "**Дополнительная задача**"
   ]
  },
  {
   "cell_type": "markdown",
   "metadata": {
    "id": "388upBSYzy5s"
   },
   "source": [
    "*Задача 2. Скользящее среднее*\n",
    "\n",
    "Представьте, что у вас есть данные по количеству обращений, зарегистрированных за последние семь дней: [1, 2, 10, 3, 2, 4, 5]. Вам нужно понять, какой средний уровень обращений за этот период. Если посчитать среднее, получим `3,375`, однако на расчёт среднего влияет выброс, отмеченный на картинке красным, так как он сильно отличается от общего уровня обращений.\n",
    "\n",
    "![moving average](https://drive.google.com/uc?id=1GwcpGqId40Jck8p9vmihkKeViDeBHK4H)\n",
    "\n",
    "Один из методов борьбы с выбросами — это их замена другими значениями. Один из вариантов такой замены — это скользящее среднее. \n",
    "\n",
    "Скользящее среднее — это функция, которая описывает среднее значение за некоторый предыдущий период. Длина периода называется `window` (окно). \n",
    "\n",
    "Например, для списка значений `[1, 2, 10, 3, 2, 4, 5]` нужно рассчитать скользящие средние с окном 2.\n",
    "\n",
    "**Для элемента 1**: скользящего среднего нет, так как у нас пока только одно значение функции.<br>\n",
    "**Для элемента 2**: скользящее среднее = (1 + 2) / 2 = 1,5.<br>\n",
    "**Для элемента 10**: скользящее среднее = (2 + 10) / 2 = 6 и так далее.\n",
    "\n",
    "1. Напишите программу, которая рассчитывает скользящие средние для входного списка `input_data` c окном `window`.\n",
    "\n",
    "\n",
    "\n"
   ]
  },
  {
   "cell_type": "code",
   "execution_count": 24,
   "metadata": {
    "id": "ybtFX2SOyn_d"
   },
   "outputs": [],
   "source": [
    "def moving_average(input_data, window):\n",
    "    result = []\n",
    "    for i in range (len(input_data)):\n",
    "        if i > window - 2:\n",
    "            summary = 0\n",
    "            for j in range (window):\n",
    "                summary += input_data[i-j]\n",
    "            average = summary/window\n",
    "            result.append(average)\n",
    "        else:\n",
    "            result.append(0)\n",
    "    return result"
   ]
  },
  {
   "cell_type": "code",
   "execution_count": 25,
   "metadata": {
    "colab": {
     "base_uri": "https://localhost:8080/"
    },
    "executionInfo": {
     "elapsed": 278,
     "status": "ok",
     "timestamp": 1634636224403,
     "user": {
      "displayName": "Yulduz Fattakhova",
      "photoUrl": "https://lh3.googleusercontent.com/a-/AOh14GiMux79i3vxuxKnCVSDClfaXbH-jvsA0woYdDAT=s64",
      "userId": "14698334089562212742"
     },
     "user_tz": -180
    },
    "id": "Mg6s8eqvyisZ",
    "outputId": "305206ab-fcac-4ecf-c10c-c9ec80f72ec9"
   },
   "outputs": [
    {
     "data": {
      "text/plain": [
       "[0, 1.5, 6.0, 6.5, 2.5, 3.0, 4.5]"
      ]
     },
     "execution_count": 25,
     "metadata": {},
     "output_type": "execute_result"
    }
   ],
   "source": [
    "input_data = [1, 2, 10, 3, 2, 4, 5]\n",
    "moving_average(input_data, 2)"
   ]
  },
  {
   "cell_type": "code",
   "execution_count": 34,
   "metadata": {
    "colab": {
     "base_uri": "https://localhost:8080/"
    },
    "executionInfo": {
     "elapsed": 283,
     "status": "ok",
     "timestamp": 1634636277863,
     "user": {
      "displayName": "Yulduz Fattakhova",
      "photoUrl": "https://lh3.googleusercontent.com/a-/AOh14GiMux79i3vxuxKnCVSDClfaXbH-jvsA0woYdDAT=s64",
      "userId": "14698334089562212742"
     },
     "user_tz": -180
    },
    "id": "4Wl7EHCX6ZK_",
    "outputId": "49b336d2-a325-47dc-ee4f-41dc1d5dbd7a"
   },
   "outputs": [
    {
     "data": {
      "text/plain": [
       "[0, 0, 0, 0, 3.6, 4.2, 4.8]"
      ]
     },
     "execution_count": 34,
     "metadata": {},
     "output_type": "execute_result"
    }
   ],
   "source": [
    "input_data = [1, 2, 10, 3, 2, 4, 5]\n",
    "moving_average(input_data, 5)\n"
   ]
  },
  {
   "cell_type": "markdown",
   "metadata": {
    "id": "-AFnphBQ6w22"
   },
   "source": [
    "2. Теперь напишите программу, которая рассчитывает среднее значение на списке `input_data`, после чего заменяет самое максимальное значение на соответствующее значение скользящего среднего с окном 3 и рассчитывает новое значение среднего.\n"
   ]
  },
  {
   "cell_type": "code",
   "execution_count": 35,
   "metadata": {
    "colab": {
     "base_uri": "https://localhost:8080/"
    },
    "executionInfo": {
     "elapsed": 244,
     "status": "ok",
     "timestamp": 1635765712392,
     "user": {
      "displayName": "Евгения Миллер",
      "photoUrl": "https://lh3.googleusercontent.com/a-/AOh14Gj2X0dQicVOw3_uvDLm2AdkkDjMIUubVj8NCWQ6=s64",
      "userId": "01842992490389353651"
     },
     "user_tz": -180
    },
    "id": "c13iZ1ZjO5Z0",
    "outputId": "562ebfa2-7428-495a-b56e-510c4caadcdc"
   },
   "outputs": [],
   "source": [
    "def all_average(input_data):\n",
    "    return sum(input_data)/len(input_data)"
   ]
  },
  {
   "cell_type": "code",
   "execution_count": 36,
   "metadata": {},
   "outputs": [],
   "source": [
    "def linear_search(input_data, target):\n",
    "    for i in range (len(input_data)):\n",
    "        if target == input_data[i]:\n",
    "            return i\n",
    "    return None \n",
    "    "
   ]
  },
  {
   "cell_type": "code",
   "execution_count": 37,
   "metadata": {
    "id": "AjjXZeSG6hDE"
   },
   "outputs": [],
   "source": [
    "# функция замены выброса\n",
    "def replace_outlier(input_data):\n",
    "    temp = input_data\n",
    "    temp[linear_search(input_data, max(input_data))] = all_average(input_data)\n",
    "    return temp"
   ]
  },
  {
   "cell_type": "code",
   "execution_count": 38,
   "metadata": {
    "colab": {
     "base_uri": "https://localhost:8080/"
    },
    "executionInfo": {
     "elapsed": 275,
     "status": "ok",
     "timestamp": 1634637337198,
     "user": {
      "displayName": "Yulduz Fattakhova",
      "photoUrl": "https://lh3.googleusercontent.com/a-/AOh14GiMux79i3vxuxKnCVSDClfaXbH-jvsA0woYdDAT=s64",
      "userId": "14698334089562212742"
     },
     "user_tz": -180
    },
    "id": "d6lX_ob98vKj",
    "outputId": "576dd2b4-f405-45b4-aa73-6f7a8fce531a"
   },
   "outputs": [
    {
     "name": "stdout",
     "output_type": "stream",
     "text": [
      "[1, 2, 3.857142857142857, 3, 2, 4, 5]\n"
     ]
    }
   ],
   "source": [
    "replace_outlier(input_data)\n",
    "print (input_data)"
   ]
  },
  {
   "cell_type": "code",
   "execution_count": null,
   "metadata": {
    "id": "SH6PKu-7-fQr"
   },
   "outputs": [],
   "source": []
  },
  {
   "cell_type": "markdown",
   "metadata": {
    "id": "uXM650Sa8zS_"
   },
   "source": [
    "|\n",
    "\n",
    "|\n",
    "\n",
    "|\n",
    "\n",
    "|\n",
    "\n",
    "|\n",
    "\n",
    "|\n",
    "\n",
    "|\n",
    "\n",
    "|\n",
    "\n",
    "|\n",
    "\n",
    "|\n",
    "\n",
    "|\n",
    "\n",
    "|\n",
    "\n",
    "|\n",
    "\n",
    "|\n",
    "\n",
    "|\n",
    "\n",
    "|\n",
    "\n",
    "|\n",
    "\n",
    "|\n",
    "\n",
    "|\n"
   ]
  },
  {
   "cell_type": "markdown",
   "metadata": {
    "id": "2L3ZdG3j82cC"
   },
   "source": [
    "## Решения"
   ]
  },
  {
   "cell_type": "markdown",
   "metadata": {
    "id": "Kn3GuYjm9Bwk"
   },
   "source": [
    "**Обязательная задача**"
   ]
  },
  {
   "cell_type": "markdown",
   "metadata": {
    "id": "Zb8NuRl99Bwk"
   },
   "source": [
    "*Задача 1. Сбои в приложении*\n",
    "\n",
    "Данные о количестве жалоб на сбой в приложении такси за последние четыре недели лежат в списке `complaint_stat`, где каждый элемент — это данные за все дни одной недели. \n",
    "\n",
    "Вам нужно найти и вывести следующие значения для каждой недели:\n",
    "* Среднее количество жалоб (в случае дробного результата необходимо округлить до целого).\n",
    "* Количество дней, в которые количество жалоб было больше, чем их среднее количество.\n",
    "\n",
    "Для решения данной задачи создайте три функции:\n",
    "\n",
    "* `get_average_number` — подсчёт среднего в списке;\n",
    "* `outlier_days_count` — подсчёт количества дней, в которые количество жалоб больше, чем среднее;\n",
    "* `get_complaint_info` — получение сводной информации (среднее количество жалоб и количество дней с жалобами выше среднего) по списку.\n",
    "\n",
    "\n",
    "\n",
    "\n"
   ]
  },
  {
   "cell_type": "code",
   "execution_count": 1,
   "metadata": {
    "executionInfo": {
     "elapsed": 5,
     "status": "ok",
     "timestamp": 1643831402345,
     "user": {
      "displayName": "Евгения Миллер",
      "photoUrl": "https://lh3.googleusercontent.com/a-/AOh14Gj2X0dQicVOw3_uvDLm2AdkkDjMIUubVj8NCWQ6=s64",
      "userId": "01842992490389353651"
     },
     "user_tz": -180
    },
    "id": "wXqi7iFO9Bwl"
   },
   "outputs": [],
   "source": [
    "complaint_stat = [\n",
    "                  [27, 22, 15, 8, 3, 16, 15],\n",
    "                  [12, 4, 10, 13, 29, 22, 121],\n",
    "                  [5, 7, 6, 13, 2, 1, 25],\n",
    "                  [15, 6, 14, 19, 25, 7, 3]\n",
    "]"
   ]
  },
  {
   "cell_type": "code",
   "execution_count": 2,
   "metadata": {
    "executionInfo": {
     "elapsed": 3,
     "status": "ok",
     "timestamp": 1643831402345,
     "user": {
      "displayName": "Евгения Миллер",
      "photoUrl": "https://lh3.googleusercontent.com/a-/AOh14Gj2X0dQicVOw3_uvDLm2AdkkDjMIUubVj8NCWQ6=s64",
      "userId": "01842992490389353651"
     },
     "user_tz": -180
    },
    "id": "iKwf7d3U9Bwl"
   },
   "outputs": [],
   "source": [
    "def get_average_number(week_stat):\n",
    "\n",
    "    return round(sum(week_stat) / 7)"
   ]
  },
  {
   "cell_type": "code",
   "execution_count": 3,
   "metadata": {
    "executionInfo": {
     "elapsed": 4,
     "status": "ok",
     "timestamp": 1643831402346,
     "user": {
      "displayName": "Евгения Миллер",
      "photoUrl": "https://lh3.googleusercontent.com/a-/AOh14Gj2X0dQicVOw3_uvDLm2AdkkDjMIUubVj8NCWQ6=s64",
      "userId": "01842992490389353651"
     },
     "user_tz": -180
    },
    "id": "wcB3aXgg9Bwl"
   },
   "outputs": [],
   "source": [
    "def outlier_days_count(week_stat, week_avg):\n",
    "    outlier_days = 0\n",
    "\n",
    "    for day in week_stat:\n",
    "        if day > week_avg:\n",
    "            outlier_days += 1\n",
    "\n",
    "    return outlier_days"
   ]
  },
  {
   "cell_type": "code",
   "execution_count": 6,
   "metadata": {
    "executionInfo": {
     "elapsed": 467,
     "status": "ok",
     "timestamp": 1643831429420,
     "user": {
      "displayName": "Евгения Миллер",
      "photoUrl": "https://lh3.googleusercontent.com/a-/AOh14Gj2X0dQicVOw3_uvDLm2AdkkDjMIUubVj8NCWQ6=s64",
      "userId": "01842992490389353651"
     },
     "user_tz": -180
    },
    "id": "LLxkQHts9Bwl"
   },
   "outputs": [],
   "source": [
    "def get_complaint_info(complaint_stat):\n",
    "    for week_stat in complaint_stat:\n",
    "        week_avg = get_average_number(week_stat)\n",
    "        outlier_days = outlier_days_count(week_stat, week_avg)\n",
    "        print('Неделя ' + str(week_stat) + ': среднее = ' + str(week_avg) + \n",
    "              ', количество дней, больших среднего: ' + str(outlier_days))"
   ]
  },
  {
   "cell_type": "code",
   "execution_count": null,
   "metadata": {
    "colab": {
     "base_uri": "https://localhost:8080/"
    },
    "executionInfo": {
     "elapsed": 196,
     "status": "ok",
     "timestamp": 1634330650438,
     "user": {
      "displayName": "Yulduz Fattakhova",
      "photoUrl": "https://lh3.googleusercontent.com/a-/AOh14GiMux79i3vxuxKnCVSDClfaXbH-jvsA0woYdDAT=s64",
      "userId": "14698334089562212742"
     },
     "user_tz": -180
    },
    "id": "UubWgdPD9Bwl",
    "outputId": "6bb54826-945b-4edd-b7be-03b82bb7da35"
   },
   "outputs": [
    {
     "name": "stdout",
     "output_type": "stream",
     "text": [
      "Неделя [27, 22, 15, 8, 3, 16, 15]: среднее = 15, количество дней, больших среднего: 3\n",
      "Неделя [12, 4, 10, 13, 29, 22, 121]: среднее = 30, количество дней, больших среднего: 1\n",
      "Неделя [5, 7, 6, 13, 2, 1, 25]: среднее = 8, количество дней, больших среднего: 2\n",
      "Неделя [15, 6, 14, 19, 25, 7, 3]: среднее = 12, количество дней, больших среднего: 4\n"
     ]
    }
   ],
   "source": [
    "# Результат работы функции\n",
    "get_complaint_info(complaint_stat)"
   ]
  },
  {
   "cell_type": "markdown",
   "metadata": {
    "id": "unbDwTaj9Bwl"
   },
   "source": [
    "**Дополнительная задача**"
   ]
  },
  {
   "cell_type": "markdown",
   "metadata": {
    "id": "9H2LhSnX9Bwl"
   },
   "source": [
    "*Задача 2. Скользящее среднее*\n",
    "\n",
    "Представьте, что у вас есть данные по количеству обращений, зарегистрированных за последние семь дней: [1, 2, 10, 3, 2, 4, 5]. Вам нужно понять, какой средний уровень обращений за этот период. Если посчитать среднее, получим `3,375`, однако на расчёт среднего влияет выброс, отмеченный на картинке красным, так как он сильно отличается от общего уровня обращений.\n",
    "\n",
    "![moving average](https://drive.google.com/uc?id=1GwcpGqId40Jck8p9vmihkKeViDeBHK4H)\n",
    "\n",
    "Один из методов борьбы с выбросами — это их замена другими значениями. Один из вариантов такой замены — это скользящее среднее. \n",
    "\n",
    "Скользящее среднее — это функция, которая описывает среднее значение за некоторый предыдущий период. Длина периода называется `window` (окно). \n",
    "\n",
    "Например, для списка значений `[1, 2, 10, 3, 2, 4, 5]` нужно рассчитать скользящие средние с окном 2.\n",
    "\n",
    "**Для элемента 1**: скользящего среднего нет, так как у нас пока только одно значение функции.<br>\n",
    "**Для элемента 2**: скользящее среднее = (1 + 2) / 2 = 1,5.<br>\n",
    "**Для элемента 10**: скользящее среднее = (2 + 10) / 2 = 6 и так далее.\n",
    "\n",
    "1. Напишите программу, которая рассчитывает скользящие средние для входного списка `input_data` c окном `window`.\n",
    "\n",
    "\n",
    "\n"
   ]
  },
  {
   "cell_type": "code",
   "execution_count": 40,
   "metadata": {
    "executionInfo": {
     "elapsed": 2,
     "status": "ok",
     "timestamp": 1643832524385,
     "user": {
      "displayName": "Евгения Миллер",
      "photoUrl": "https://lh3.googleusercontent.com/a-/AOh14Gj2X0dQicVOw3_uvDLm2AdkkDjMIUubVj8NCWQ6=s64",
      "userId": "01842992490389353651"
     },
     "user_tz": -180
    },
    "id": "NuaRczo-9Bwl"
   },
   "outputs": [],
   "source": [
    "def moving_average(input_data, window):\n",
    "    mov_avgs = []\n",
    "    for i in range(1, len(input_data)+1):\n",
    "        if i < window:\n",
    "            mov_avgs.append(0)\n",
    "        else:\n",
    "            mov_avgs.append(sum(input_data[i-window:i]) / window)\n",
    "    \n",
    "    return mov_avgs"
   ]
  },
  {
   "cell_type": "code",
   "execution_count": 49,
   "metadata": {
    "colab": {
     "base_uri": "https://localhost:8080/"
    },
    "executionInfo": {
     "elapsed": 317,
     "status": "ok",
     "timestamp": 1643833073927,
     "user": {
      "displayName": "Евгения Миллер",
      "photoUrl": "https://lh3.googleusercontent.com/a-/AOh14Gj2X0dQicVOw3_uvDLm2AdkkDjMIUubVj8NCWQ6=s64",
      "userId": "01842992490389353651"
     },
     "user_tz": -180
    },
    "id": "UvbvXomY9Bwl",
    "outputId": "ceb15ff0-ba02-4687-cf40-8bd0f32783dd"
   },
   "outputs": [
    {
     "data": {
      "text/plain": [
       "[0, 1.5, 6.0, 6.5, 2.5, 3.0, 4.5]"
      ]
     },
     "execution_count": 49,
     "metadata": {},
     "output_type": "execute_result"
    }
   ],
   "source": [
    "input_data = [1, 2, 10, 3, 2, 4, 5]\n",
    "moving_average(input_data, 2)"
   ]
  },
  {
   "cell_type": "code",
   "execution_count": 42,
   "metadata": {
    "colab": {
     "base_uri": "https://localhost:8080/"
    },
    "executionInfo": {
     "elapsed": 313,
     "status": "ok",
     "timestamp": 1643832531802,
     "user": {
      "displayName": "Евгения Миллер",
      "photoUrl": "https://lh3.googleusercontent.com/a-/AOh14Gj2X0dQicVOw3_uvDLm2AdkkDjMIUubVj8NCWQ6=s64",
      "userId": "01842992490389353651"
     },
     "user_tz": -180
    },
    "id": "3B6jqH109Bwl",
    "outputId": "8e554e0a-1c8c-4153-965b-35880a570f62"
   },
   "outputs": [
    {
     "data": {
      "text/plain": [
       "[0, 0, 4.333333333333333, 5.0, 5.0, 3.0, 3.6666666666666665]"
      ]
     },
     "execution_count": 42,
     "metadata": {},
     "output_type": "execute_result"
    }
   ],
   "source": [
    "input_data = [1, 2, 10, 3, 2, 4, 5]\n",
    "moving_average(input_data, 3)\n"
   ]
  },
  {
   "cell_type": "markdown",
   "metadata": {
    "id": "0HqbT_Gh9Bwl"
   },
   "source": [
    "2. Теперь напишите программу, которая рассчитывает среднее значение на списке `input_data`, после чего заменяет самое максимальное значение на соответствующее значение скользящего среднего с окном 3 и рассчитывает новое значение среднего.\n"
   ]
  },
  {
   "cell_type": "code",
   "execution_count": null,
   "metadata": {
    "colab": {
     "base_uri": "https://localhost:8080/"
    },
    "executionInfo": {
     "elapsed": 244,
     "status": "ok",
     "timestamp": 1635765712392,
     "user": {
      "displayName": "Евгения Миллер",
      "photoUrl": "https://lh3.googleusercontent.com/a-/AOh14Gj2X0dQicVOw3_uvDLm2AdkkDjMIUubVj8NCWQ6=s64",
      "userId": "01842992490389353651"
     },
     "user_tz": -180
    },
    "id": "0RZr86XO9Bwm",
    "outputId": "562ebfa2-7428-495a-b56e-510c4caadcdc"
   },
   "outputs": [
    {
     "data": {
      "text/plain": [
       "3.857142857142857"
      ]
     },
     "execution_count": 26,
     "metadata": {},
     "output_type": "execute_result"
    }
   ],
   "source": [
    "sum(input_data)/len(input_data)"
   ]
  },
  {
   "cell_type": "code",
   "execution_count": 54,
   "metadata": {
    "executionInfo": {
     "elapsed": 321,
     "status": "ok",
     "timestamp": 1643833289240,
     "user": {
      "displayName": "Евгения Миллер",
      "photoUrl": "https://lh3.googleusercontent.com/a-/AOh14Gj2X0dQicVOw3_uvDLm2AdkkDjMIUubVj8NCWQ6=s64",
      "userId": "01842992490389353651"
     },
     "user_tz": -180
    },
    "id": "-mL07DMp9Bwm"
   },
   "outputs": [],
   "source": [
    "# функция замены выброса\n",
    "def replace_outlier(input_data):\n",
    "    mov_avgs = moving_average(input_data, 3)\n",
    "\n",
    "    max_index = 0\n",
    "    for i in range(len(input_data)): #находим индекс максимального элемента\n",
    "        if input_data[i] > input_data[max_index]:\n",
    "            max_index = i\n",
    "\n",
    "    new_data = input_data.copy()\n",
    "    new_data[max_index] = mov_avgs[max_index]\n",
    "\n",
    "    print('до:', sum(input_data)/len(input_data), \n",
    "          'после:', sum(new_data)/len(new_data))\n"
   ]
  },
  {
   "cell_type": "code",
   "execution_count": 55,
   "metadata": {
    "colab": {
     "base_uri": "https://localhost:8080/"
    },
    "executionInfo": {
     "elapsed": 325,
     "status": "ok",
     "timestamp": 1643833291038,
     "user": {
      "displayName": "Евгения Миллер",
      "photoUrl": "https://lh3.googleusercontent.com/a-/AOh14Gj2X0dQicVOw3_uvDLm2AdkkDjMIUubVj8NCWQ6=s64",
      "userId": "01842992490389353651"
     },
     "user_tz": -180
    },
    "id": "zRt5TGUnFsBK",
    "outputId": "61a4156f-fe2a-4d22-ef19-e45294a2b067"
   },
   "outputs": [
    {
     "data": {
      "text/plain": [
       "[0, 0, 4.333333333333333, 5.0, 5.0, 3.0, 3.6666666666666665]"
      ]
     },
     "execution_count": 55,
     "metadata": {},
     "output_type": "execute_result"
    }
   ],
   "source": [
    "input_data = [1, 2, 10, 3, 2, 4, 5]\n",
    "moving_average(input_data, 3)"
   ]
  },
  {
   "cell_type": "code",
   "execution_count": 56,
   "metadata": {
    "colab": {
     "base_uri": "https://localhost:8080/"
    },
    "executionInfo": {
     "elapsed": 2,
     "status": "ok",
     "timestamp": 1643833293109,
     "user": {
      "displayName": "Евгения Миллер",
      "photoUrl": "https://lh3.googleusercontent.com/a-/AOh14Gj2X0dQicVOw3_uvDLm2AdkkDjMIUubVj8NCWQ6=s64",
      "userId": "01842992490389353651"
     },
     "user_tz": -180
    },
    "id": "ZkwigkhWFHQM",
    "outputId": "7e2c80c2-a5ad-44a4-c248-b65efa49ff00"
   },
   "outputs": [
    {
     "name": "stdout",
     "output_type": "stream",
     "text": [
      "до: 3.857142857142857 после: 3.0476190476190474\n"
     ]
    }
   ],
   "source": [
    "replace_outlier(input_data)"
   ]
  },
  {
   "cell_type": "code",
   "execution_count": null,
   "metadata": {
    "colab": {
     "base_uri": "https://localhost:8080/"
    },
    "executionInfo": {
     "elapsed": 275,
     "status": "ok",
     "timestamp": 1634637337198,
     "user": {
      "displayName": "Yulduz Fattakhova",
      "photoUrl": "https://lh3.googleusercontent.com/a-/AOh14GiMux79i3vxuxKnCVSDClfaXbH-jvsA0woYdDAT=s64",
      "userId": "14698334089562212742"
     },
     "user_tz": -180
    },
    "id": "H7ybWpll9Bwm",
    "outputId": "576dd2b4-f405-45b4-aa73-6f7a8fce531a"
   },
   "outputs": [
    {
     "name": "stdout",
     "output_type": "stream",
     "text": [
      "до: 3.857142857142857 после: 3.0476190476190474\n"
     ]
    }
   ],
   "source": [
    "# пример вывода"
   ]
  }
 ],
 "metadata": {
  "colab": {
   "collapsed_sections": [],
   "name": "9.3_Декомпозиция_Встроенные_функции_Практика.ipynb",
   "provenance": []
  },
  "kernelspec": {
   "display_name": "Python 3 (ipykernel)",
   "language": "python",
   "name": "python3"
  },
  "language_info": {
   "codemirror_mode": {
    "name": "ipython",
    "version": 3
   },
   "file_extension": ".py",
   "mimetype": "text/x-python",
   "name": "python",
   "nbconvert_exporter": "python",
   "pygments_lexer": "ipython3",
   "version": "3.9.13"
  }
 },
 "nbformat": 4,
 "nbformat_minor": 1
}
