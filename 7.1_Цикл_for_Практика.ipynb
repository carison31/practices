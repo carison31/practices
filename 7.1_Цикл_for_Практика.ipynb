{
 "cells": [
  {
   "cell_type": "markdown",
   "metadata": {
    "id": "ZCPtkMMt37VH"
   },
   "source": [
    "1. С помощью цикла выведите на печать все числа от 5 до 60."
   ]
  },
  {
   "cell_type": "code",
   "execution_count": 2,
   "metadata": {
    "id": "uK-bU3VF37xu"
   },
   "outputs": [
    {
     "name": "stdout",
     "output_type": "stream",
     "text": [
      "5\n",
      "6\n",
      "7\n",
      "8\n",
      "9\n",
      "10\n",
      "11\n",
      "12\n",
      "13\n",
      "14\n",
      "15\n",
      "16\n",
      "17\n",
      "18\n",
      "19\n",
      "20\n",
      "21\n",
      "22\n",
      "23\n",
      "24\n",
      "25\n",
      "26\n",
      "27\n",
      "28\n",
      "29\n",
      "30\n",
      "31\n",
      "32\n",
      "33\n",
      "34\n",
      "35\n",
      "36\n",
      "37\n",
      "38\n",
      "39\n",
      "40\n",
      "41\n",
      "42\n",
      "43\n",
      "44\n",
      "45\n",
      "46\n",
      "47\n",
      "48\n",
      "49\n",
      "50\n",
      "51\n",
      "52\n",
      "53\n",
      "54\n",
      "55\n",
      "56\n",
      "57\n",
      "58\n",
      "59\n",
      "60\n"
     ]
    }
   ],
   "source": [
    "for number in range (5, 61):\n",
    "    print (number)"
   ]
  },
  {
   "cell_type": "markdown",
   "metadata": {
    "id": "bJMSN_P9Tfbx"
   },
   "source": [
    "2. Напишите цикл, который выводит на печать числа, если они делятся на четыре без остатка. Расчёт должен начинаться с пяти и заканчиваться на 60 включительно. "
   ]
  },
  {
   "cell_type": "code",
   "execution_count": 4,
   "metadata": {
    "id": "wv9YwKEDTiuv"
   },
   "outputs": [
    {
     "name": "stdout",
     "output_type": "stream",
     "text": [
      "8\n",
      "12\n",
      "16\n",
      "20\n",
      "24\n",
      "28\n",
      "32\n",
      "36\n",
      "40\n",
      "44\n",
      "48\n",
      "52\n",
      "56\n",
      "60\n"
     ]
    }
   ],
   "source": [
    "for number in range (5, 61):\n",
    "    if number % 4 == 0:\n",
    "        print (number)"
   ]
  },
  {
   "cell_type": "markdown",
   "metadata": {
    "id": "XQ_RjJsUTLFf"
   },
   "source": [
    "3. Представьте, что вы начали работать на новой должности со стартовой зарплатой в 80 тысяч рублей. Каждый год ваша зарплата будет расти на 15 % по сравнению с предыдущим годом. Напишите цикл, который показал бы размер вашей зарплаты каждый год в ближайшие семь лет. "
   ]
  },
  {
   "cell_type": "code",
   "execution_count": 6,
   "metadata": {
    "id": "gNygwoN1Uwkv"
   },
   "outputs": [
    {
     "name": "stdout",
     "output_type": "stream",
     "text": [
      "80000 1\n",
      "92000.0 2\n",
      "105799.99999999999 3\n",
      "121669.99999999997 4\n",
      "139920.49999999994 5\n",
      "160908.57499999992 6\n",
      "185044.8612499999 7\n"
     ]
    }
   ],
   "source": [
    "salary = 80000\n",
    "for years in range (1, 8):\n",
    "    print(salary, years)\n",
    "    salary *= 1.15"
   ]
  },
  {
   "cell_type": "markdown",
   "metadata": {
    "id": "ca2WcpJdUxqQ"
   },
   "source": [
    "4. Если в качестве шага в функции `range()` указать отрицательное число, то она будет отсчитывать диапазон не по возрастанию, а по убыванию. Учитывая это, напишите цикл, который выводит на печать все чётные числа. Диапазон должен начинаться с 20 и заканчиваться на двух включительно. "
   ]
  },
  {
   "cell_type": "code",
   "execution_count": 9,
   "metadata": {
    "id": "rskSZ2TeYQVM"
   },
   "outputs": [
    {
     "name": "stdout",
     "output_type": "stream",
     "text": [
      "20\n",
      "18\n",
      "16\n",
      "14\n",
      "12\n",
      "10\n",
      "8\n",
      "6\n",
      "4\n",
      "2\n"
     ]
    }
   ],
   "source": [
    "for i in range (20, 1, -1):\n",
    "    if i % 2 == 0:\n",
    "        print (i)"
   ]
  },
  {
   "cell_type": "markdown",
   "metadata": {
    "id": "Yrd3SC3Q4IRG"
   },
   "source": [
    "5. В уроке мы разбирали циклы, которые опираются на перебор значений. У нас это были месяцы."
   ]
  },
  {
   "cell_type": "code",
   "execution_count": null,
   "metadata": {
    "id": "sZPIgv3_4MzF"
   },
   "outputs": [],
   "source": [
    "# Пример из урока:\n",
    "price = 139990\n",
    "for months in 3, 6, 9, 12:\n",
    "    print(\"При рассрочке на\", months, 'мес. - ', price/months)"
   ]
  },
  {
   "cell_type": "markdown",
   "metadata": {
    "id": "Hj5BYEn64RNB"
   },
   "source": [
    "Вместо напрямую указанных чисел мы могли бы перебирать переменные. В ячейке ниже даны три переменные. Напишите цикл, который бы выводил на печать квадраты этих переменных."
   ]
  },
  {
   "cell_type": "code",
   "execution_count": 16,
   "metadata": {
    "id": "yBS7kYzt4aTX"
   },
   "outputs": [
    {
     "name": "stdout",
     "output_type": "stream",
     "text": [
      "625\n",
      "4084441\n",
      "9900.25\n"
     ]
    }
   ],
   "source": [
    "# Переменные для упражнения\n",
    "a = 25\n",
    "b = 2021\n",
    "c = 99.5\n",
    "\n",
    "# Цикл, который выводит на печать квадраты\n",
    "for i in a, b, c:\n",
    "    print (i ** 2)"
   ]
  },
  {
   "cell_type": "markdown",
   "metadata": {
    "id": "uB1BT8eFgc_i"
   },
   "source": [
    "|\n",
    "\n",
    "|\n",
    "\n",
    "|\n",
    "\n",
    "|\n",
    "\n",
    "|\n",
    "\n",
    "|\n",
    "\n",
    "|\n",
    "\n",
    "|\n",
    "\n",
    "|\n",
    "\n",
    "|\n",
    "\n",
    "|\n",
    "\n",
    "|\n",
    "\n",
    "|\n",
    "\n",
    "## Решения"
   ]
  },
  {
   "cell_type": "markdown",
   "metadata": {
    "id": "yB465wP8gdMT"
   },
   "source": [
    "1. С помощью цикла выведите на печать все числа от 5 до 60."
   ]
  },
  {
   "cell_type": "code",
   "execution_count": 2,
   "metadata": {
    "colab": {
     "base_uri": "https://localhost:8080/"
    },
    "executionInfo": {
     "elapsed": 293,
     "status": "ok",
     "timestamp": 1645752825432,
     "user": {
      "displayName": "Евгения Миллер",
      "photoUrl": "https://lh3.googleusercontent.com/a-/AOh14Gj2X0dQicVOw3_uvDLm2AdkkDjMIUubVj8NCWQ6=s64",
      "userId": "01842992490389353651"
     },
     "user_tz": -180
    },
    "id": "puX7HXr-gdMU",
    "outputId": "93ab292e-1730-4f1b-e964-46a183dfd0e7"
   },
   "outputs": [
    {
     "name": "stdout",
     "output_type": "stream",
     "text": [
      "5\n",
      "6\n",
      "7\n",
      "8\n",
      "9\n",
      "10\n",
      "11\n",
      "12\n",
      "13\n",
      "14\n",
      "15\n",
      "16\n",
      "17\n",
      "18\n",
      "19\n",
      "20\n",
      "21\n",
      "22\n",
      "23\n",
      "24\n",
      "25\n",
      "26\n",
      "27\n",
      "28\n",
      "29\n",
      "30\n",
      "31\n",
      "32\n",
      "33\n",
      "34\n",
      "35\n",
      "36\n",
      "37\n",
      "38\n",
      "39\n",
      "40\n",
      "41\n",
      "42\n",
      "43\n",
      "44\n",
      "45\n",
      "46\n",
      "47\n",
      "48\n",
      "49\n",
      "50\n",
      "51\n",
      "52\n",
      "53\n",
      "54\n",
      "55\n",
      "56\n",
      "57\n",
      "58\n",
      "59\n",
      "60\n"
     ]
    }
   ],
   "source": [
    "for number in range(5, 61):\n",
    "    print(number)"
   ]
  },
  {
   "cell_type": "markdown",
   "metadata": {
    "id": "bfGm_iLvgdMU"
   },
   "source": [
    "2. Напишите цикл, который выводит на печать числа, если они делятся на четыре без остатка. Расчёт должен начинаться с пяти и заканчиваться на 60 включительно. "
   ]
  },
  {
   "cell_type": "code",
   "execution_count": 3,
   "metadata": {
    "colab": {
     "base_uri": "https://localhost:8080/"
    },
    "executionInfo": {
     "elapsed": 7,
     "status": "ok",
     "timestamp": 1645752869633,
     "user": {
      "displayName": "Евгения Миллер",
      "photoUrl": "https://lh3.googleusercontent.com/a-/AOh14Gj2X0dQicVOw3_uvDLm2AdkkDjMIUubVj8NCWQ6=s64",
      "userId": "01842992490389353651"
     },
     "user_tz": -180
    },
    "id": "UWQPCsqIgdMU",
    "outputId": "d4a660d3-a90e-4e18-dd19-840e14308127"
   },
   "outputs": [
    {
     "name": "stdout",
     "output_type": "stream",
     "text": [
      "8\n",
      "12\n",
      "16\n",
      "20\n",
      "24\n",
      "28\n",
      "32\n",
      "36\n",
      "40\n",
      "44\n",
      "48\n",
      "52\n",
      "56\n",
      "60\n"
     ]
    }
   ],
   "source": [
    "for number in range(5, 61):\n",
    "    if number % 4 == 0:\n",
    "        print(number)"
   ]
  },
  {
   "cell_type": "markdown",
   "metadata": {
    "id": "UeDEk3MLgdMU"
   },
   "source": [
    "3. Представьте, что вы начали работать на новой должности со стартовой зарплатой в 80 тысяч рублей. Каждый год ваша зарплата будет расти на 15 % по сравнению с предыдущим годом. Напишите цикл, который показал бы размер вашей зарплаты каждый год в ближайшие семь лет. "
   ]
  },
  {
   "cell_type": "code",
   "execution_count": 5,
   "metadata": {
    "colab": {
     "base_uri": "https://localhost:8080/"
    },
    "executionInfo": {
     "elapsed": 291,
     "status": "ok",
     "timestamp": 1645752972358,
     "user": {
      "displayName": "Евгения Миллер",
      "photoUrl": "https://lh3.googleusercontent.com/a-/AOh14Gj2X0dQicVOw3_uvDLm2AdkkDjMIUubVj8NCWQ6=s64",
      "userId": "01842992490389353651"
     },
     "user_tz": -180
    },
    "id": "JExDns3OgdMV",
    "outputId": "7ab27c57-0a16-44bc-a095-78cbed1de2b0"
   },
   "outputs": [
    {
     "name": "stdout",
     "output_type": "stream",
     "text": [
      "92000.0\n",
      "105799.99999999999\n",
      "121669.99999999997\n",
      "139920.49999999994\n",
      "160908.57499999992\n",
      "185044.8612499999\n",
      "212801.59043749986\n"
     ]
    }
   ],
   "source": [
    "salary = 80000\n",
    "for year in range(7):\n",
    "    salary *= 1.15\n",
    "    print(salary)"
   ]
  },
  {
   "cell_type": "markdown",
   "metadata": {
    "id": "dh08WDgIgdMV"
   },
   "source": [
    "4. Если в качестве шага в функции `range()` указать отрицательное число, то она будет отсчитывать диапазон не по возрастанию, а по убыванию. Учитывая это, напишите цикл, который выводит на печать все чётные числа. Диапазон должен начинаться с 20 и заканчиваться на двух включительно. "
   ]
  },
  {
   "cell_type": "code",
   "execution_count": 7,
   "metadata": {
    "colab": {
     "base_uri": "https://localhost:8080/"
    },
    "executionInfo": {
     "elapsed": 7,
     "status": "ok",
     "timestamp": 1645753034724,
     "user": {
      "displayName": "Евгения Миллер",
      "photoUrl": "https://lh3.googleusercontent.com/a-/AOh14Gj2X0dQicVOw3_uvDLm2AdkkDjMIUubVj8NCWQ6=s64",
      "userId": "01842992490389353651"
     },
     "user_tz": -180
    },
    "id": "PcaktQNCgdMV",
    "outputId": "58602314-9a9d-4ef0-87e6-81cb080b636c"
   },
   "outputs": [
    {
     "name": "stdout",
     "output_type": "stream",
     "text": [
      "20\n",
      "18\n",
      "16\n",
      "14\n",
      "12\n",
      "10\n",
      "8\n",
      "6\n",
      "4\n",
      "2\n"
     ]
    }
   ],
   "source": [
    "for i in range(20, 1, -2):\n",
    "    print(i)"
   ]
  },
  {
   "cell_type": "markdown",
   "metadata": {
    "id": "vBa4JQI9gdMV"
   },
   "source": [
    "5. В уроке мы разбирали циклы, которые опираются на перебор значений. У нас это были месяцы."
   ]
  },
  {
   "cell_type": "code",
   "execution_count": null,
   "metadata": {
    "id": "qcwNdc8BgdMV"
   },
   "outputs": [],
   "source": [
    "# Пример из урока:\n",
    "price = 139990\n",
    "for months in 3, 6, 9, 12:\n",
    "    print(\"При рассрочке на\", months, 'мес. - ', price/months)"
   ]
  },
  {
   "cell_type": "markdown",
   "metadata": {
    "id": "xgHhdYLogdMW"
   },
   "source": [
    "Вместо напрямую указанных чисел мы могли бы перебирать переменные. В ячейке ниже даны три переменные. Напишите цикл, который бы выводил на печать квадраты этих переменных."
   ]
  },
  {
   "cell_type": "code",
   "execution_count": 8,
   "metadata": {
    "colab": {
     "base_uri": "https://localhost:8080/"
    },
    "executionInfo": {
     "elapsed": 9,
     "status": "ok",
     "timestamp": 1645753123296,
     "user": {
      "displayName": "Евгения Миллер",
      "photoUrl": "https://lh3.googleusercontent.com/a-/AOh14Gj2X0dQicVOw3_uvDLm2AdkkDjMIUubVj8NCWQ6=s64",
      "userId": "01842992490389353651"
     },
     "user_tz": -180
    },
    "id": "uN2vCbTOgdMW",
    "outputId": "2b591bd3-62ab-4f38-a539-3498537f64b4"
   },
   "outputs": [
    {
     "name": "stdout",
     "output_type": "stream",
     "text": [
      "625\n",
      "4084441\n",
      "9900.25\n"
     ]
    }
   ],
   "source": [
    "# Переменные для упражнения\n",
    "a = 25\n",
    "b = 2021\n",
    "c = 99.5\n",
    "# Цикл, который выводит на печать квадраты\n",
    "\n",
    "for var in a, b, c:\n",
    "    print(var**2)"
   ]
  },
  {
   "cell_type": "code",
   "execution_count": null,
   "metadata": {
    "id": "3cISahixh73w"
   },
   "outputs": [],
   "source": []
  }
 ],
 "metadata": {
  "colab": {
   "collapsed_sections": [],
   "name": "7.1_Цикл_for_Практика.ipynb",
   "provenance": []
  },
  "kernelspec": {
   "display_name": "Python 3 (ipykernel)",
   "language": "python",
   "name": "python3"
  },
  "language_info": {
   "codemirror_mode": {
    "name": "ipython",
    "version": 3
   },
   "file_extension": ".py",
   "mimetype": "text/x-python",
   "name": "python",
   "nbconvert_exporter": "python",
   "pygments_lexer": "ipython3",
   "version": "3.9.13"
  }
 },
 "nbformat": 4,
 "nbformat_minor": 1
}
