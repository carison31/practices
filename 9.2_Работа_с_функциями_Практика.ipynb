{
 "cells": [
  {
   "cell_type": "markdown",
   "metadata": {
    "id": "dzlIdYYYOGQn"
   },
   "source": [
    "В этом практическом задании три обязательные и одна дополнительная задача.\n",
    "\n",
    "*Обязательные задачи* нужно сделать, чтобы проверить, что вы действительно усвоили материал урока. Если у вас всё получилось, вы можете переходить к следующему уроку.\n",
    "\n",
    "*Дополнительные задачи* для тех, кто чувствует, что нужно ещё немного потренироваться и порешать задачки по программированию.\n",
    "\n",
    "Удачи!\n",
    "\n",
    "\n",
    "В конце ноутбука вы можете найти решения задач.\n"
   ]
  },
  {
   "cell_type": "markdown",
   "metadata": {
    "id": "TzXf4ITNORw6"
   },
   "source": [
    "**Цели практического задания:**\n",
    "1. Научиться объявлять функции с различным числом входных и выходных параметров.\n",
    "2. Научиться менять состав возвращаемых значений в зависимости от различных условий.\n",
    "3. Попрактиковаться в работе с `None`.\n"
   ]
  },
  {
   "cell_type": "markdown",
   "metadata": {
    "id": "SLdpPbw4O-xq"
   },
   "source": [
    "---"
   ]
  },
  {
   "cell_type": "markdown",
   "metadata": {
    "id": "W3uMEB8m-9vP"
   },
   "source": [
    "**Обязательные задачи**"
   ]
  },
  {
   "cell_type": "markdown",
   "metadata": {
    "id": "RP6L2Jqu_n7J"
   },
   "source": [
    "*Задача 1. Функция сдачи зачёта*\n",
    "\n",
    "Ниже описана программа, которая рассчитывает зачёт/незачёт для студента по его оценкам. Оберните этот код в функцию `is_passed` таким образом, чтобы на входе она получала список оценок, а на выходе отдавала булево значение.\n",
    "\n",
    "Проверьте, что вызовы функции `is_passed` в последующих ячейках отработали верно.\n"
   ]
  },
  {
   "cell_type": "code",
   "execution_count": 3,
   "metadata": {
    "colab": {
     "base_uri": "https://localhost:8080/"
    },
    "executionInfo": {
     "elapsed": 235,
     "status": "ok",
     "timestamp": 1634302821715,
     "user": {
      "displayName": "Yulduz Fattakhova",
      "photoUrl": "https://lh3.googleusercontent.com/a-/AOh14GiMux79i3vxuxKnCVSDClfaXbH-jvsA0woYdDAT=s64",
      "userId": "14698334089562212742"
     },
     "user_tz": -180
    },
    "id": "K35gNSnh_nec",
    "outputId": "326e4fd0-f052-4a5a-ec07-71bf6357f625"
   },
   "outputs": [
    {
     "name": "stdout",
     "output_type": "stream",
     "text": [
      "Зачет получен: True\n"
     ]
    }
   ],
   "source": [
    "# Программа для расчёта зачёт/незачёт на списке scores\n",
    "scores = [1, 5, 5]\n",
    "def is_passed(scores):\n",
    "    count_5, count_other = 0, 0\n",
    "    for score in scores:\n",
    "        if score == 5:\n",
    "            count_5 +=1\n",
    "        else:\n",
    "            count_other +=1\n",
    "    if count_5 > count_other:\n",
    "        return True\n",
    "    else: \n",
    "        return False\n",
    "\n",
    "print(\"Зачет получен:\", is_passed(scores))\n"
   ]
  },
  {
   "cell_type": "code",
   "execution_count": null,
   "metadata": {
    "id": "LM-NIhGh_ngh"
   },
   "outputs": [],
   "source": [
    "# Здесь ваш код"
   ]
  },
  {
   "cell_type": "code",
   "execution_count": 4,
   "metadata": {
    "colab": {
     "base_uri": "https://localhost:8080/"
    },
    "executionInfo": {
     "elapsed": 247,
     "status": "ok",
     "timestamp": 1634302999866,
     "user": {
      "displayName": "Yulduz Fattakhova",
      "photoUrl": "https://lh3.googleusercontent.com/a-/AOh14GiMux79i3vxuxKnCVSDClfaXbH-jvsA0woYdDAT=s64",
      "userId": "14698334089562212742"
     },
     "user_tz": -180
    },
    "id": "sxPgWvTA_m8T",
    "outputId": "7453bc2a-2783-41b2-ea2c-f408beb904a6"
   },
   "outputs": [
    {
     "name": "stdout",
     "output_type": "stream",
     "text": [
      "Зачет получен: False\n"
     ]
    }
   ],
   "source": [
    "print(\"Зачет получен:\", is_passed([5, 5, 4, 4]))"
   ]
  },
  {
   "cell_type": "code",
   "execution_count": 5,
   "metadata": {
    "colab": {
     "base_uri": "https://localhost:8080/"
    },
    "executionInfo": {
     "elapsed": 232,
     "status": "ok",
     "timestamp": 1634303025130,
     "user": {
      "displayName": "Yulduz Fattakhova",
      "photoUrl": "https://lh3.googleusercontent.com/a-/AOh14GiMux79i3vxuxKnCVSDClfaXbH-jvsA0woYdDAT=s64",
      "userId": "14698334089562212742"
     },
     "user_tz": -180
    },
    "id": "yY7WwTgYC9v1",
    "outputId": "4a1dc8f4-876d-4a67-affa-a086b5cffdee"
   },
   "outputs": [
    {
     "name": "stdout",
     "output_type": "stream",
     "text": [
      "Зачет получен: False\n"
     ]
    }
   ],
   "source": [
    "print(\"Зачет получен:\", is_passed([5, 5, 4, 4, 3, 2]))"
   ]
  },
  {
   "cell_type": "code",
   "execution_count": 6,
   "metadata": {
    "colab": {
     "base_uri": "https://localhost:8080/"
    },
    "executionInfo": {
     "elapsed": 229,
     "status": "ok",
     "timestamp": 1634303038937,
     "user": {
      "displayName": "Yulduz Fattakhova",
      "photoUrl": "https://lh3.googleusercontent.com/a-/AOh14GiMux79i3vxuxKnCVSDClfaXbH-jvsA0woYdDAT=s64",
      "userId": "14698334089562212742"
     },
     "user_tz": -180
    },
    "id": "PiGgGTZNDA00",
    "outputId": "cbc7d010-59cf-43fb-8bac-3a5aaa7f15f9"
   },
   "outputs": [
    {
     "name": "stdout",
     "output_type": "stream",
     "text": [
      "Зачет получен: True\n"
     ]
    }
   ],
   "source": [
    "print(\"Зачет получен:\", is_passed([5, 5, 5, 5, 3, 2]))"
   ]
  },
  {
   "cell_type": "markdown",
   "metadata": {
    "id": "PREeXyh4DuFq"
   },
   "source": [
    "*Задача 2. Расчёт скидки*\n",
    "\n",
    "Вам нужно написать тело функции `discount_price`, которая рассчитывает суммарную стоимость товаров из списка `items_price` со скидкой `discount`. На выходе функция должна возвращать два значения:\n",
    "1. Суммарная стоимость товаров до скидки.\n",
    "2. Суммарная стоимость товаров после применения скидки.\n",
    "\n",
    "Проверьте, что функция `discount_price` в последующих ячейках отработала верно.\n",
    "\n"
   ]
  },
  {
   "cell_type": "code",
   "execution_count": 7,
   "metadata": {
    "id": "tKtlJf4KDCum"
   },
   "outputs": [],
   "source": [
    "def discount_price(items_price, discount):\n",
    "    # Здесь тело функции\n",
    "    summary = sum(items_price)\n",
    "    new_price = summary - summary * discount/100\n",
    "    return summary, new_price"
   ]
  },
  {
   "cell_type": "code",
   "execution_count": 13,
   "metadata": {
    "colab": {
     "base_uri": "https://localhost:8080/"
    },
    "executionInfo": {
     "elapsed": 465,
     "status": "ok",
     "timestamp": 1634304489983,
     "user": {
      "displayName": "Yulduz Fattakhova",
      "photoUrl": "https://lh3.googleusercontent.com/a-/AOh14GiMux79i3vxuxKnCVSDClfaXbH-jvsA0woYdDAT=s64",
      "userId": "14698334089562212742"
     },
     "user_tz": -180
    },
    "id": "7IP0hFreIoYU",
    "outputId": "7982736c-8759-4a20-ab43-e1c2e02f9ab3"
   },
   "outputs": [
    {
     "name": "stdout",
     "output_type": "stream",
     "text": [
      "(100, 95.0)\n"
     ]
    }
   ],
   "source": [
    "print(discount_price([100], 5))"
   ]
  },
  {
   "cell_type": "code",
   "execution_count": 10,
   "metadata": {
    "colab": {
     "base_uri": "https://localhost:8080/"
    },
    "executionInfo": {
     "elapsed": 313,
     "status": "ok",
     "timestamp": 1634304508827,
     "user": {
      "displayName": "Yulduz Fattakhova",
      "photoUrl": "https://lh3.googleusercontent.com/a-/AOh14GiMux79i3vxuxKnCVSDClfaXbH-jvsA0woYdDAT=s64",
      "userId": "14698334089562212742"
     },
     "user_tz": -180
    },
    "id": "XMWzW3h1Iqbf",
    "outputId": "01cdee70-fd97-4783-dc28-907282a1d2e8"
   },
   "outputs": [
    {
     "name": "stdout",
     "output_type": "stream",
     "text": [
      "(1000, 990.0)\n"
     ]
    }
   ],
   "source": [
    "print(discount_price([100, 300, 400, 200], 1))"
   ]
  },
  {
   "cell_type": "code",
   "execution_count": 11,
   "metadata": {
    "colab": {
     "base_uri": "https://localhost:8080/"
    },
    "executionInfo": {
     "elapsed": 230,
     "status": "ok",
     "timestamp": 1634304564941,
     "user": {
      "displayName": "Yulduz Fattakhova",
      "photoUrl": "https://lh3.googleusercontent.com/a-/AOh14GiMux79i3vxuxKnCVSDClfaXbH-jvsA0woYdDAT=s64",
      "userId": "14698334089562212742"
     },
     "user_tz": -180
    },
    "id": "LxuKLMtUI79a",
    "outputId": "d350a632-2052-4497-dbd6-3983099398d7"
   },
   "outputs": [
    {
     "name": "stdout",
     "output_type": "stream",
     "text": [
      "(4249, 2124.5)\n"
     ]
    }
   ],
   "source": [
    "print(discount_price([50, 999, 400, 1000, 1800], 50))"
   ]
  },
  {
   "cell_type": "markdown",
   "metadata": {
    "id": "d9RXQmk_JywF"
   },
   "source": [
    "*Задача 3. Расчёт скидки на пустом списке*\n",
    "\n",
    "Допишите функцию из предыдущей задачи таким образом, чтобы если в список `items_price` приходил бы пустой список, функция возвращала `None`. Во всех остальных случаях функция также должна возвращать два значения: сумму до скидки и сумму после скидки.\n",
    "\n",
    "Проверьте, что функция `discount_price` в последующих ячейках отработала верно.\n"
   ]
  },
  {
   "cell_type": "code",
   "execution_count": 14,
   "metadata": {
    "id": "Fl2Y7Tl2JJyM"
   },
   "outputs": [],
   "source": [
    "# Здесь ваш код\n",
    "def discount_price(items_price, discount):\n",
    "    # Здесь тело функции\n",
    "    if len(items_price) == 0:\n",
    "        return None\n",
    "    summary = sum(items_price)\n",
    "    new_price = summary - summary * discount/100\n",
    "    return summary, new_price"
   ]
  },
  {
   "cell_type": "code",
   "execution_count": 15,
   "metadata": {
    "colab": {
     "base_uri": "https://localhost:8080/"
    },
    "executionInfo": {
     "elapsed": 222,
     "status": "ok",
     "timestamp": 1634305733659,
     "user": {
      "displayName": "Yulduz Fattakhova",
      "photoUrl": "https://lh3.googleusercontent.com/a-/AOh14GiMux79i3vxuxKnCVSDClfaXbH-jvsA0woYdDAT=s64",
      "userId": "14698334089562212742"
     },
     "user_tz": -180
    },
    "id": "zeqjDHgfNMmM",
    "outputId": "91ab93b7-8988-4d4d-98a7-ab8a7208744d"
   },
   "outputs": [
    {
     "name": "stdout",
     "output_type": "stream",
     "text": [
      "None\n"
     ]
    }
   ],
   "source": [
    "print(discount_price([], 50))"
   ]
  },
  {
   "cell_type": "code",
   "execution_count": null,
   "metadata": {
    "colab": {
     "base_uri": "https://localhost:8080/"
    },
    "executionInfo": {
     "elapsed": 350,
     "status": "ok",
     "timestamp": 1634305753386,
     "user": {
      "displayName": "Yulduz Fattakhova",
      "photoUrl": "https://lh3.googleusercontent.com/a-/AOh14GiMux79i3vxuxKnCVSDClfaXbH-jvsA0woYdDAT=s64",
      "userId": "14698334089562212742"
     },
     "user_tz": -180
    },
    "id": "IZpnQ4kGNPmL",
    "outputId": "83505101-f846-4a86-aba0-628864f7e21b"
   },
   "outputs": [
    {
     "name": "stdout",
     "output_type": "stream",
     "text": [
      "(109, 95.92)\n"
     ]
    }
   ],
   "source": [
    "print(discount_price([100, 9], 12))"
   ]
  },
  {
   "cell_type": "markdown",
   "metadata": {
    "id": "8mIPiznP5ZsX"
   },
   "source": [
    "---"
   ]
  },
  {
   "cell_type": "markdown",
   "metadata": {
    "id": "BpukfKVTNxEx"
   },
   "source": [
    "**Дополнительные задачи**"
   ]
  },
  {
   "cell_type": "markdown",
   "metadata": {
    "id": "sSjXpbLnToJn"
   },
   "source": [
    "*Задача 4. Нахождение минимума на списке с помощью минимума из двух*\n",
    "\n",
    "Напишите функцию `get_min2`, которая находит минимальное из двух значений и возвращает его в качестве результата. Далее напишите функцию `get_min_list`, которая ищет минимальное значение в списке с помощью `get_min2`.\n",
    "\n",
    "Проверьте, что функция `get_min_list` в последующих ячейках отработала верно.\n",
    "\n",
    " "
   ]
  },
  {
   "cell_type": "code",
   "execution_count": 18,
   "metadata": {
    "id": "gJBL4TEtNWwQ"
   },
   "outputs": [],
   "source": [
    "def get_min2(a, b):\n",
    "    # Здесь ваш код\n",
    "    if a <= b:\n",
    "        return a\n",
    "    else: \n",
    "        return b"
   ]
  },
  {
   "cell_type": "code",
   "execution_count": 19,
   "metadata": {
    "id": "PuS1Ofx4Umwf"
   },
   "outputs": [],
   "source": [
    "def get_min_list(numbers):\n",
    "    # Здесь ваш код\n",
    "    result = 0\n",
    "    for i in range (len(numbers) - 1):\n",
    "        result = get_min2(numbers[i], numbers[i+1])\n",
    "    return result"
   ]
  },
  {
   "cell_type": "code",
   "execution_count": 20,
   "metadata": {
    "colab": {
     "base_uri": "https://localhost:8080/"
    },
    "executionInfo": {
     "elapsed": 248,
     "status": "ok",
     "timestamp": 1634307922946,
     "user": {
      "displayName": "Yulduz Fattakhova",
      "photoUrl": "https://lh3.googleusercontent.com/a-/AOh14GiMux79i3vxuxKnCVSDClfaXbH-jvsA0woYdDAT=s64",
      "userId": "14698334089562212742"
     },
     "user_tz": -180
    },
    "id": "f76tFZ51V8G8",
    "outputId": "c1efc34a-5bf2-4d45-af04-97845bc65435"
   },
   "outputs": [
    {
     "data": {
      "text/plain": [
       "1"
      ]
     },
     "execution_count": 20,
     "metadata": {},
     "output_type": "execute_result"
    }
   ],
   "source": [
    "get_min2(1, 100)"
   ]
  },
  {
   "cell_type": "code",
   "execution_count": 21,
   "metadata": {
    "colab": {
     "base_uri": "https://localhost:8080/"
    },
    "executionInfo": {
     "elapsed": 218,
     "status": "ok",
     "timestamp": 1634307934737,
     "user": {
      "displayName": "Yulduz Fattakhova",
      "photoUrl": "https://lh3.googleusercontent.com/a-/AOh14GiMux79i3vxuxKnCVSDClfaXbH-jvsA0woYdDAT=s64",
      "userId": "14698334089562212742"
     },
     "user_tz": -180
    },
    "id": "vxYR4NrQV-Xs",
    "outputId": "7e966b88-cd7c-4151-c030-e79e58a84e2a",
    "scrolled": true
   },
   "outputs": [
    {
     "data": {
      "text/plain": [
       "-100"
      ]
     },
     "execution_count": 21,
     "metadata": {},
     "output_type": "execute_result"
    }
   ],
   "source": [
    "get_min2(100, -100)"
   ]
  },
  {
   "cell_type": "code",
   "execution_count": 22,
   "metadata": {
    "colab": {
     "base_uri": "https://localhost:8080/"
    },
    "executionInfo": {
     "elapsed": 3,
     "status": "ok",
     "timestamp": 1634307891208,
     "user": {
      "displayName": "Yulduz Fattakhova",
      "photoUrl": "https://lh3.googleusercontent.com/a-/AOh14GiMux79i3vxuxKnCVSDClfaXbH-jvsA0woYdDAT=s64",
      "userId": "14698334089562212742"
     },
     "user_tz": -180
    },
    "id": "Gsi3TawIVX-G",
    "outputId": "0d1cb13b-5b5f-4e2c-db52-b9e4a4ac2542"
   },
   "outputs": [
    {
     "data": {
      "text/plain": [
       "0"
      ]
     },
     "execution_count": 22,
     "metadata": {},
     "output_type": "execute_result"
    }
   ],
   "source": [
    "get_min_list([1, 5, 10, 9, 90, 0])"
   ]
  },
  {
   "cell_type": "code",
   "execution_count": 23,
   "metadata": {
    "colab": {
     "base_uri": "https://localhost:8080/"
    },
    "executionInfo": {
     "elapsed": 218,
     "status": "ok",
     "timestamp": 1634307896348,
     "user": {
      "displayName": "Yulduz Fattakhova",
      "photoUrl": "https://lh3.googleusercontent.com/a-/AOh14GiMux79i3vxuxKnCVSDClfaXbH-jvsA0woYdDAT=s64",
      "userId": "14698334089562212742"
     },
     "user_tz": -180
    },
    "id": "DqcHUhLyVg9U",
    "outputId": "88c1af16-58d6-4712-b628-0e9d676c1ab4"
   },
   "outputs": [
    {
     "data": {
      "text/plain": [
       "-100"
      ]
     },
     "execution_count": 23,
     "metadata": {},
     "output_type": "execute_result"
    }
   ],
   "source": [
    "get_min_list([1, 5, 10, 9, 90, -100])"
   ]
  },
  {
   "cell_type": "code",
   "execution_count": 24,
   "metadata": {
    "colab": {
     "base_uri": "https://localhost:8080/"
    },
    "executionInfo": {
     "elapsed": 233,
     "status": "ok",
     "timestamp": 1634307912888,
     "user": {
      "displayName": "Yulduz Fattakhova",
      "photoUrl": "https://lh3.googleusercontent.com/a-/AOh14GiMux79i3vxuxKnCVSDClfaXbH-jvsA0woYdDAT=s64",
      "userId": "14698334089562212742"
     },
     "user_tz": -180
    },
    "id": "XV7jY3KrV2Pw",
    "outputId": "c38abf79-1421-4d24-ea41-b1a1e8240e3a"
   },
   "outputs": [
    {
     "data": {
      "text/plain": [
       "-1000000"
      ]
     },
     "execution_count": 24,
     "metadata": {},
     "output_type": "execute_result"
    }
   ],
   "source": [
    "get_min_list([1, 5, 10, 9, -1000000, -100])"
   ]
  },
  {
   "cell_type": "code",
   "execution_count": null,
   "metadata": {
    "id": "TPj6WXgiWRfE"
   },
   "outputs": [],
   "source": []
  },
  {
   "cell_type": "markdown",
   "metadata": {
    "id": "CvGzpWm04l8b"
   },
   "source": [
    "---"
   ]
  },
  {
   "cell_type": "markdown",
   "metadata": {
    "id": "HBy8bZy34oSg"
   },
   "source": [
    "|\n",
    "\n",
    "|\n",
    "\n",
    "|\n",
    "\n",
    "|\n",
    "\n",
    "|\n",
    "\n",
    "|\n",
    "\n",
    "|\n",
    "\n",
    "|\n",
    "\n",
    "|\n",
    "\n",
    "|\n",
    "\n",
    "|\n",
    "\n",
    "|\n",
    "\n",
    "|\n",
    "\n",
    "|\n",
    "\n",
    "|\n",
    "\n",
    "|\n",
    "\n",
    "|\n",
    "\n",
    "|\n",
    "\n",
    "|\n"
   ]
  },
  {
   "cell_type": "markdown",
   "metadata": {
    "id": "Kj2r3jAF4vgr"
   },
   "source": [
    "## Решения"
   ]
  },
  {
   "cell_type": "markdown",
   "metadata": {
    "id": "05ewllr94l8b"
   },
   "source": [
    "**Обязательные задачи**"
   ]
  },
  {
   "cell_type": "markdown",
   "metadata": {
    "id": "nre5S8lA4l8c"
   },
   "source": [
    "*Задача 1. Функция сдачи зачёта*\n",
    "\n",
    "Ниже описана программа, которая рассчитывает зачёт/незачёт для студента по его оценкам. Оберните этот код в функцию `is_passed` таким образом, чтобы на входе она получала список оценок, а на выходе отдавала булево значение.\n",
    "\n",
    "Проверьте, что вызовы функции `is_passed` в последующих ячейках отработали верно.\n"
   ]
  },
  {
   "cell_type": "code",
   "execution_count": null,
   "metadata": {
    "colab": {
     "base_uri": "https://localhost:8080/"
    },
    "executionInfo": {
     "elapsed": 3,
     "status": "ok",
     "timestamp": 1643829751386,
     "user": {
      "displayName": "Евгения Миллер",
      "photoUrl": "https://lh3.googleusercontent.com/a-/AOh14Gj2X0dQicVOw3_uvDLm2AdkkDjMIUubVj8NCWQ6=s64",
      "userId": "01842992490389353651"
     },
     "user_tz": -180
    },
    "id": "iSQd2zcM4l8c",
    "outputId": "275d35ac-fff5-40d9-dfbd-414879385ccb"
   },
   "outputs": [
    {
     "name": "stdout",
     "output_type": "stream",
     "text": [
      "Зачет получен: False\n"
     ]
    }
   ],
   "source": [
    "# Программа для расчёта зачёт/незачёт на списке scores\n",
    "scores = [1]\n",
    "count_5, count_other = 0, 0\n",
    "\n",
    "for score in scores:\n",
    "    if score == 5:\n",
    "        count_5 +=1\n",
    "    else:\n",
    "        count_other +=1\n",
    "\n",
    "print(\"Зачет получен:\", count_5 > count_other)\n"
   ]
  },
  {
   "cell_type": "code",
   "execution_count": null,
   "metadata": {
    "id": "pjkCcF984l8c"
   },
   "outputs": [],
   "source": [
    "def is_passed(scores):\n",
    "    count_5, count_other = 0, 0\n",
    "\n",
    "    for score in scores:\n",
    "        if score == 5:\n",
    "            count_5 +=1\n",
    "        else:\n",
    "            count_other +=1\n",
    "\n",
    "    return count_5 > count_other"
   ]
  },
  {
   "cell_type": "code",
   "execution_count": null,
   "metadata": {
    "colab": {
     "base_uri": "https://localhost:8080/"
    },
    "executionInfo": {
     "elapsed": 265,
     "status": "ok",
     "timestamp": 1643829868866,
     "user": {
      "displayName": "Евгения Миллер",
      "photoUrl": "https://lh3.googleusercontent.com/a-/AOh14Gj2X0dQicVOw3_uvDLm2AdkkDjMIUubVj8NCWQ6=s64",
      "userId": "01842992490389353651"
     },
     "user_tz": -180
    },
    "id": "izqw22Im4l8c",
    "outputId": "ff46edf8-022e-430a-d16c-d3d31954a1ca"
   },
   "outputs": [
    {
     "name": "stdout",
     "output_type": "stream",
     "text": [
      "Зачет получен: False\n"
     ]
    }
   ],
   "source": [
    "print(\"Зачет получен:\", is_passed([5, 5, 4, 4]))"
   ]
  },
  {
   "cell_type": "code",
   "execution_count": null,
   "metadata": {
    "colab": {
     "base_uri": "https://localhost:8080/"
    },
    "executionInfo": {
     "elapsed": 243,
     "status": "ok",
     "timestamp": 1643829870349,
     "user": {
      "displayName": "Евгения Миллер",
      "photoUrl": "https://lh3.googleusercontent.com/a-/AOh14Gj2X0dQicVOw3_uvDLm2AdkkDjMIUubVj8NCWQ6=s64",
      "userId": "01842992490389353651"
     },
     "user_tz": -180
    },
    "id": "3TixNhgR4l8c",
    "outputId": "d2ddf1fb-9979-4380-b627-23fa92374631"
   },
   "outputs": [
    {
     "name": "stdout",
     "output_type": "stream",
     "text": [
      "Зачет получен: False\n"
     ]
    }
   ],
   "source": [
    "print(\"Зачет получен:\", is_passed([5, 5, 4, 4, 3, 2]))"
   ]
  },
  {
   "cell_type": "code",
   "execution_count": null,
   "metadata": {
    "colab": {
     "base_uri": "https://localhost:8080/"
    },
    "executionInfo": {
     "elapsed": 1,
     "status": "ok",
     "timestamp": 1643829871967,
     "user": {
      "displayName": "Евгения Миллер",
      "photoUrl": "https://lh3.googleusercontent.com/a-/AOh14Gj2X0dQicVOw3_uvDLm2AdkkDjMIUubVj8NCWQ6=s64",
      "userId": "01842992490389353651"
     },
     "user_tz": -180
    },
    "id": "ZfSqBbFu4l8c",
    "outputId": "c9c1b3c8-31de-4cc8-9f85-88b5e11ba18b"
   },
   "outputs": [
    {
     "name": "stdout",
     "output_type": "stream",
     "text": [
      "Зачет получен: True\n"
     ]
    }
   ],
   "source": [
    "print(\"Зачет получен:\", is_passed([5, 5, 5, 5, 3, 2]))"
   ]
  },
  {
   "cell_type": "markdown",
   "metadata": {
    "id": "aty42l3_4l8c"
   },
   "source": [
    "*Задача 2. Расчёт скидки*\n",
    "\n",
    "Вам нужно написать тело функции `discount_price`, которая рассчитывает суммарную стоимость товаров из списка `items_price` со скидкой `discount`. На выходе функция должна возвращать два значения:\n",
    "1. Суммарная стоимость товаров до скидки.\n",
    "2. Суммарная стоимость товаров после применения скидки.\n",
    "\n",
    "Проверьте, что функция `discount_price` в последующих ячейках отработала верно.\n",
    "\n"
   ]
  },
  {
   "cell_type": "code",
   "execution_count": null,
   "metadata": {
    "id": "zYKK7mF04l8c"
   },
   "outputs": [],
   "source": [
    "def discount_price(items_price, discount):\n",
    "    sum_before = sum(items_price)\n",
    "    sum_after = sum_before * (100 - discount) / 100\n",
    "    \n",
    "    return sum_before, sum_after"
   ]
  },
  {
   "cell_type": "code",
   "execution_count": null,
   "metadata": {
    "colab": {
     "base_uri": "https://localhost:8080/"
    },
    "executionInfo": {
     "elapsed": 2,
     "status": "ok",
     "timestamp": 1643830051188,
     "user": {
      "displayName": "Евгения Миллер",
      "photoUrl": "https://lh3.googleusercontent.com/a-/AOh14Gj2X0dQicVOw3_uvDLm2AdkkDjMIUubVj8NCWQ6=s64",
      "userId": "01842992490389353651"
     },
     "user_tz": -180
    },
    "id": "xNh19AMP4l8c",
    "outputId": "5ca36d36-2101-4860-c4bf-c134e2e6e116"
   },
   "outputs": [
    {
     "name": "stdout",
     "output_type": "stream",
     "text": [
      "(100, 95.0)\n"
     ]
    }
   ],
   "source": [
    "print(discount_price([100], 5))"
   ]
  },
  {
   "cell_type": "code",
   "execution_count": null,
   "metadata": {
    "colab": {
     "base_uri": "https://localhost:8080/"
    },
    "executionInfo": {
     "elapsed": 2,
     "status": "ok",
     "timestamp": 1643830052978,
     "user": {
      "displayName": "Евгения Миллер",
      "photoUrl": "https://lh3.googleusercontent.com/a-/AOh14Gj2X0dQicVOw3_uvDLm2AdkkDjMIUubVj8NCWQ6=s64",
      "userId": "01842992490389353651"
     },
     "user_tz": -180
    },
    "id": "WeEX9G8S4l8c",
    "outputId": "78b9721e-e982-4fb7-c9df-7483575dcbfc"
   },
   "outputs": [
    {
     "name": "stdout",
     "output_type": "stream",
     "text": [
      "(1000, 990.0)\n"
     ]
    }
   ],
   "source": [
    "print(discount_price([100, 300, 400, 200], 1))"
   ]
  },
  {
   "cell_type": "code",
   "execution_count": null,
   "metadata": {
    "colab": {
     "base_uri": "https://localhost:8080/"
    },
    "executionInfo": {
     "elapsed": 2,
     "status": "ok",
     "timestamp": 1643830054084,
     "user": {
      "displayName": "Евгения Миллер",
      "photoUrl": "https://lh3.googleusercontent.com/a-/AOh14Gj2X0dQicVOw3_uvDLm2AdkkDjMIUubVj8NCWQ6=s64",
      "userId": "01842992490389353651"
     },
     "user_tz": -180
    },
    "id": "Dubmbvfd4l8c",
    "outputId": "9a9feb93-6e0d-4582-8478-8280914c9c33"
   },
   "outputs": [
    {
     "name": "stdout",
     "output_type": "stream",
     "text": [
      "(4249, 2124.5)\n"
     ]
    }
   ],
   "source": [
    "print(discount_price([50, 999, 400, 1000, 1800], 50))"
   ]
  },
  {
   "cell_type": "markdown",
   "metadata": {
    "id": "zb65Zs-Y4l8d"
   },
   "source": [
    "*Задача 3. Расчёт скидки на пустом списке*\n",
    "\n",
    "Допишите функцию из предыдущей задачи таким образом, чтобы если в список `items_price` приходил бы пустой список, функция возвращала `None`. Во всех остальных случаях функция также должна возвращать два значения: сумму до скидки и сумму после скидки.\n",
    "\n",
    "Проверьте, что функция `discount_price` в последующих ячейках отработала верно.\n"
   ]
  },
  {
   "cell_type": "code",
   "execution_count": null,
   "metadata": {
    "id": "9cJjA3aF4l8d"
   },
   "outputs": [],
   "source": [
    "def discount_price(items_price, discount):\n",
    "    if len(items_price) == 0:\n",
    "        return None\n",
    "    \n",
    "    #Если условие выполнилось, функция вернула None и её исполнение закончилось, поэтому else не нужен\n",
    "    sum_before = sum(items_price)\n",
    "    sum_after = sum_before * (100 - discount) / 100\n",
    "    \n",
    "    return sum_before, sum_after"
   ]
  },
  {
   "cell_type": "code",
   "execution_count": null,
   "metadata": {
    "colab": {
     "base_uri": "https://localhost:8080/"
    },
    "executionInfo": {
     "elapsed": 274,
     "status": "ok",
     "timestamp": 1643830238552,
     "user": {
      "displayName": "Евгения Миллер",
      "photoUrl": "https://lh3.googleusercontent.com/a-/AOh14Gj2X0dQicVOw3_uvDLm2AdkkDjMIUubVj8NCWQ6=s64",
      "userId": "01842992490389353651"
     },
     "user_tz": -180
    },
    "id": "Ga1cPTZG4l8d",
    "outputId": "35cbd2bc-4d98-4ef1-f45f-dba593dbcb2c"
   },
   "outputs": [
    {
     "name": "stdout",
     "output_type": "stream",
     "text": [
      "None\n"
     ]
    }
   ],
   "source": [
    "print(discount_price([], 50))"
   ]
  },
  {
   "cell_type": "code",
   "execution_count": null,
   "metadata": {
    "colab": {
     "base_uri": "https://localhost:8080/"
    },
    "executionInfo": {
     "elapsed": 370,
     "status": "ok",
     "timestamp": 1643830240234,
     "user": {
      "displayName": "Евгения Миллер",
      "photoUrl": "https://lh3.googleusercontent.com/a-/AOh14Gj2X0dQicVOw3_uvDLm2AdkkDjMIUubVj8NCWQ6=s64",
      "userId": "01842992490389353651"
     },
     "user_tz": -180
    },
    "id": "izJc2-1B4l8d",
    "outputId": "f261d4b8-71d1-4bad-ab20-512ae4240057"
   },
   "outputs": [
    {
     "name": "stdout",
     "output_type": "stream",
     "text": [
      "(109, 95.92)\n"
     ]
    }
   ],
   "source": [
    "print(discount_price([100, 9], 12))"
   ]
  },
  {
   "cell_type": "markdown",
   "metadata": {
    "id": "Unk4qn-Q4l8d"
   },
   "source": [
    "---"
   ]
  },
  {
   "cell_type": "markdown",
   "metadata": {
    "id": "WhFSD0_L4l8d"
   },
   "source": [
    "**Дополнительные задачи**"
   ]
  },
  {
   "cell_type": "markdown",
   "metadata": {
    "id": "sRXIv-av4l8d"
   },
   "source": [
    "*Задача 4. Нахождение минимума на списке с помощью минимума из двух*\n",
    "\n",
    "Напишите функцию `get_min2`, которая находит минимальное из двух значений и возвращает его в качестве результата. Далее напишите функцию `get_min_list`, которая ищет минимальное значение в списке с помощью `get_min2`.\n",
    "\n",
    "Проверьте, что функция `get_min_list` в последующих ячейках отработала верно.\n",
    "\n",
    " "
   ]
  },
  {
   "cell_type": "code",
   "execution_count": null,
   "metadata": {
    "id": "et3Ijacj4l8d"
   },
   "outputs": [],
   "source": [
    "def get_min2(a, b):\n",
    "    if a < b:\n",
    "        return a\n",
    "    return b"
   ]
  },
  {
   "cell_type": "code",
   "execution_count": null,
   "metadata": {
    "id": "QptwQ5Cs4l8d"
   },
   "outputs": [],
   "source": [
    "def get_min_list(numbers):\n",
    "    min_value = numbers[0]\n",
    "    for i in range(1, len(numbers)):\n",
    "        min_value = get_min2(min_value, numbers[i])\n",
    "    return min_value"
   ]
  },
  {
   "cell_type": "code",
   "execution_count": null,
   "metadata": {
    "colab": {
     "base_uri": "https://localhost:8080/"
    },
    "executionInfo": {
     "elapsed": 262,
     "status": "ok",
     "timestamp": 1643830675566,
     "user": {
      "displayName": "Евгения Миллер",
      "photoUrl": "https://lh3.googleusercontent.com/a-/AOh14Gj2X0dQicVOw3_uvDLm2AdkkDjMIUubVj8NCWQ6=s64",
      "userId": "01842992490389353651"
     },
     "user_tz": -180
    },
    "id": "T4LYMJH-4l8d",
    "outputId": "e2a43d98-20db-4fe2-c951-4d83cde48005"
   },
   "outputs": [
    {
     "data": {
      "text/plain": [
       "1"
      ]
     },
     "execution_count": 22,
     "metadata": {},
     "output_type": "execute_result"
    }
   ],
   "source": [
    "get_min2(1, 100)"
   ]
  },
  {
   "cell_type": "code",
   "execution_count": null,
   "metadata": {
    "colab": {
     "base_uri": "https://localhost:8080/"
    },
    "executionInfo": {
     "elapsed": 1,
     "status": "ok",
     "timestamp": 1643830677871,
     "user": {
      "displayName": "Евгения Миллер",
      "photoUrl": "https://lh3.googleusercontent.com/a-/AOh14Gj2X0dQicVOw3_uvDLm2AdkkDjMIUubVj8NCWQ6=s64",
      "userId": "01842992490389353651"
     },
     "user_tz": -180
    },
    "id": "K2sv9t2o4l8d",
    "outputId": "2464e4ae-a725-4207-884a-7a55251a6612"
   },
   "outputs": [
    {
     "data": {
      "text/plain": [
       "-100"
      ]
     },
     "execution_count": 23,
     "metadata": {},
     "output_type": "execute_result"
    }
   ],
   "source": [
    "get_min2(100, -100)"
   ]
  },
  {
   "cell_type": "code",
   "execution_count": null,
   "metadata": {
    "colab": {
     "base_uri": "https://localhost:8080/"
    },
    "executionInfo": {
     "elapsed": 283,
     "status": "ok",
     "timestamp": 1643830685018,
     "user": {
      "displayName": "Евгения Миллер",
      "photoUrl": "https://lh3.googleusercontent.com/a-/AOh14Gj2X0dQicVOw3_uvDLm2AdkkDjMIUubVj8NCWQ6=s64",
      "userId": "01842992490389353651"
     },
     "user_tz": -180
    },
    "id": "3KvWnHsV4l8d",
    "outputId": "267de4ec-5ae3-4c9a-cabc-4514edde031b"
   },
   "outputs": [
    {
     "data": {
      "text/plain": [
       "0"
      ]
     },
     "execution_count": 24,
     "metadata": {},
     "output_type": "execute_result"
    }
   ],
   "source": [
    "get_min_list([1, 5, 10, 9, 90, 0])"
   ]
  },
  {
   "cell_type": "code",
   "execution_count": null,
   "metadata": {
    "colab": {
     "base_uri": "https://localhost:8080/"
    },
    "executionInfo": {
     "elapsed": 1,
     "status": "ok",
     "timestamp": 1643830686093,
     "user": {
      "displayName": "Евгения Миллер",
      "photoUrl": "https://lh3.googleusercontent.com/a-/AOh14Gj2X0dQicVOw3_uvDLm2AdkkDjMIUubVj8NCWQ6=s64",
      "userId": "01842992490389353651"
     },
     "user_tz": -180
    },
    "id": "0itpdElL4l8e",
    "outputId": "89c5a42b-a700-4b9c-dfce-c8b98a1410ea"
   },
   "outputs": [
    {
     "data": {
      "text/plain": [
       "-100"
      ]
     },
     "execution_count": 25,
     "metadata": {},
     "output_type": "execute_result"
    }
   ],
   "source": [
    "get_min_list([1, 5, 10, 9, 90, -100])"
   ]
  },
  {
   "cell_type": "code",
   "execution_count": null,
   "metadata": {
    "colab": {
     "base_uri": "https://localhost:8080/"
    },
    "executionInfo": {
     "elapsed": 2,
     "status": "ok",
     "timestamp": 1643830689107,
     "user": {
      "displayName": "Евгения Миллер",
      "photoUrl": "https://lh3.googleusercontent.com/a-/AOh14Gj2X0dQicVOw3_uvDLm2AdkkDjMIUubVj8NCWQ6=s64",
      "userId": "01842992490389353651"
     },
     "user_tz": -180
    },
    "id": "ZGgsRcss4l8e",
    "outputId": "23048a4c-f26a-4de8-c160-f658b3b2d205"
   },
   "outputs": [
    {
     "data": {
      "text/plain": [
       "-1000000"
      ]
     },
     "execution_count": 26,
     "metadata": {},
     "output_type": "execute_result"
    }
   ],
   "source": [
    "get_min_list([1, 5, 10, 9, -1000000, -100])"
   ]
  },
  {
   "cell_type": "code",
   "execution_count": null,
   "metadata": {
    "id": "zbsV5mZh8bmI"
   },
   "outputs": [],
   "source": []
  }
 ],
 "metadata": {
  "colab": {
   "collapsed_sections": [],
   "name": "9.2_Работа_с_функциями_Практика.ipynb",
   "provenance": []
  },
  "kernelspec": {
   "display_name": "Python 3 (ipykernel)",
   "language": "python",
   "name": "python3"
  },
  "language_info": {
   "codemirror_mode": {
    "name": "ipython",
    "version": 3
   },
   "file_extension": ".py",
   "mimetype": "text/x-python",
   "name": "python",
   "nbconvert_exporter": "python",
   "pygments_lexer": "ipython3",
   "version": "3.9.13"
  }
 },
 "nbformat": 4,
 "nbformat_minor": 1
}
