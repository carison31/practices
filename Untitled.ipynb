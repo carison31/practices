{
 "cells": [
  {
   "cell_type": "code",
   "execution_count": 1,
   "id": "ce7215c1",
   "metadata": {},
   "outputs": [],
   "source": [
    "def get_length(a1, a2):\n",
    "\n",
    "  sum = 0\n",
    "\n",
    "  for a11, a22 in zip(a1, a2):\n",
    "\n",
    "    sum+= (a22 - a11)**2\n",
    "\n",
    "  \n",
    "\n",
    "  return sum**(0.5)\n",
    "\n",
    "\n",
    "\n",
    "def find_middle(a1, a2):\n",
    "\n",
    "  return ((a2[0] + a1[0])/2, (a2[1] + a1[1])/2)\n",
    "\n",
    "\n",
    "\n",
    "def get_square(coords):\n",
    "\n",
    "  a1, a2, a3 = coords\n",
    "\n",
    "  a4 = find_middle(a1, a2)\n",
    "\n",
    "\n",
    "\n",
    "  return 0.5 * get_length(a1, a2) *  get_length(a3, a4)"
   ]
  },
  {
   "cell_type": "code",
   "execution_count": null,
   "id": "a5064fe3",
   "metadata": {},
   "outputs": [],
   "source": [
    "get_sq"
   ]
  }
 ],
 "metadata": {
  "kernelspec": {
   "display_name": "Python 3 (ipykernel)",
   "language": "python",
   "name": "python3"
  },
  "language_info": {
   "codemirror_mode": {
    "name": "ipython",
    "version": 3
   },
   "file_extension": ".py",
   "mimetype": "text/x-python",
   "name": "python",
   "nbconvert_exporter": "python",
   "pygments_lexer": "ipython3",
   "version": "3.9.13"
  }
 },
 "nbformat": 4,
 "nbformat_minor": 5
}
