{
 "cells": [
  {
   "cell_type": "markdown",
   "metadata": {
    "id": "I3cIqq1_avyx"
   },
   "source": [
    "В этом практическом задании три обязательных и одна дополнительная задача.\n",
    "\n",
    "*Обязательные задачи* нужно сделать, чтобы проверить, что вы действительно усвоили материал урока. Если у вас всё получилось, вы можете переходить к следующему уроку.\n",
    "\n",
    "*Дополнительные задачи* для тех, кто чувствует, что нужно ещё немного потренироваться и порешать задачки по программированию, а также изучить новые методы для работы со строками.\n",
    "\n",
    "Удачи!\n",
    "\n",
    "В конце ноутбука вы можете найти решения задач."
   ]
  },
  {
   "cell_type": "markdown",
   "metadata": {
    "id": "mF7WQFldayeZ"
   },
   "source": [
    "**Цели практического задания:**\n",
    "1. Отработать работу с методами для строк `find`, `lower`, `upper`.\n",
    "2. Научиться работать с несколькими выходными значениями в функции.\n",
    "3. Научиться объявлять значения по умолчанию во входных параметрах функции.\n",
    "4. Научиться пользоваться f-строками."
   ]
  },
  {
   "cell_type": "markdown",
   "metadata": {
    "id": "qSDMGVxpbOMM"
   },
   "source": [
    "---"
   ]
  },
  {
   "cell_type": "markdown",
   "metadata": {
    "id": "6m31Ptr8tFdp"
   },
   "source": [
    "**Обязательные задачи**"
   ]
  },
  {
   "cell_type": "markdown",
   "metadata": {
    "id": "wsVEVhaW7nv_"
   },
   "source": [
    "*Задача 1. Очищение строк*\n",
    "\n",
    "Данные по фамилии и имени каждого пользователя приходят в виде строки вида: `Фамилия:Иванов,Имя:Герасим`. Напишите функцию, которая будет обрабатывать такую строку в качестве входного параметра, а на выходе будет возвращать два значения: фамилию и имя в нижнем регистре.\n",
    "\n",
    "Проверьте, что ячейки ниже отработали верно.\n"
   ]
  },
  {
   "cell_type": "code",
   "execution_count": 17,
   "metadata": {
    "id": "eLAjuElL7mef"
   },
   "outputs": [],
   "source": [
    "def get_name_data(input_data):\n",
    "    # Ваш код здесь\n",
    "    input_data = input_data.lower()\n",
    "    result = input_data.split(\",\")\n",
    "    result[0] = result[0][8:]\n",
    "    result[1] = result[1][4:]\n",
    "    return result[0], result[1]"
   ]
  },
  {
   "cell_type": "code",
   "execution_count": 18,
   "metadata": {
    "colab": {
     "base_uri": "https://localhost:8080/"
    },
    "executionInfo": {
     "elapsed": 285,
     "status": "ok",
     "timestamp": 1634570357999,
     "user": {
      "displayName": "Yulduz Fattakhova",
      "photoUrl": "https://lh3.googleusercontent.com/a-/AOh14GiMux79i3vxuxKnCVSDClfaXbH-jvsA0woYdDAT=s64",
      "userId": "14698334089562212742"
     },
     "user_tz": -180
    },
    "id": "DKhK-pdC-l5A",
    "outputId": "43c76f78-b89c-418d-9bbd-43bec4572ab0"
   },
   "outputs": [
    {
     "data": {
      "text/plain": [
       "('иванов', 'герасим')"
      ]
     },
     "execution_count": 18,
     "metadata": {},
     "output_type": "execute_result"
    }
   ],
   "source": [
    "get_name_data('Фамилия:Иванов,Имя:Герасим')"
   ]
  },
  {
   "cell_type": "code",
   "execution_count": 19,
   "metadata": {
    "colab": {
     "base_uri": "https://localhost:8080/"
    },
    "executionInfo": {
     "elapsed": 5,
     "status": "ok",
     "timestamp": 1634570360438,
     "user": {
      "displayName": "Yulduz Fattakhova",
      "photoUrl": "https://lh3.googleusercontent.com/a-/AOh14GiMux79i3vxuxKnCVSDClfaXbH-jvsA0woYdDAT=s64",
      "userId": "14698334089562212742"
     },
     "user_tz": -180
    },
    "id": "-qJpog8F-1O6",
    "outputId": "9a674974-956b-47bc-b63b-2f35a7eb93a8"
   },
   "outputs": [
    {
     "data": {
      "text/plain": [
       "('сидоров-ильин', 'петр')"
      ]
     },
     "execution_count": 19,
     "metadata": {},
     "output_type": "execute_result"
    }
   ],
   "source": [
    "get_name_data('Фамилия:Сидоров-Ильин,Имя:Петр')"
   ]
  },
  {
   "cell_type": "markdown",
   "metadata": {
    "id": "8RXWrzU6JoJ9"
   },
   "source": [
    "*Задача 2. Дефолтные параметры в функции*\n",
    "\n",
    "Доработайте предыдущую функцию таким образом, чтобы вторым параметром передавалось значение, которое должна вернуть функция.\n",
    "* Если передать фамилию — вернуть фамилию.\n",
    "* Если передать имя — вернуть имя\n",
    "* Если ничего не передавать — вернуть и имя, и фамилию.\n",
    "\n",
    "Проверьте, что ячейки ниже отработали верно.\n"
   ]
  },
  {
   "cell_type": "code",
   "execution_count": 45,
   "metadata": {
    "id": "kb50Ws46KB-p"
   },
   "outputs": [],
   "source": [
    "# Ваш код здесь\n",
    "def get_name_data(input_data, str_name = \"фамилия и имя\"):\n",
    "    # Ваш код здесь\n",
    "    input_data = input_data.lower()\n",
    "    result = input_data.split(\",\")\n",
    "    surname = result[0][8:]\n",
    "    name = result[1][4:]\n",
    "    if str_name == \"фамилия\":\n",
    "        return surname\n",
    "    elif str_name == \"имя\":\n",
    "        return name\n",
    "    elif str_name == \"фамилия и имя\":\n",
    "        return name, surname\n"
   ]
  },
  {
   "cell_type": "code",
   "execution_count": 46,
   "metadata": {
    "colab": {
     "base_uri": "https://localhost:8080/",
     "height": 35
    },
    "executionInfo": {
     "elapsed": 257,
     "status": "ok",
     "timestamp": 1643833949525,
     "user": {
      "displayName": "Евгения Миллер",
      "photoUrl": "https://lh3.googleusercontent.com/a-/AOh14Gj2X0dQicVOw3_uvDLm2AdkkDjMIUubVj8NCWQ6=s64",
      "userId": "01842992490389353651"
     },
     "user_tz": -180
    },
    "id": "YNTNHYlgV6wt",
    "outputId": "360edfb2-0afb-4073-9800-7f78ed664763"
   },
   "outputs": [
    {
     "data": {
      "text/plain": [
       "'петрова'"
      ]
     },
     "execution_count": 46,
     "metadata": {},
     "output_type": "execute_result"
    }
   ],
   "source": [
    "get_name_data('Фамилия:Петрова,Имя:Анжела', 'фамилия')"
   ]
  },
  {
   "cell_type": "code",
   "execution_count": 47,
   "metadata": {
    "colab": {
     "base_uri": "https://localhost:8080/",
     "height": 35
    },
    "executionInfo": {
     "elapsed": 2,
     "status": "ok",
     "timestamp": 1643833950313,
     "user": {
      "displayName": "Евгения Миллер",
      "photoUrl": "https://lh3.googleusercontent.com/a-/AOh14Gj2X0dQicVOw3_uvDLm2AdkkDjMIUubVj8NCWQ6=s64",
      "userId": "01842992490389353651"
     },
     "user_tz": -180
    },
    "id": "_TrZ4lJvWZce",
    "outputId": "484ac414-1e12-4e77-edae-ebd78f346e57",
    "scrolled": true
   },
   "outputs": [
    {
     "data": {
      "text/plain": [
       "'анжела'"
      ]
     },
     "execution_count": 47,
     "metadata": {},
     "output_type": "execute_result"
    }
   ],
   "source": [
    "get_name_data('Фамилия:Петрова,Имя:Анжела', 'имя')"
   ]
  },
  {
   "cell_type": "code",
   "execution_count": 48,
   "metadata": {
    "colab": {
     "base_uri": "https://localhost:8080/"
    },
    "executionInfo": {
     "elapsed": 2,
     "status": "ok",
     "timestamp": 1643833951349,
     "user": {
      "displayName": "Евгения Миллер",
      "photoUrl": "https://lh3.googleusercontent.com/a-/AOh14Gj2X0dQicVOw3_uvDLm2AdkkDjMIUubVj8NCWQ6=s64",
      "userId": "01842992490389353651"
     },
     "user_tz": -180
    },
    "id": "IXo7HoZtWf4r",
    "outputId": "e87143c0-a9ba-4231-dfd8-fe529c55ec43"
   },
   "outputs": [
    {
     "data": {
      "text/plain": [
       "('анжела', 'петрова')"
      ]
     },
     "execution_count": 48,
     "metadata": {},
     "output_type": "execute_result"
    }
   ],
   "source": [
    "get_name_data('Фамилия:Петрова,Имя:Анжела')"
   ]
  },
  {
   "cell_type": "markdown",
   "metadata": {
    "id": "cObrerO0JikI"
   },
   "source": [
    "*Задача 3. Нормализация городов*\n",
    "\n",
    "Вспомним задачу из теоретического урока. Мы приводили имена города Москвы к нормальному виду. Теперь вам нужно написать программу, которая будет нормализовывать города из списка `user_cities`. Все нормализованные имена заранее определены и лежат в списке `normalized_cities`.\n"
   ]
  },
  {
   "cell_type": "code",
   "execution_count": 26,
   "metadata": {
    "executionInfo": {
     "elapsed": 266,
     "status": "ok",
     "timestamp": 1643835145183,
     "user": {
      "displayName": "Евгения Миллер",
      "photoUrl": "https://lh3.googleusercontent.com/a-/AOh14Gj2X0dQicVOw3_uvDLm2AdkkDjMIUubVj8NCWQ6=s64",
      "userId": "01842992490389353651"
     },
     "user_tz": -180
    },
    "id": "CKIMv7iyKvtB"
   },
   "outputs": [],
   "source": [
    "user_cities = ['гМосква', 'КАЗАНЬ', 'Сочи', 'город сочи', 'г.казань.', 'СОЧИ ГОРОД', 'город солнца сочи', 'москва', 'СоЧИ', 'городказань ', 'Москва', 'город москва']\n",
    "normalized_cities = ['москва', 'сочи', 'казань']"
   ]
  },
  {
   "cell_type": "code",
   "execution_count": 62,
   "metadata": {
    "id": "Hpj9V0EhKd-9"
   },
   "outputs": [],
   "source": [
    "# функция нормализация имени из city_string в city_name\n",
    "def city_normalization(city_string, city_name):\n",
    "    if city_string.lower().find(city_name) != -1:\n",
    "        return city_name\n",
    "    else: \n",
    "        return None\n",
    "# функция нормализации имен из user_cities в нормализованные имена normalized_cities\n",
    "def normalization(user_cities, normalized_cities):\n",
    "    for i in user_cities:\n",
    "        for j in normalized_cities:\n",
    "            if city_normalization(i, j):\n",
    "                print (f\"До: {i}, После: {city_normalization(i, j)}\")\n",
    "                break\n"
   ]
  },
  {
   "cell_type": "code",
   "execution_count": 63,
   "metadata": {
    "colab": {
     "base_uri": "https://localhost:8080/"
    },
    "executionInfo": {
     "elapsed": 325,
     "status": "ok",
     "timestamp": 1643835147228,
     "user": {
      "displayName": "Евгения Миллер",
      "photoUrl": "https://lh3.googleusercontent.com/a-/AOh14Gj2X0dQicVOw3_uvDLm2AdkkDjMIUubVj8NCWQ6=s64",
      "userId": "01842992490389353651"
     },
     "user_tz": -180
    },
    "id": "Cn9fzuLYMXt1",
    "outputId": "fe2f8ea1-96d4-466f-ae1c-dc3f0ae60a7a",
    "scrolled": true
   },
   "outputs": [
    {
     "name": "stdout",
     "output_type": "stream",
     "text": [
      "До: гМосква, После: москва\n",
      "До: КАЗАНЬ, После: казань\n",
      "До: Сочи, После: сочи\n",
      "До: город сочи, После: сочи\n",
      "До: г.казань., После: казань\n",
      "До: СОЧИ ГОРОД, После: сочи\n",
      "До: город солнца сочи, После: сочи\n",
      "До: москва, После: москва\n",
      "До: СоЧИ, После: сочи\n",
      "До: городказань , После: казань\n",
      "До: Москва, После: москва\n",
      "До: город москва, После: москва\n"
     ]
    }
   ],
   "source": [
    "normalization(user_cities, normalized_cities)"
   ]
  },
  {
   "cell_type": "markdown",
   "metadata": {
    "id": "lGPV3njFuLCK"
   },
   "source": [
    "**Дополнительная задача**"
   ]
  },
  {
   "cell_type": "markdown",
   "metadata": {
    "id": "2MlS_Rc8_S2h"
   },
   "source": [
    "*Задача 4. Проверка пароля*\n",
    "\n",
    "Напишите функцию, которая проверяет пароль на соответствие условиям:\n",
    "* Состоит не менее чем из 8 символов.\n",
    "* Есть хотя бы одна буква в верхнем регистре.\n",
    "* Есть хотя бы 2 цифры.\n",
    "* В пароле не используются символы: § ±.\n",
    "\n",
    "В результате проверки функция должна выдать, соответствует ли данный пароль условиям. Если да — вывести «OK», если нет — вывести все ошибки в данном пароле. Используйте декомпозицию.\n",
    "\n",
    "Подсказка:\n",
    "* Для проверки того, является ли символ цифрой, можно использовать метод `isdigit`.\n",
    "* Для проверки, стоит ли символ в верхнем регистре, можно использовать метод `isupper`.\n",
    "\n",
    "\n",
    "\n",
    "\n"
   ]
  },
  {
   "cell_type": "code",
   "execution_count": 66,
   "metadata": {
    "id": "Mnp-FagTHFji"
   },
   "outputs": [],
   "source": [
    "def check_pass(password):\n",
    "    digit_counter = 0\n",
    "    upper_counter = 0\n",
    "    if len(password) >= 8:\n",
    "        for elem in password:\n",
    "            if elem.find(\"§\") == -1 or elem.find(\"±\") == -1:\n",
    "                if elem.isdigit:\n",
    "                    digit_counter += 1\n",
    "                if elem.isupper:\n",
    "                    upper_counter += 1\n",
    "            else:\n",
    "                print(\"Пароль содержит недопустимые символы\")\n",
    "        if digit_counter >= 2 and upper_counter >= 1:\n",
    "            print (\"ok\")\n",
    "    else:\n",
    "        print (\"Пароль менее 8 символов\")\n",
    "    # Ваш код здесь"
   ]
  },
  {
   "cell_type": "code",
   "execution_count": null,
   "metadata": {},
   "outputs": [],
   "source": [
    "def check_length(password):\n",
    "    if len(password) >= 8:\n",
    "        return True \n",
    "    else:\n",
    "        print (\"Меньше 8\")\n",
    "    return False"
   ]
  },
  {
   "cell_type": "code",
   "execution_count": 67,
   "metadata": {
    "colab": {
     "base_uri": "https://localhost:8080/"
    },
    "executionInfo": {
     "elapsed": 262,
     "status": "ok",
     "timestamp": 1634572713175,
     "user": {
      "displayName": "Yulduz Fattakhova",
      "photoUrl": "https://lh3.googleusercontent.com/a-/AOh14GiMux79i3vxuxKnCVSDClfaXbH-jvsA0woYdDAT=s64",
      "userId": "14698334089562212742"
     },
     "user_tz": -180
    },
    "id": "m0l83EfkD1NJ",
    "outputId": "62998c6f-bfbb-484e-c922-fb6389ac3a12"
   },
   "outputs": [
    {
     "name": "stdout",
     "output_type": "stream",
     "text": [
      "Пароль менее 8 символов\n"
     ]
    }
   ],
   "source": [
    "check_pass('123')"
   ]
  },
  {
   "cell_type": "code",
   "execution_count": null,
   "metadata": {
    "colab": {
     "base_uri": "https://localhost:8080/"
    },
    "executionInfo": {
     "elapsed": 3,
     "status": "ok",
     "timestamp": 1634572713517,
     "user": {
      "displayName": "Yulduz Fattakhova",
      "photoUrl": "https://lh3.googleusercontent.com/a-/AOh14GiMux79i3vxuxKnCVSDClfaXbH-jvsA0woYdDAT=s64",
      "userId": "14698334089562212742"
     },
     "user_tz": -180
    },
    "id": "8jVQRskYD2yP",
    "outputId": "381624c7-c81d-43e8-fcd4-fd862019a47f"
   },
   "outputs": [
    {
     "name": "stdout",
     "output_type": "stream",
     "text": [
      "Длина менее 8 символов\n",
      "Используйте хотя бы одну букву в верхнем регистре\n"
     ]
    }
   ],
   "source": [
    "check_pass('123abc')"
   ]
  },
  {
   "cell_type": "code",
   "execution_count": null,
   "metadata": {
    "colab": {
     "base_uri": "https://localhost:8080/"
    },
    "executionInfo": {
     "elapsed": 261,
     "status": "ok",
     "timestamp": 1634572750946,
     "user": {
      "displayName": "Yulduz Fattakhova",
      "photoUrl": "https://lh3.googleusercontent.com/a-/AOh14GiMux79i3vxuxKnCVSDClfaXbH-jvsA0woYdDAT=s64",
      "userId": "14698334089562212742"
     },
     "user_tz": -180
    },
    "id": "IWQiCTdLIJwV",
    "outputId": "e6b9b8cd-d188-4f02-c893-c46e57375792"
   },
   "outputs": [
    {
     "name": "stdout",
     "output_type": "stream",
     "text": [
      "Используйте хотя бы 2 цифры\n"
     ]
    }
   ],
   "source": [
    "check_pass('abcABCdgshj')"
   ]
  },
  {
   "cell_type": "code",
   "execution_count": null,
   "metadata": {
    "colab": {
     "base_uri": "https://localhost:8080/"
    },
    "executionInfo": {
     "elapsed": 276,
     "status": "ok",
     "timestamp": 1634572867673,
     "user": {
      "displayName": "Yulduz Fattakhova",
      "photoUrl": "https://lh3.googleusercontent.com/a-/AOh14GiMux79i3vxuxKnCVSDClfaXbH-jvsA0woYdDAT=s64",
      "userId": "14698334089562212742"
     },
     "user_tz": -180
    },
    "id": "CGGv4wYoIOWP",
    "outputId": "ea0617c3-e40b-4204-f895-4edda32e5147"
   },
   "outputs": [
    {
     "name": "stdout",
     "output_type": "stream",
     "text": [
      "Используйте хотя бы 2 цифры\n",
      "Использован один из запрещенных символов: § ±\n"
     ]
    }
   ],
   "source": [
    "check_pass('abcABCdgsh±')"
   ]
  },
  {
   "cell_type": "code",
   "execution_count": null,
   "metadata": {
    "colab": {
     "base_uri": "https://localhost:8080/"
    },
    "executionInfo": {
     "elapsed": 290,
     "status": "ok",
     "timestamp": 1634572733230,
     "user": {
      "displayName": "Yulduz Fattakhova",
      "photoUrl": "https://lh3.googleusercontent.com/a-/AOh14GiMux79i3vxuxKnCVSDClfaXbH-jvsA0woYdDAT=s64",
      "userId": "14698334089562212742"
     },
     "user_tz": -180
    },
    "id": "JhqedHC8ETwV",
    "outputId": "1ea65f13-e3e3-43c7-827f-e23b79c45362"
   },
   "outputs": [
    {
     "name": "stdout",
     "output_type": "stream",
     "text": [
      "OK\n"
     ]
    }
   ],
   "source": [
    "check_pass('123abcABC')"
   ]
  },
  {
   "cell_type": "markdown",
   "metadata": {
    "id": "uXM650Sa8zS_"
   },
   "source": [
    "|\n",
    "\n",
    "|\n",
    "\n",
    "|\n",
    "\n",
    "|\n",
    "\n",
    "|\n",
    "\n",
    "|\n",
    "\n",
    "|\n",
    "\n",
    "|\n",
    "\n",
    "|\n",
    "\n",
    "|\n",
    "\n",
    "|\n",
    "\n",
    "|\n",
    "\n",
    "|\n",
    "\n",
    "|\n",
    "\n",
    "|\n",
    "\n",
    "|\n",
    "\n",
    "|\n",
    "\n",
    "|\n",
    "\n",
    "|\n"
   ]
  },
  {
   "cell_type": "markdown",
   "metadata": {
    "id": "2L3ZdG3j82cC"
   },
   "source": [
    "## Решения"
   ]
  },
  {
   "cell_type": "markdown",
   "metadata": {
    "id": "SgKy51vtGfGZ"
   },
   "source": [
    "**Обязательные задачи**"
   ]
  },
  {
   "cell_type": "markdown",
   "metadata": {
    "id": "OPPdpvL-GfGe"
   },
   "source": [
    "*Задача 1. Очищение строк*\n",
    "\n",
    "Данные по фамилии и имени каждого пользователя приходят в виде строки вида: `Фамилия:Иванов,Имя:Герасим`. Напишите функцию, которая будет обрабатывать такую строку в качестве входного параметра, а на выходе будет возвращать два значения: фамилию и имя в нижнем регистре.\n",
    "\n",
    "Проверьте, что ячейки ниже отработали верно.\n"
   ]
  },
  {
   "cell_type": "code",
   "execution_count": 2,
   "metadata": {
    "executionInfo": {
     "elapsed": 260,
     "status": "ok",
     "timestamp": 1643833618669,
     "user": {
      "displayName": "Евгения Миллер",
      "photoUrl": "https://lh3.googleusercontent.com/a-/AOh14Gj2X0dQicVOw3_uvDLm2AdkkDjMIUubVj8NCWQ6=s64",
      "userId": "01842992490389353651"
     },
     "user_tz": -180
    },
    "id": "7V11ZYpvGfGe"
   },
   "outputs": [],
   "source": [
    "def get_name_data(input_data):\n",
    "    fi = input_data.lower().split(',')\n",
    "\n",
    "    surname = fi[0].split(':')[1]\n",
    "    name = fi[1].split(':')[1]\n",
    "\n",
    "    return surname, name"
   ]
  },
  {
   "cell_type": "code",
   "execution_count": 3,
   "metadata": {
    "colab": {
     "base_uri": "https://localhost:8080/"
    },
    "executionInfo": {
     "elapsed": 302,
     "status": "ok",
     "timestamp": 1643833620478,
     "user": {
      "displayName": "Евгения Миллер",
      "photoUrl": "https://lh3.googleusercontent.com/a-/AOh14Gj2X0dQicVOw3_uvDLm2AdkkDjMIUubVj8NCWQ6=s64",
      "userId": "01842992490389353651"
     },
     "user_tz": -180
    },
    "id": "sKXD9ZYWGfGe",
    "outputId": "26dfa791-1b35-4c89-ebd4-4931d4769d00"
   },
   "outputs": [
    {
     "data": {
      "text/plain": [
       "('иванов', 'герасим')"
      ]
     },
     "execution_count": 3,
     "metadata": {},
     "output_type": "execute_result"
    }
   ],
   "source": [
    "get_name_data('Фамилия:Иванов,Имя:Герасим')"
   ]
  },
  {
   "cell_type": "code",
   "execution_count": 4,
   "metadata": {
    "colab": {
     "base_uri": "https://localhost:8080/"
    },
    "executionInfo": {
     "elapsed": 260,
     "status": "ok",
     "timestamp": 1643833621865,
     "user": {
      "displayName": "Евгения Миллер",
      "photoUrl": "https://lh3.googleusercontent.com/a-/AOh14Gj2X0dQicVOw3_uvDLm2AdkkDjMIUubVj8NCWQ6=s64",
      "userId": "01842992490389353651"
     },
     "user_tz": -180
    },
    "id": "tM0Uzq_NGfGe",
    "outputId": "bbd8ed35-41d3-458c-c184-4c7d3ffde90c"
   },
   "outputs": [
    {
     "data": {
      "text/plain": [
       "('сидоров-ильин', 'петр')"
      ]
     },
     "execution_count": 4,
     "metadata": {},
     "output_type": "execute_result"
    }
   ],
   "source": [
    "get_name_data('Фамилия:Сидоров-Ильин,Имя:Петр')"
   ]
  },
  {
   "cell_type": "markdown",
   "metadata": {
    "id": "GtW1BJEIGfGe"
   },
   "source": [
    "*Задача 2. Дефолтные параметры в функции*\n",
    "\n",
    "Доработайте предыдущую функцию таким образом, чтобы вторым параметром передавалось значение, которое должна вернуть функция.\n",
    "* Если передать фамилию — вернуть фамилию.\n",
    "* Если передать имя — вернуть имя\n",
    "* Если ничего не передавать — вернуть и имя, и фамилию.\n",
    "\n",
    "Проверьте, что ячейки ниже отработали верно.\n"
   ]
  },
  {
   "cell_type": "code",
   "execution_count": 9,
   "metadata": {
    "executionInfo": {
     "elapsed": 266,
     "status": "ok",
     "timestamp": 1643833934997,
     "user": {
      "displayName": "Евгения Миллер",
      "photoUrl": "https://lh3.googleusercontent.com/a-/AOh14Gj2X0dQicVOw3_uvDLm2AdkkDjMIUubVj8NCWQ6=s64",
      "userId": "01842992490389353651"
     },
     "user_tz": -180
    },
    "id": "0oUAuRKSGfGe"
   },
   "outputs": [],
   "source": [
    "def get_name_data(input_data, request=0):\n",
    "    fi = input_data.lower().split(',')\n",
    "\n",
    "    surname = fi[0].split(':')[1]\n",
    "    name = fi[1].split(':')[1]\n",
    "\n",
    "    if request == 'фамилия':\n",
    "        return surname\n",
    "\n",
    "    if request == 'имя':\n",
    "        return name\n",
    "\n",
    "    return surname, name"
   ]
  },
  {
   "cell_type": "code",
   "execution_count": 10,
   "metadata": {
    "colab": {
     "base_uri": "https://localhost:8080/",
     "height": 35
    },
    "executionInfo": {
     "elapsed": 272,
     "status": "ok",
     "timestamp": 1643833939741,
     "user": {
      "displayName": "Евгения Миллер",
      "photoUrl": "https://lh3.googleusercontent.com/a-/AOh14Gj2X0dQicVOw3_uvDLm2AdkkDjMIUubVj8NCWQ6=s64",
      "userId": "01842992490389353651"
     },
     "user_tz": -180
    },
    "id": "pTANgRQiGfGf",
    "outputId": "82032b60-e798-43ba-b489-75da7b6e14e6"
   },
   "outputs": [
    {
     "data": {
      "application/vnd.google.colaboratory.intrinsic+json": {
       "type": "string"
      },
      "text/plain": [
       "'петрова'"
      ]
     },
     "execution_count": 10,
     "metadata": {},
     "output_type": "execute_result"
    }
   ],
   "source": [
    "get_name_data('Фамилия:Петрова,Имя:Анжела', 'фамилия')"
   ]
  },
  {
   "cell_type": "code",
   "execution_count": 11,
   "metadata": {
    "colab": {
     "base_uri": "https://localhost:8080/",
     "height": 35
    },
    "executionInfo": {
     "elapsed": 252,
     "status": "ok",
     "timestamp": 1643833941181,
     "user": {
      "displayName": "Евгения Миллер",
      "photoUrl": "https://lh3.googleusercontent.com/a-/AOh14Gj2X0dQicVOw3_uvDLm2AdkkDjMIUubVj8NCWQ6=s64",
      "userId": "01842992490389353651"
     },
     "user_tz": -180
    },
    "id": "AH7tOl97GfGf",
    "outputId": "6b1b4e9f-9062-4801-d4aa-c20cee5bb02c"
   },
   "outputs": [
    {
     "data": {
      "application/vnd.google.colaboratory.intrinsic+json": {
       "type": "string"
      },
      "text/plain": [
       "'анжела'"
      ]
     },
     "execution_count": 11,
     "metadata": {},
     "output_type": "execute_result"
    }
   ],
   "source": [
    "get_name_data('Фамилия:Петрова,Имя:Анжела', 'имя')"
   ]
  },
  {
   "cell_type": "code",
   "execution_count": 12,
   "metadata": {
    "colab": {
     "base_uri": "https://localhost:8080/"
    },
    "executionInfo": {
     "elapsed": 281,
     "status": "ok",
     "timestamp": 1643833942978,
     "user": {
      "displayName": "Евгения Миллер",
      "photoUrl": "https://lh3.googleusercontent.com/a-/AOh14Gj2X0dQicVOw3_uvDLm2AdkkDjMIUubVj8NCWQ6=s64",
      "userId": "01842992490389353651"
     },
     "user_tz": -180
    },
    "id": "oA9k9JywGfGf",
    "outputId": "e7683a02-b258-48bd-d4df-45352f8dc5b8"
   },
   "outputs": [
    {
     "data": {
      "text/plain": [
       "('петрова', 'анжела')"
      ]
     },
     "execution_count": 12,
     "metadata": {},
     "output_type": "execute_result"
    }
   ],
   "source": [
    "get_name_data('Фамилия:Петрова,Имя:Анжела')"
   ]
  },
  {
   "cell_type": "markdown",
   "metadata": {
    "id": "rwDKt0wmGfGg"
   },
   "source": [
    "*Задача 3. Нормализация городов*\n",
    "\n",
    "Вспомним задачу из теоретического урока. Мы приводили имена города Москвы к нормальному виду. Теперь вам нужно написать программу, которая будет нормализовывать города из списка `user_cities`. Все нормализованные имена заранее определены и лежат в списке `normalized_cities`.\n"
   ]
  },
  {
   "cell_type": "code",
   "execution_count": 51,
   "metadata": {
    "executionInfo": {
     "elapsed": 250,
     "status": "ok",
     "timestamp": 1643835157411,
     "user": {
      "displayName": "Евгения Миллер",
      "photoUrl": "https://lh3.googleusercontent.com/a-/AOh14Gj2X0dQicVOw3_uvDLm2AdkkDjMIUubVj8NCWQ6=s64",
      "userId": "01842992490389353651"
     },
     "user_tz": -180
    },
    "id": "Sg_VXSPcGfGh"
   },
   "outputs": [],
   "source": [
    "user_cities = ['гМосква', 'КАЗАНЬ', 'Сочи', 'город сочи', 'г.казань.', 'СОЧИ ГОРОД', 'город солнца сочи', 'москва', 'СоЧИ', 'городказань ', 'Москва', 'город москва']\n",
    "normalized_cities = ['москва', 'сочи', 'казань']"
   ]
  },
  {
   "cell_type": "code",
   "execution_count": 52,
   "metadata": {
    "executionInfo": {
     "elapsed": 426,
     "status": "ok",
     "timestamp": 1643835263599,
     "user": {
      "displayName": "Евгения Миллер",
      "photoUrl": "https://lh3.googleusercontent.com/a-/AOh14Gj2X0dQicVOw3_uvDLm2AdkkDjMIUubVj8NCWQ6=s64",
      "userId": "01842992490389353651"
     },
     "user_tz": -180
    },
    "id": "mwxlC98iGfGh"
   },
   "outputs": [],
   "source": [
    "# функция нормализация имени из city_string в city_name\n",
    "def city_normalization(city_string, city_name):\n",
    "    normalized_string = city_string.lower()\n",
    "    index = normalized_string.find(city_name)\n",
    "    \n",
    "    if index != -1:\n",
    "        return city_name\n",
    "    else:\n",
    "        return None\n",
    "\n",
    "# функция нормализации имен из user_cities в нормализованные имена normalized_cities\n",
    "def normalization(user_cities, normalized_cities):\n",
    "    for city_string in user_cities:\n",
    "        for city_name in normalized_cities:\n",
    "            if city_normalization(city_string, city_name) is not None:\n",
    "                print(f\"До: {city_string}, После: {city_name}\")\n",
    "                break\n",
    "        "
   ]
  },
  {
   "cell_type": "code",
   "execution_count": 53,
   "metadata": {
    "colab": {
     "base_uri": "https://localhost:8080/"
    },
    "executionInfo": {
     "elapsed": 253,
     "status": "ok",
     "timestamp": 1643835265501,
     "user": {
      "displayName": "Евгения Миллер",
      "photoUrl": "https://lh3.googleusercontent.com/a-/AOh14Gj2X0dQicVOw3_uvDLm2AdkkDjMIUubVj8NCWQ6=s64",
      "userId": "01842992490389353651"
     },
     "user_tz": -180
    },
    "id": "4xAnjQUoMXsg",
    "outputId": "3f3358ce-3ea9-4ea2-c3c1-9b1965df31d7"
   },
   "outputs": [
    {
     "name": "stdout",
     "output_type": "stream",
     "text": [
      "До: гМосква, После: москва\n",
      "До: КАЗАНЬ, После: казань\n",
      "До: Сочи, После: сочи\n",
      "До: город сочи, После: сочи\n",
      "До: г.казань., После: казань\n",
      "До: СОЧИ ГОРОД, После: сочи\n",
      "До: город солнца сочи, После: сочи\n",
      "До: москва, После: москва\n",
      "До: СоЧИ, После: сочи\n",
      "До: городказань , После: казань\n",
      "До: Москва, После: москва\n",
      "До: город москва, После: москва\n"
     ]
    }
   ],
   "source": [
    "normalization(user_cities, normalized_cities)"
   ]
  },
  {
   "cell_type": "markdown",
   "metadata": {
    "id": "PNDUuqhLGfGh"
   },
   "source": [
    "**Дополнительная задача**"
   ]
  },
  {
   "cell_type": "markdown",
   "metadata": {
    "id": "pTzX8OnkGfGh"
   },
   "source": [
    "*Задача 4. Проверка пароля*\n",
    "\n",
    "Напишите функцию, которая проверяет пароль на соответствие условиям:\n",
    "* Состоит не менее чем из 8 символов.\n",
    "* Есть хотя бы одна буква в верхнем регистре.\n",
    "* Есть хотя бы 2 цифры.\n",
    "* В пароле не используются символы: § ±.\n",
    "\n",
    "В результате проверки функция должна выдать, соответствует ли данный пароль условиям. Если да — вывести «OK», если нет — вывести все ошибки в данном пароле. Используйте декомпозицию.\n",
    "\n",
    "Подсказка:\n",
    "* Для проверки того, является ли символ цифрой, можно использовать метод `isdigit`.\n",
    "* Для проверки, стоит ли символ в верхнем регистре, можно использовать метод `isupper`.\n",
    "\n",
    "\n",
    "\n",
    "\n"
   ]
  },
  {
   "cell_type": "code",
   "execution_count": 59,
   "metadata": {
    "executionInfo": {
     "elapsed": 393,
     "status": "ok",
     "timestamp": 1643837505772,
     "user": {
      "displayName": "Евгения Миллер",
      "photoUrl": "https://lh3.googleusercontent.com/a-/AOh14Gj2X0dQicVOw3_uvDLm2AdkkDjMIUubVj8NCWQ6=s64",
      "userId": "01842992490389353651"
     },
     "user_tz": -180
    },
    "id": "uTIRICnVGfGh"
   },
   "outputs": [],
   "source": [
    "def check_pass(password):\n",
    "    errors = []\n",
    "    errors.append(check_length(password))\n",
    "    errors.append(check_upper(password))\n",
    "    errors.append(check_digits(password))\n",
    "    errors.append(check_special_characters(password))\n",
    "\n",
    "    if False not in errors:\n",
    "        print('OK')"
   ]
  },
  {
   "cell_type": "code",
   "execution_count": 60,
   "metadata": {
    "executionInfo": {
     "elapsed": 1,
     "status": "ok",
     "timestamp": 1643837506212,
     "user": {
      "displayName": "Евгения Миллер",
      "photoUrl": "https://lh3.googleusercontent.com/a-/AOh14Gj2X0dQicVOw3_uvDLm2AdkkDjMIUubVj8NCWQ6=s64",
      "userId": "01842992490389353651"
     },
     "user_tz": -180
    },
    "id": "OIGitJt0OMSO"
   },
   "outputs": [],
   "source": [
    "def check_length(password):\n",
    "    if len(password) >= 8:\n",
    "        return True\n",
    "    print('Длина менее 8 символов')\n",
    "    return False"
   ]
  },
  {
   "cell_type": "code",
   "execution_count": 61,
   "metadata": {
    "executionInfo": {
     "elapsed": 1,
     "status": "ok",
     "timestamp": 1643837506567,
     "user": {
      "displayName": "Евгения Миллер",
      "photoUrl": "https://lh3.googleusercontent.com/a-/AOh14Gj2X0dQicVOw3_uvDLm2AdkkDjMIUubVj8NCWQ6=s64",
      "userId": "01842992490389353651"
     },
     "user_tz": -180
    },
    "id": "wgmg4CexOjIM"
   },
   "outputs": [],
   "source": [
    "def check_upper(password):\n",
    "    for character in password:\n",
    "        if character.isupper():\n",
    "            return True\n",
    "    print('Используйте хотя бы одну букву в верхнем регистре')\n",
    "    return False"
   ]
  },
  {
   "cell_type": "code",
   "execution_count": 62,
   "metadata": {
    "executionInfo": {
     "elapsed": 2,
     "status": "ok",
     "timestamp": 1643837506940,
     "user": {
      "displayName": "Евгения Миллер",
      "photoUrl": "https://lh3.googleusercontent.com/a-/AOh14Gj2X0dQicVOw3_uvDLm2AdkkDjMIUubVj8NCWQ6=s64",
      "userId": "01842992490389353651"
     },
     "user_tz": -180
    },
    "id": "NQXqDKjjPGQ4"
   },
   "outputs": [],
   "source": [
    "def check_digits(password):\n",
    "    digits = 0\n",
    "    for character in password:\n",
    "        if character.isdigit():\n",
    "            digits += 1\n",
    "    if digits > 1:\n",
    "        return True\n",
    "    print('Используйте хотя бы 2 цифры')\n",
    "    return False"
   ]
  },
  {
   "cell_type": "code",
   "execution_count": 63,
   "metadata": {
    "executionInfo": {
     "elapsed": 1,
     "status": "ok",
     "timestamp": 1643837507581,
     "user": {
      "displayName": "Евгения Миллер",
      "photoUrl": "https://lh3.googleusercontent.com/a-/AOh14Gj2X0dQicVOw3_uvDLm2AdkkDjMIUubVj8NCWQ6=s64",
      "userId": "01842992490389353651"
     },
     "user_tz": -180
    },
    "id": "s-MVR1sCRzyC"
   },
   "outputs": [],
   "source": [
    "def check_special_characters(password):\n",
    "    if not ('§' in password or '±' in password):\n",
    "        return True\n",
    "    print('Использован один из запрещенных символов: § ±')\n",
    "    return False"
   ]
  },
  {
   "cell_type": "code",
   "execution_count": 64,
   "metadata": {
    "colab": {
     "base_uri": "https://localhost:8080/"
    },
    "executionInfo": {
     "elapsed": 312,
     "status": "ok",
     "timestamp": 1643837510746,
     "user": {
      "displayName": "Евгения Миллер",
      "photoUrl": "https://lh3.googleusercontent.com/a-/AOh14Gj2X0dQicVOw3_uvDLm2AdkkDjMIUubVj8NCWQ6=s64",
      "userId": "01842992490389353651"
     },
     "user_tz": -180
    },
    "id": "d3_IV6iyGfGh",
    "outputId": "e9bafced-a86c-4532-d01a-b486bbdb17da"
   },
   "outputs": [
    {
     "name": "stdout",
     "output_type": "stream",
     "text": [
      "Длина менее 8 символов\n",
      "Используйте хотя бы одну букву в верхнем регистре\n"
     ]
    }
   ],
   "source": [
    "check_pass('123')"
   ]
  },
  {
   "cell_type": "code",
   "execution_count": 65,
   "metadata": {
    "colab": {
     "base_uri": "https://localhost:8080/"
    },
    "executionInfo": {
     "elapsed": 395,
     "status": "ok",
     "timestamp": 1643837512175,
     "user": {
      "displayName": "Евгения Миллер",
      "photoUrl": "https://lh3.googleusercontent.com/a-/AOh14Gj2X0dQicVOw3_uvDLm2AdkkDjMIUubVj8NCWQ6=s64",
      "userId": "01842992490389353651"
     },
     "user_tz": -180
    },
    "id": "XKDgLjUuGfGh",
    "outputId": "67caa58f-b5f1-4252-db9c-dcb35461b40f"
   },
   "outputs": [
    {
     "name": "stdout",
     "output_type": "stream",
     "text": [
      "Длина менее 8 символов\n",
      "Используйте хотя бы одну букву в верхнем регистре\n"
     ]
    }
   ],
   "source": [
    "check_pass('123abc')"
   ]
  },
  {
   "cell_type": "code",
   "execution_count": 66,
   "metadata": {
    "colab": {
     "base_uri": "https://localhost:8080/"
    },
    "executionInfo": {
     "elapsed": 3,
     "status": "ok",
     "timestamp": 1643837513192,
     "user": {
      "displayName": "Евгения Миллер",
      "photoUrl": "https://lh3.googleusercontent.com/a-/AOh14Gj2X0dQicVOw3_uvDLm2AdkkDjMIUubVj8NCWQ6=s64",
      "userId": "01842992490389353651"
     },
     "user_tz": -180
    },
    "id": "mBMVZWNxGfGh",
    "outputId": "0f0e1d07-1735-43d3-cb07-1fafe453e5cd"
   },
   "outputs": [
    {
     "name": "stdout",
     "output_type": "stream",
     "text": [
      "Используйте хотя бы 2 цифры\n"
     ]
    }
   ],
   "source": [
    "check_pass('abcABCdgshj')"
   ]
  },
  {
   "cell_type": "code",
   "execution_count": 67,
   "metadata": {
    "colab": {
     "base_uri": "https://localhost:8080/"
    },
    "executionInfo": {
     "elapsed": 2,
     "status": "ok",
     "timestamp": 1643837514090,
     "user": {
      "displayName": "Евгения Миллер",
      "photoUrl": "https://lh3.googleusercontent.com/a-/AOh14Gj2X0dQicVOw3_uvDLm2AdkkDjMIUubVj8NCWQ6=s64",
      "userId": "01842992490389353651"
     },
     "user_tz": -180
    },
    "id": "sf10srdcGfGh",
    "outputId": "943ad337-e808-4834-93f8-0173febe9eb8"
   },
   "outputs": [
    {
     "name": "stdout",
     "output_type": "stream",
     "text": [
      "Используйте хотя бы 2 цифры\n",
      "Использован один из запрещенных символов: § ±\n"
     ]
    }
   ],
   "source": [
    "check_pass('abcABCdgsh±')"
   ]
  },
  {
   "cell_type": "code",
   "execution_count": 68,
   "metadata": {
    "colab": {
     "base_uri": "https://localhost:8080/"
    },
    "executionInfo": {
     "elapsed": 265,
     "status": "ok",
     "timestamp": 1643837515763,
     "user": {
      "displayName": "Евгения Миллер",
      "photoUrl": "https://lh3.googleusercontent.com/a-/AOh14Gj2X0dQicVOw3_uvDLm2AdkkDjMIUubVj8NCWQ6=s64",
      "userId": "01842992490389353651"
     },
     "user_tz": -180
    },
    "id": "OuIE5WBCGfGh",
    "outputId": "71ebd65d-5f13-4d0d-d84b-3c5f109c3db6"
   },
   "outputs": [
    {
     "name": "stdout",
     "output_type": "stream",
     "text": [
      "OK\n"
     ]
    }
   ],
   "source": [
    "check_pass('123abcABC')"
   ]
  },
  {
   "cell_type": "code",
   "execution_count": 68,
   "metadata": {
    "id": "cc7egDARSnhL"
   },
   "outputs": [],
   "source": [
    "def powers_of_two(n):\n",
    "    if n == 0:\n",
    "        return 1\n",
    "    else:\n",
    "        return powers_of_two(n-1)*2"
   ]
  },
  {
   "cell_type": "code",
   "execution_count": 69,
   "metadata": {},
   "outputs": [
    {
     "data": {
      "text/plain": [
       "16"
      ]
     },
     "execution_count": 69,
     "metadata": {},
     "output_type": "execute_result"
    }
   ],
   "source": [
    "powers_of_two(4)"
   ]
  },
  {
   "cell_type": "code",
   "execution_count": 70,
   "metadata": {},
   "outputs": [
    {
     "ename": "NameError",
     "evalue": "name 'power_of_two' is not defined",
     "output_type": "error",
     "traceback": [
      "\u001b[1;31m---------------------------------------------------------------------------\u001b[0m",
      "\u001b[1;31mNameError\u001b[0m                                 Traceback (most recent call last)",
      "\u001b[1;32m~\\AppData\\Local\\Temp\\ipykernel_8048\\1946302116.py\u001b[0m in \u001b[0;36m<module>\u001b[1;34m\u001b[0m\n\u001b[1;32m----> 1\u001b[1;33m \u001b[0mpower_of_two\u001b[0m\u001b[1;33m(\u001b[0m\u001b[1;36m6\u001b[0m\u001b[1;33m)\u001b[0m\u001b[1;33m\u001b[0m\u001b[1;33m\u001b[0m\u001b[0m\n\u001b[0m",
      "\u001b[1;31mNameError\u001b[0m: name 'power_of_two' is not defined"
     ]
    }
   ],
   "source": [
    "power_of_two(6)"
   ]
  },
  {
   "cell_type": "code",
   "execution_count": 72,
   "metadata": {},
   "outputs": [
    {
     "data": {
      "text/plain": [
       "2"
      ]
     },
     "execution_count": 72,
     "metadata": {},
     "output_type": "execute_result"
    }
   ],
   "source": [
    "powers_of_two(1)"
   ]
  },
  {
   "cell_type": "code",
   "execution_count": null,
   "metadata": {},
   "outputs": [],
   "source": []
  }
 ],
 "metadata": {
  "colab": {
   "collapsed_sections": [],
   "name": "9.6_Нормализация_строк_Практика.ipynb",
   "provenance": []
  },
  "kernelspec": {
   "display_name": "Python 3 (ipykernel)",
   "language": "python",
   "name": "python3"
  },
  "language_info": {
   "codemirror_mode": {
    "name": "ipython",
    "version": 3
   },
   "file_extension": ".py",
   "mimetype": "text/x-python",
   "name": "python",
   "nbconvert_exporter": "python",
   "pygments_lexer": "ipython3",
   "version": "3.9.13"
  }
 },
 "nbformat": 4,
 "nbformat_minor": 1
}
