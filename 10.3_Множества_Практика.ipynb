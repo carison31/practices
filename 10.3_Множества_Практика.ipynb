{
 "cells": [
  {
   "cell_type": "markdown",
   "metadata": {
    "id": "1N627HauDORH"
   },
   "source": [
    "# Множества. Практическое задание\n",
    "\n",
    "В этом практическом задании две обязательные и одна дополнительная задача.\n",
    "\n",
    "*Обязательные задачи* нужно сделать, чтобы проверить, что вы действительно усвоили материал урока. Если у вас всё получилось, вы можете переходить к следующему уроку.\n",
    "\n",
    "*Дополнительные задачи* для тех, кто чувствует, что нужно ещё немного потренироваться и порешать задачки по программированию.\n",
    "\n",
    "Удачи!\n"
   ]
  },
  {
   "cell_type": "markdown",
   "metadata": {
    "id": "d_lOky2oDSS6"
   },
   "source": [
    "**Цели практического задания:**\n",
    "\n",
    "\n",
    "1.   Попрактиковать работу с типом данных set в Python.\n",
    "2.   Отработать операции над множествами: пересечение, объединение, вычитание.\n",
    "\n"
   ]
  },
  {
   "cell_type": "markdown",
   "metadata": {
    "id": "kSuS0M15DguK"
   },
   "source": [
    "\n",
    "\n",
    "---\n",
    "\n",
    "\n",
    "---\n",
    "\n"
   ]
  },
  {
   "cell_type": "markdown",
   "metadata": {
    "id": "rZW1xr_ODhmX"
   },
   "source": [
    "**Обязательные задачи**"
   ]
  },
  {
   "cell_type": "markdown",
   "metadata": {
    "id": "EkIeM_8MDjms"
   },
   "source": [
    "*Задача 1. Операции над множествами*\n",
    "\n",
    "Есть два списка. В списке `opened` лежат все ID договоров, открытых за прошлую неделю. В списке `closed` лежат все ID договоров, закрытых за прошлую неделю. \n",
    "\n",
    "Найдите с помощью множеств следующие значения:\n",
    "1. ID договоров, которые были открыты, а затем закрыты на прошлой неделе.\n",
    "2. ID договоров, которые были закрыты на прошлой неделе, но открыты ранее прошлой недели.\n",
    "3. ID договоров, которые были открыты на прошлой неделе, но пока не закрылись.\n",
    "4. Все ID договоров, с которыми производили операции закрытия или открытия на прошлой неделе.\n",
    "5. Проверьте, что сумма элементов из 1, 2, 3 равна 4.\n",
    "\n",
    "Проверьте работоспособность программы на разных значениях `opened`, `closed`.\n",
    "\n",
    "\n",
    "\n",
    "\n"
   ]
  },
  {
   "cell_type": "code",
   "execution_count": 2,
   "metadata": {
    "id": "hAxIBXUr0Sh7"
   },
   "outputs": [],
   "source": [
    "opened = ['123', '156', '189', '201', '222', '256', '266', '287', '289', '300']\n",
    "closed = ['20', '78', '85', '123', '222', '256', '287', '289']"
   ]
  },
  {
   "cell_type": "code",
   "execution_count": 9,
   "metadata": {
    "id": "0FZ4VRVv1eRd"
   },
   "outputs": [
    {
     "name": "stdout",
     "output_type": "stream",
     "text": [
      "{'123', '287', '289', '256', '222'}\n",
      "{'78', '20', '85'}\n",
      "{'85', '189', '156', '123', '287', '20', '256', '78', '289', '222', '266', '201', '300'}\n"
     ]
    }
   ],
   "source": [
    "opened_set = set(opened)\n",
    "closed_set = set(closed)\n",
    "opened_and_closed = opened_set & closed_set\n",
    "print (opened_and_closed)\n",
    "closed_dif_opened = closed_set - opened_set\n",
    "print (closed_dif_opened)\n",
    "closed_or_opened = closed_set | opened_set\n",
    "print (closed_or_opened)\n"
   ]
  },
  {
   "cell_type": "markdown",
   "metadata": {
    "id": "kLOK1abacrz5"
   },
   "source": [
    "*Задача 2. Проверка на дубли*\n",
    "\n",
    "Дан список `numbers`. Для каждого элемента выведите, встречался он до этого в списке или нет. Используйте множества для решения этой задачи.\n",
    "\n",
    "Проверьте работоспособность программы на разных значениях `numbers`.\n"
   ]
  },
  {
   "cell_type": "markdown",
   "metadata": {
    "id": "H3kfzVSjBmok"
   },
   "source": [
    "Пример: \n",
    "<br>\n",
    "Input: `numbers = [1, 2, 1, 3, 2]` \n",
    "<br>\n",
    "Output: \n",
    "\n",
    "`1 - не встречалось`\n",
    "\n",
    "`2 - не встречалось`\n",
    "\n",
    "`1 - дубль`\n",
    "\n",
    "`3 - не встречалось`\n",
    "\n",
    "`2 - дубль`"
   ]
  },
  {
   "cell_type": "code",
   "execution_count": 19,
   "metadata": {
    "id": "VwSgUEvECK8z"
   },
   "outputs": [],
   "source": [
    "numbers = [1, 2, 1, 3, 2]\n",
    "numbers_set = set()"
   ]
  },
  {
   "cell_type": "code",
   "execution_count": 20,
   "metadata": {
    "id": "nwpN2SXnDRlg"
   },
   "outputs": [
    {
     "name": "stdout",
     "output_type": "stream",
     "text": [
      "1 не встречалось \n",
      "{1}\n",
      "2 не встречалось \n",
      "{1, 2}\n",
      "1 Встречалось\n",
      "{1, 2}\n",
      "3 не встречалось \n",
      "{1, 2, 3}\n",
      "2 Встречалось\n",
      "{1, 2, 3}\n"
     ]
    }
   ],
   "source": [
    "for j in numbers:\n",
    "    if j not in numbers_set:\n",
    "        print (f\"{j} не встречалось \")\n",
    "        numbers_set.add(j)\n",
    "    else: \n",
    "        print (f\"{j} Встречалось\")\n",
    "    print(numbers_set)"
   ]
  },
  {
   "cell_type": "markdown",
   "metadata": {
    "id": "PG32wmrtCDUI"
   },
   "source": [
    "\n",
    "\n",
    "---\n",
    "\n",
    "\n",
    "---\n",
    "\n"
   ]
  },
  {
   "cell_type": "markdown",
   "metadata": {
    "id": "3R_pNvq8CGVe"
   },
   "source": [
    "**Дополнительные задачи**"
   ]
  },
  {
   "cell_type": "markdown",
   "metadata": {
    "id": "r5RHqRY-Ngxj"
   },
   "source": [
    "*Задача 3. Проверка на плагиат*\n",
    "\n",
    "Даны два текста, которые лежат в переменных `text1` и  `text2` соответственно. Найдите схожесть данных текстов. Давайте считать схожестью процент, который можно найти по следующей формуле:\n",
    "\n",
    "схожесть = (количество уникальных одинаковых слов / общее число уникальных слов в двух текстах) * 100%\n",
    "\n",
    "\n",
    "В этом задании слова не нужно приводить в начальную форму. Так, \"цены\" и \"цен\" в текстах ниже мы будем считать разными словами."
   ]
  },
  {
   "cell_type": "markdown",
   "metadata": {
    "id": "0h844tl-PBPZ"
   },
   "source": [
    "Подсказка:\n",
    "1. От нежелательных знаков препинания можно избавиться с помощью `replace`.\n",
    "2. Символ `\\` удалять не нужно, он позволяет описывать строковую переменную в несколько строк в коде.\n"
   ]
  },
  {
   "cell_type": "code",
   "execution_count": 30,
   "metadata": {
    "id": "ocdGf-RcCEOL"
   },
   "outputs": [],
   "source": [
    "text1 = 'В первом квартале года отмечался рост цен практически на все сырьевые товары, что отражало сохранение тенденции к заметному росту цен, начавшемуся в середине 2020 года.\\\n",
    " Больше всего подорожали энергоресурсы, что имеет особое значение для российского экспорта топливо-энергетических товаров.'\n",
    "\n",
    "text2 = 'Цены на неэнергетические сырьевые товары в третьем квартале года в среднем выросли на 10% и по итогам года они покажут незначительный рост по сравнению с 2020. \\\n",
    "Это приведет к заметному росту цен на другие ресурсы.'"
   ]
  },
  {
   "cell_type": "code",
   "execution_count": 31,
   "metadata": {
    "colab": {
     "base_uri": "https://localhost:8080/",
     "height": 52
    },
    "executionInfo": {
     "elapsed": 14,
     "status": "ok",
     "timestamp": 1634977467816,
     "user": {
      "displayName": "Yulduz Fattakhova",
      "photoUrl": "https://lh3.googleusercontent.com/a-/AOh14GiMux79i3vxuxKnCVSDClfaXbH-jvsA0woYdDAT=s64",
      "userId": "14698334089562212742"
     },
     "user_tz": -180
    },
    "id": "onIqVKnhPmIL",
    "outputId": "107036fe-b03d-4032-88ca-275fda94ef39"
   },
   "outputs": [
    {
     "data": {
      "text/plain": [
       "'В первом квартале года отмечался рост цен практически на все сырьевые товары, что отражало сохранение тенденции к заметному росту цен, начавшемуся в середине 2020 года. Больше всего подорожали энергоресурсы, что имеет особое значение для российского экспорта топливо-энергетических товаров.'"
      ]
     },
     "execution_count": 31,
     "metadata": {},
     "output_type": "execute_result"
    }
   ],
   "source": [
    "text1"
   ]
  },
  {
   "cell_type": "code",
   "execution_count": 32,
   "metadata": {
    "colab": {
     "base_uri": "https://localhost:8080/",
     "height": 52
    },
    "executionInfo": {
     "elapsed": 360,
     "status": "ok",
     "timestamp": 1634977468583,
     "user": {
      "displayName": "Yulduz Fattakhova",
      "photoUrl": "https://lh3.googleusercontent.com/a-/AOh14GiMux79i3vxuxKnCVSDClfaXbH-jvsA0woYdDAT=s64",
      "userId": "14698334089562212742"
     },
     "user_tz": -180
    },
    "id": "h15ANBaQPmQS",
    "outputId": "2e8cd899-4847-426e-97bf-a789e8fb8115"
   },
   "outputs": [
    {
     "data": {
      "text/plain": [
       "'Цены на неэнергетические сырьевые товары в третьем квартале года в среднем выросли на 10% и по итогам года они покажут незначительный рост по сравнению с 2020. Это приведет к заметному росту цен на другие ресурсы.'"
      ]
     },
     "execution_count": 32,
     "metadata": {},
     "output_type": "execute_result"
    }
   ],
   "source": [
    "text2"
   ]
  },
  {
   "cell_type": "code",
   "execution_count": 42,
   "metadata": {
    "id": "-cPD4lxpPPQC"
   },
   "outputs": [
    {
     "name": "stdout",
     "output_type": "stream",
     "text": [
      "{'сырьевые', 'российского', 'отмечался', 'что', 'энергоресурсы', 'топливо-энергетических', 'особое', 'отражало', 'к', 'всего', 'экспорта', 'рост', 'тенденции', 'подорожали', 'имеет', 'года', 'цен', 'значение', 'заметному', 'для', 'сохранение', 'товаров', 'практически', 'первом', 'все', 'на', 'товары', 'начавшемуся', 'середине', 'квартале', '2020', 'в', 'росту', 'больше'}\n",
      "{'сырьевые', 'итогам', 'цены', 'выросли', '10%', 'третьем', 'и', 'среднем', 'они', 'к', 'рост', 'это', 'приведет', 'года', 'другие', 'цен', 'заметному', 'покажут', 'по', 'неэнергетические', 'на', 'товары', 'незначительный', 'с', 'квартале', 'сравнению', 'в', '2020', 'росту', 'ресурсы'}\n",
      "0.23076923076923078\n"
     ]
    }
   ],
   "source": [
    "# Ваш код здесь\n",
    "def antiplag (text1, text2):\n",
    "    text1_set = set(text1.replace(',', '').replace('.', '').lower().split())\n",
    "    text2_set = set(text2.replace(',', '').replace('.', '').lower().split())\n",
    "    \n",
    "\n",
    "    original = len(text1_set & text2_set)/len(text1_set | text2_set)\n",
    "    print(text1_set)\n",
    "    print(text2_set)\n",
    "    \n",
    "    print (original)\n",
    "antiplag(text1, text2)\n",
    "    "
   ]
  },
  {
   "cell_type": "markdown",
   "metadata": {
    "id": "OOjqsb-Rox0R"
   },
   "source": [
    "| \n",
    "\n",
    "|\n",
    "\n",
    "|\n",
    "\n",
    "|\n",
    "\n",
    "|\n",
    "\n",
    "|\n",
    "\n",
    "|\n",
    "\n",
    "|\n",
    "\n",
    "|\n",
    "\n",
    "|\n",
    "\n",
    "|\n",
    "\n",
    "|\n",
    "\n",
    "# Решения"
   ]
  },
  {
   "cell_type": "markdown",
   "metadata": {
    "id": "MgP27BJbowdF"
   },
   "source": [
    "**Обязательные задачи**"
   ]
  },
  {
   "cell_type": "markdown",
   "metadata": {
    "id": "TxIkVxRqowdI"
   },
   "source": [
    "*Задача 1. Операции над множествами*\n",
    "\n",
    "Есть два списка. В списке `opened` лежат все ID договоров, открытых за прошлую неделю. В списке `closed` лежат все ID договоров, закрытых за прошлую неделю. \n",
    "\n",
    "Найдите с помощью множеств следующие значения:\n",
    "1. ID договоров, которые были открыты, а затем закрыты на прошлой неделе.\n",
    "2. ID договоров, которые были закрыты на прошлой неделе, но открыты ранее прошлой недели.\n",
    "3. ID договоров, которые были открыты на прошлой неделе, но пока не закрылись.\n",
    "4. Все ID договоров, с которыми производили операции закрытия или открытия на прошлой неделе.\n",
    "5. Проверьте, что сумма элементов из 1, 2, 3 равна 4.\n",
    "\n",
    "Проверьте работоспособность программы на разных значениях `opened`, `closed`.\n",
    "\n",
    "\n",
    "\n",
    "\n"
   ]
  },
  {
   "cell_type": "code",
   "execution_count": 2,
   "metadata": {
    "executionInfo": {
     "elapsed": 3,
     "status": "ok",
     "timestamp": 1645570465938,
     "user": {
      "displayName": "Евгения Миллер",
      "photoUrl": "https://lh3.googleusercontent.com/a-/AOh14Gj2X0dQicVOw3_uvDLm2AdkkDjMIUubVj8NCWQ6=s64",
      "userId": "01842992490389353651"
     },
     "user_tz": -180
    },
    "id": "HIYRCStRowdI"
   },
   "outputs": [],
   "source": [
    "opened = ['123', '156', '189', '201', '222', '256', '266', '287', '289', '300']\n",
    "closed = ['20', '78', '85', '123', '222', '256', '287', '289']"
   ]
  },
  {
   "cell_type": "code",
   "execution_count": 8,
   "metadata": {
    "colab": {
     "base_uri": "https://localhost:8080/"
    },
    "executionInfo": {
     "elapsed": 4,
     "status": "ok",
     "timestamp": 1645570643814,
     "user": {
      "displayName": "Евгения Миллер",
      "photoUrl": "https://lh3.googleusercontent.com/a-/AOh14Gj2X0dQicVOw3_uvDLm2AdkkDjMIUubVj8NCWQ6=s64",
      "userId": "01842992490389353651"
     },
     "user_tz": -180
    },
    "id": "-_D9yDodowdJ",
    "outputId": "5f5fb4ae-69c4-4dcc-8727-2ecb078918f8"
   },
   "outputs": [
    {
     "data": {
      "text/plain": [
       "{'123', '222', '256', '287', '289'}"
      ]
     },
     "execution_count": 8,
     "metadata": {},
     "output_type": "execute_result"
    }
   ],
   "source": [
    "#1\n",
    "set1 = set(opened) & set(closed)\n",
    "set1"
   ]
  },
  {
   "cell_type": "code",
   "execution_count": 9,
   "metadata": {
    "colab": {
     "base_uri": "https://localhost:8080/"
    },
    "executionInfo": {
     "elapsed": 301,
     "status": "ok",
     "timestamp": 1645570652433,
     "user": {
      "displayName": "Евгения Миллер",
      "photoUrl": "https://lh3.googleusercontent.com/a-/AOh14Gj2X0dQicVOw3_uvDLm2AdkkDjMIUubVj8NCWQ6=s64",
      "userId": "01842992490389353651"
     },
     "user_tz": -180
    },
    "id": "0JDCH7gnpRJN",
    "outputId": "f9a1e387-d113-4c1d-9ce7-e458f3e7acc3"
   },
   "outputs": [
    {
     "data": {
      "text/plain": [
       "{'20', '78', '85'}"
      ]
     },
     "execution_count": 9,
     "metadata": {},
     "output_type": "execute_result"
    }
   ],
   "source": [
    "#2\n",
    "set2 = set(closed) - set(opened)\n",
    "set2"
   ]
  },
  {
   "cell_type": "code",
   "execution_count": 11,
   "metadata": {
    "colab": {
     "base_uri": "https://localhost:8080/"
    },
    "executionInfo": {
     "elapsed": 4,
     "status": "ok",
     "timestamp": 1645570664077,
     "user": {
      "displayName": "Евгения Миллер",
      "photoUrl": "https://lh3.googleusercontent.com/a-/AOh14Gj2X0dQicVOw3_uvDLm2AdkkDjMIUubVj8NCWQ6=s64",
      "userId": "01842992490389353651"
     },
     "user_tz": -180
    },
    "id": "w4Q63fuApRFX",
    "outputId": "6ec950d7-b6f7-422e-a7e9-50bcfff2f507"
   },
   "outputs": [
    {
     "data": {
      "text/plain": [
       "{'156', '189', '201', '266', '300'}"
      ]
     },
     "execution_count": 11,
     "metadata": {},
     "output_type": "execute_result"
    }
   ],
   "source": [
    "#3\n",
    "set3 = set(opened) - set(closed)\n",
    "set3"
   ]
  },
  {
   "cell_type": "code",
   "execution_count": 12,
   "metadata": {
    "colab": {
     "base_uri": "https://localhost:8080/"
    },
    "executionInfo": {
     "elapsed": 5,
     "status": "ok",
     "timestamp": 1645570670872,
     "user": {
      "displayName": "Евгения Миллер",
      "photoUrl": "https://lh3.googleusercontent.com/a-/AOh14Gj2X0dQicVOw3_uvDLm2AdkkDjMIUubVj8NCWQ6=s64",
      "userId": "01842992490389353651"
     },
     "user_tz": -180
    },
    "id": "2WiIXm_9pQ6_",
    "outputId": "0e80b47b-3626-4d01-e38c-9a0273569307"
   },
   "outputs": [
    {
     "data": {
      "text/plain": [
       "{'123',\n",
       " '156',\n",
       " '189',\n",
       " '20',\n",
       " '201',\n",
       " '222',\n",
       " '256',\n",
       " '266',\n",
       " '287',\n",
       " '289',\n",
       " '300',\n",
       " '78',\n",
       " '85'}"
      ]
     },
     "execution_count": 12,
     "metadata": {},
     "output_type": "execute_result"
    }
   ],
   "source": [
    "#4\n",
    "set4 = set(opened) | set(closed)\n",
    "set4"
   ]
  },
  {
   "cell_type": "code",
   "execution_count": 13,
   "metadata": {
    "colab": {
     "base_uri": "https://localhost:8080/"
    },
    "executionInfo": {
     "elapsed": 342,
     "status": "ok",
     "timestamp": 1645570701904,
     "user": {
      "displayName": "Евгения Миллер",
      "photoUrl": "https://lh3.googleusercontent.com/a-/AOh14Gj2X0dQicVOw3_uvDLm2AdkkDjMIUubVj8NCWQ6=s64",
      "userId": "01842992490389353651"
     },
     "user_tz": -180
    },
    "id": "af-iFpb-psli",
    "outputId": "df599f46-21ab-4524-ff28-86d6b1056c7b"
   },
   "outputs": [
    {
     "data": {
      "text/plain": [
       "True"
      ]
     },
     "execution_count": 13,
     "metadata": {},
     "output_type": "execute_result"
    }
   ],
   "source": [
    "len(set1) + len(set2) + len(set3) == len(set4)"
   ]
  },
  {
   "cell_type": "markdown",
   "metadata": {
    "id": "8A0vK417owdJ"
   },
   "source": [
    "*Задача 2. Проверка на дубли*\n",
    "\n",
    "Дан список `numbers`. Для каждого элемента выведите, встречался он до этого в списке или нет. Используйте множества для решения этой задачи.\n",
    "\n",
    "Проверьте работоспособность программы на разных значениях `numbers`.\n"
   ]
  },
  {
   "cell_type": "markdown",
   "metadata": {
    "id": "eUdwqUQlowdJ"
   },
   "source": [
    "Пример: \n",
    "<br>\n",
    "Input: `numbers = [1, 2, 1, 3, 2]` \n",
    "<br>\n",
    "Output: \n",
    "\n",
    "`1 - не встречалось`\n",
    "\n",
    "`2 - не встречалось`\n",
    "\n",
    "`1 - дубль`\n",
    "\n",
    "`3 - не встречалось`\n",
    "\n",
    "`2 - дубль`"
   ]
  },
  {
   "cell_type": "code",
   "execution_count": 15,
   "metadata": {
    "executionInfo": {
     "elapsed": 3,
     "status": "ok",
     "timestamp": 1645570872910,
     "user": {
      "displayName": "Евгения Миллер",
      "photoUrl": "https://lh3.googleusercontent.com/a-/AOh14Gj2X0dQicVOw3_uvDLm2AdkkDjMIUubVj8NCWQ6=s64",
      "userId": "01842992490389353651"
     },
     "user_tz": -180
    },
    "id": "yN4L3xF-owdJ"
   },
   "outputs": [],
   "source": [
    "numbers = [1, 2, 1, 3, 2]"
   ]
  },
  {
   "cell_type": "code",
   "execution_count": 16,
   "metadata": {
    "colab": {
     "base_uri": "https://localhost:8080/"
    },
    "executionInfo": {
     "elapsed": 455,
     "status": "ok",
     "timestamp": 1645570875926,
     "user": {
      "displayName": "Евгения Миллер",
      "photoUrl": "https://lh3.googleusercontent.com/a-/AOh14Gj2X0dQicVOw3_uvDLm2AdkkDjMIUubVj8NCWQ6=s64",
      "userId": "01842992490389353651"
     },
     "user_tz": -180
    },
    "id": "9RS8tmztowdK",
    "outputId": "4f52b5f0-59bb-47d8-a7e3-1a8747cbd412"
   },
   "outputs": [
    {
     "name": "stdout",
     "output_type": "stream",
     "text": [
      "1 - не встречалось\n",
      "2 - не встречалось\n",
      "1 - дубль\n",
      "3 - не встречалось\n",
      "2 - дубль\n"
     ]
    }
   ],
   "source": [
    "set_numbers = set()\n",
    "for el in numbers:\n",
    "    if el in set_numbers:\n",
    "        print(el, '- дубль')\n",
    "    else:\n",
    "        print(el, '- не встречалось')\n",
    "        set_numbers.add(el)"
   ]
  },
  {
   "cell_type": "markdown",
   "metadata": {
    "id": "KQlXsWJJowdK"
   },
   "source": [
    "\n",
    "\n",
    "---\n",
    "\n",
    "\n",
    "---\n",
    "\n"
   ]
  },
  {
   "cell_type": "markdown",
   "metadata": {
    "id": "yfqXpEKOowdK"
   },
   "source": [
    "**Дополнительные задачи**"
   ]
  },
  {
   "cell_type": "markdown",
   "metadata": {
    "id": "4--C7-voowdK"
   },
   "source": [
    "*Задача 3. Проверка на плагиат*\n",
    "\n",
    "Даны два текста, которые лежат в переменных `text1` и  `text2` соответственно. Найдите схожесть данных текстов. Давайте считать схожестью процент, который можно найти по следующей формуле:\n",
    "\n",
    "схожесть = (количество уникальных одинаковых слов / общее число уникальных слов в двух текстах) * 100%\n",
    "\n",
    "\n",
    "В этом задании слова не нужно приводить в начальную форму. Так, \"цены\" и \"цен\" в текстах ниже мы будем считать разными словами."
   ]
  },
  {
   "cell_type": "markdown",
   "metadata": {
    "id": "bvDt-90KowdK"
   },
   "source": [
    "Подсказка:\n",
    "1. От нежелательных знаков препинания можно избавиться с помощью `replace`.\n",
    "2. Символ `\\` удалять не нужно, он позволяет описывать строковую переменную в несколько строк в коде.\n"
   ]
  },
  {
   "cell_type": "code",
   "execution_count": 17,
   "metadata": {
    "executionInfo": {
     "elapsed": 390,
     "status": "ok",
     "timestamp": 1645570925109,
     "user": {
      "displayName": "Евгения Миллер",
      "photoUrl": "https://lh3.googleusercontent.com/a-/AOh14Gj2X0dQicVOw3_uvDLm2AdkkDjMIUubVj8NCWQ6=s64",
      "userId": "01842992490389353651"
     },
     "user_tz": -180
    },
    "id": "c6bpdVIKowdK"
   },
   "outputs": [],
   "source": [
    "text1 = 'В первом квартале года отмечался рост цен практически на все сырьевые товары, что отражало сохранение тенденции к заметному росту цен, начавшемуся в середине 2020 года.\\\n",
    " Больше всего подорожали энергоресурсы, что имеет особое значение для российского экспорта топливо-энергетических товаров.'\n",
    "\n",
    "text2 = 'Цены на неэнергетические сырьевые товары в третьем квартале года в среднем выросли на 10% и по итогам года они покажут незначительный рост по сравнению с 2020. \\\n",
    "Это приведет к заметному росту цен на другие ресурсы.'"
   ]
  },
  {
   "cell_type": "code",
   "execution_count": 18,
   "metadata": {
    "colab": {
     "base_uri": "https://localhost:8080/",
     "height": 53
    },
    "executionInfo": {
     "elapsed": 8,
     "status": "ok",
     "timestamp": 1645570925416,
     "user": {
      "displayName": "Евгения Миллер",
      "photoUrl": "https://lh3.googleusercontent.com/a-/AOh14Gj2X0dQicVOw3_uvDLm2AdkkDjMIUubVj8NCWQ6=s64",
      "userId": "01842992490389353651"
     },
     "user_tz": -180
    },
    "id": "CU009iaoowdL",
    "outputId": "8b4ff4fa-7301-4182-9fb7-e8ddf77d87f5"
   },
   "outputs": [
    {
     "data": {
      "application/vnd.google.colaboratory.intrinsic+json": {
       "type": "string"
      },
      "text/plain": [
       "'В первом квартале года отмечался рост цен практически на все сырьевые товары, что отражало сохранение тенденции к заметному росту цен, начавшемуся в середине 2020 года. Больше всего подорожали энергоресурсы, что имеет особое значение для российского экспорта топливо-энергетических товаров.'"
      ]
     },
     "execution_count": 18,
     "metadata": {},
     "output_type": "execute_result"
    }
   ],
   "source": [
    "text1"
   ]
  },
  {
   "cell_type": "code",
   "execution_count": 19,
   "metadata": {
    "colab": {
     "base_uri": "https://localhost:8080/",
     "height": 52
    },
    "executionInfo": {
     "elapsed": 4,
     "status": "ok",
     "timestamp": 1645570925751,
     "user": {
      "displayName": "Евгения Миллер",
      "photoUrl": "https://lh3.googleusercontent.com/a-/AOh14Gj2X0dQicVOw3_uvDLm2AdkkDjMIUubVj8NCWQ6=s64",
      "userId": "01842992490389353651"
     },
     "user_tz": -180
    },
    "id": "CWJNA0e4owdL",
    "outputId": "62838b16-7555-4a3d-d731-c00d829096d7"
   },
   "outputs": [
    {
     "data": {
      "application/vnd.google.colaboratory.intrinsic+json": {
       "type": "string"
      },
      "text/plain": [
       "'Цены на неэнергетические сырьевые товары в третьем квартале года в среднем выросли на 10% и по итогам года они покажут незначительный рост по сравнению с 2020. Это приведет к заметному росту цен на другие ресурсы.'"
      ]
     },
     "execution_count": 19,
     "metadata": {},
     "output_type": "execute_result"
    }
   ],
   "source": [
    "text2"
   ]
  },
  {
   "cell_type": "code",
   "execution_count": 38,
   "metadata": {
    "executionInfo": {
     "elapsed": 415,
     "status": "ok",
     "timestamp": 1645571184210,
     "user": {
      "displayName": "Евгения Миллер",
      "photoUrl": "https://lh3.googleusercontent.com/a-/AOh14Gj2X0dQicVOw3_uvDLm2AdkkDjMIUubVj8NCWQ6=s64",
      "userId": "01842992490389353651"
     },
     "user_tz": -180
    },
    "id": "w85dmwGDowdL"
   },
   "outputs": [],
   "source": [
    "set1 = set(text1.replace(',', '').replace('.', '').lower().split())\n",
    "set2 = set(text2.replace(',', '').replace('.', '').lower().split())"
   ]
  },
  {
   "cell_type": "code",
   "execution_count": 39,
   "metadata": {
    "colab": {
     "base_uri": "https://localhost:8080/"
    },
    "executionInfo": {
     "elapsed": 7,
     "status": "ok",
     "timestamp": 1645571186177,
     "user": {
      "displayName": "Евгения Миллер",
      "photoUrl": "https://lh3.googleusercontent.com/a-/AOh14Gj2X0dQicVOw3_uvDLm2AdkkDjMIUubVj8NCWQ6=s64",
      "userId": "01842992490389353651"
     },
     "user_tz": -180
    },
    "id": "PD9tBNARrqcC",
    "outputId": "6c151c6a-1aa1-4abe-dd16-7e8a928a0c11",
    "scrolled": true
   },
   "outputs": [
    {
     "data": {
      "text/plain": [
       "{'2020',\n",
       " 'больше',\n",
       " 'в',\n",
       " 'все',\n",
       " 'всего',\n",
       " 'года',\n",
       " 'для',\n",
       " 'заметному',\n",
       " 'значение',\n",
       " 'имеет',\n",
       " 'к',\n",
       " 'квартале',\n",
       " 'на',\n",
       " 'начавшемуся',\n",
       " 'особое',\n",
       " 'отмечался',\n",
       " 'отражало',\n",
       " 'первом',\n",
       " 'подорожали',\n",
       " 'практически',\n",
       " 'российского',\n",
       " 'рост',\n",
       " 'росту',\n",
       " 'середине',\n",
       " 'сохранение',\n",
       " 'сырьевые',\n",
       " 'тенденции',\n",
       " 'товаров',\n",
       " 'товары',\n",
       " 'топливо-энергетических',\n",
       " 'цен',\n",
       " 'что',\n",
       " 'экспорта',\n",
       " 'энергоресурсы'}"
      ]
     },
     "execution_count": 39,
     "metadata": {},
     "output_type": "execute_result"
    }
   ],
   "source": [
    "set1"
   ]
  },
  {
   "cell_type": "code",
   "execution_count": 25,
   "metadata": {
    "colab": {
     "base_uri": "https://localhost:8080/"
    },
    "executionInfo": {
     "elapsed": 300,
     "status": "ok",
     "timestamp": 1645571189961,
     "user": {
      "displayName": "Евгения Миллер",
      "photoUrl": "https://lh3.googleusercontent.com/a-/AOh14Gj2X0dQicVOw3_uvDLm2AdkkDjMIUubVj8NCWQ6=s64",
      "userId": "01842992490389353651"
     },
     "user_tz": -180
    },
    "id": "ziZZZDNfrrRY",
    "outputId": "f2cb26a2-6668-4bc6-f401-e4e93b3f6642"
   },
   "outputs": [
    {
     "data": {
      "text/plain": [
       "{'10%',\n",
       " '2020',\n",
       " 'в',\n",
       " 'выросли',\n",
       " 'года',\n",
       " 'другие',\n",
       " 'заметному',\n",
       " 'и',\n",
       " 'итогам',\n",
       " 'к',\n",
       " 'квартале',\n",
       " 'на',\n",
       " 'незначительный',\n",
       " 'неэнергетические',\n",
       " 'они',\n",
       " 'по',\n",
       " 'покажут',\n",
       " 'приведет',\n",
       " 'ресурсы',\n",
       " 'рост',\n",
       " 'росту',\n",
       " 'с',\n",
       " 'сравнению',\n",
       " 'среднем',\n",
       " 'сырьевые',\n",
       " 'товары',\n",
       " 'третьем',\n",
       " 'цен',\n",
       " 'цены',\n",
       " 'это'}"
      ]
     },
     "execution_count": 25,
     "metadata": {},
     "output_type": "execute_result"
    }
   ],
   "source": [
    "set2"
   ]
  },
  {
   "cell_type": "code",
   "execution_count": 26,
   "metadata": {
    "colab": {
     "base_uri": "https://localhost:8080/"
    },
    "executionInfo": {
     "elapsed": 3,
     "status": "ok",
     "timestamp": 1645571329145,
     "user": {
      "displayName": "Евгения Миллер",
      "photoUrl": "https://lh3.googleusercontent.com/a-/AOh14Gj2X0dQicVOw3_uvDLm2AdkkDjMIUubVj8NCWQ6=s64",
      "userId": "01842992490389353651"
     },
     "user_tz": -180
    },
    "id": "ESXhqo5rrsTG",
    "outputId": "9c4c0549-79b2-493d-ebce-cecb20e6e800"
   },
   "outputs": [
    {
     "name": "stdout",
     "output_type": "stream",
     "text": [
      "Схожесть двух текстов — 23.076923076923077%\n"
     ]
    }
   ],
   "source": [
    "print(f'Схожесть двух текстов — {len(set1 & set2) / len(set1 | set2) * 100}%')"
   ]
  },
  {
   "cell_type": "code",
   "execution_count": null,
   "metadata": {
    "id": "nu56WK43sciV"
   },
   "outputs": [],
   "source": []
  }
 ],
 "metadata": {
  "colab": {
   "collapsed_sections": [],
   "name": "10.3_Множества_Практика.ipynb",
   "provenance": []
  },
  "kernelspec": {
   "display_name": "Python 3 (ipykernel)",
   "language": "python",
   "name": "python3"
  },
  "language_info": {
   "codemirror_mode": {
    "name": "ipython",
    "version": 3
   },
   "file_extension": ".py",
   "mimetype": "text/x-python",
   "name": "python",
   "nbconvert_exporter": "python",
   "pygments_lexer": "ipython3",
   "version": "3.9.13"
  }
 },
 "nbformat": 4,
 "nbformat_minor": 1
}
