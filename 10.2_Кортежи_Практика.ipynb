{
 "cells": [
  {
   "cell_type": "markdown",
   "metadata": {
    "id": "0s7KwzcoPOk1"
   },
   "source": [
    "# Кортежи. Практическая работа\n",
    "\n",
    "В работу входят две обязательные и одна дополнительная задача.\n",
    "\n",
    "*Обязательные задачи* нужно сделать, чтобы проверить, что вы действительно усвоили пройденный материал. Если у вас всё получилось, вы можете переходить к следующему материалу.\n",
    "\n",
    "*Дополнительные задачи* для тех, кто чувствует, что нужно ещё немного потренироваться и порешать задачи по программированию.\n",
    "\n",
    "Удачи!\n"
   ]
  },
  {
   "cell_type": "markdown",
   "metadata": {
    "id": "jEr3-vgMPQkS"
   },
   "source": [
    "**Цели практической работы**\n",
    "\n",
    "\n",
    "* Попрактиковаться работать с типом данных tuple в Python.\n",
    "* Научиться замерять время исполнения кода.\n",
    "\n",
    "\n"
   ]
  },
  {
   "cell_type": "markdown",
   "metadata": {
    "id": "hDxLPcTpP6Ex"
   },
   "source": [
    "\n",
    "\n",
    "---\n",
    "\n",
    "\n",
    "\n",
    "---\n",
    "\n"
   ]
  },
  {
   "cell_type": "markdown",
   "metadata": {
    "id": "fcPCFolWQHEy"
   },
   "source": [
    "**Обязательные задачи**"
   ]
  },
  {
   "cell_type": "markdown",
   "metadata": {
    "id": "KuvacxJ3mUVx"
   },
   "source": [
    "*Задача 1. Площадь прямоугольника*\n",
    "\n",
    "В списке `coords` лежат четыре кортежа, каждый из которых соответствует координатам вершины прямоугольника на координатной плоскости. Напишите функцию, которая находит площадь прямоугольника по его координатам.\n",
    "\n",
    "Обратите внимание: координаты могут находиться в любом порядке. Проверьте работоспособность программы на разных входных значениях списка.\n"
   ]
  },
  {
   "cell_type": "markdown",
   "metadata": {
    "id": "0VGogfghI9NH"
   },
   "source": [
    "Пример: \n",
    "\n",
    "Input: `coords = [(10, 20), (10, 30), (40, 20), (40, 30)]` \n",
    "\n",
    "Output: `300`\n",
    "\n",
    "Input: `coords = [(10, 20), (40, 20), (40, 30),  (10, 30)]` \n",
    "\n",
    "Output: `300`"
   ]
  },
  {
   "cell_type": "code",
   "execution_count": 10,
   "metadata": {
    "id": "beXC4tzwmIo3"
   },
   "outputs": [],
   "source": [
    "coords = [(10, 20), (10, 30), (40, 20), (40, 30)]"
   ]
  },
  {
   "cell_type": "code",
   "execution_count": 11,
   "metadata": {
    "id": "OXXUJr0QJKwC"
   },
   "outputs": [],
   "source": [
    "def get_length(coords):\n",
    "    maximum = 0\n",
    "    for coord in coords:\n",
    "        if coord[0] > maximum:\n",
    "            maximum = coord[0]\n",
    "    for coord in coords:\n",
    "        if coord[0] != maximum:\n",
    "            return maximum - coord[0]\n",
    "        \n",
    "def get_width(coords):\n",
    "    maximum = 0\n",
    "    for coord in coords:\n",
    "        if coord[1] > maximum:\n",
    "            maximum = coord[1]\n",
    "    for coord in coords:\n",
    "        if coord[1] != maximum:\n",
    "            return maximum - coord[1]\n",
    "\n",
    "def get_square(coords):\n",
    "    return get_width(coords)*get_length(coords)\n",
    "\n",
    "            "
   ]
  },
  {
   "cell_type": "code",
   "execution_count": 12,
   "metadata": {},
   "outputs": [
    {
     "name": "stdout",
     "output_type": "stream",
     "text": [
      "300\n"
     ]
    }
   ],
   "source": [
    "print(get_square(coords))"
   ]
  },
  {
   "cell_type": "markdown",
   "metadata": {
    "id": "LpdpNVmzhwac"
   },
   "source": [
    "*Задача 2. Расстановка людей в очереди*\n",
    "\n",
    "Есть три типа билетов, которые хранятся в кортеже `ticket_types`. Также есть список посетителей, которые на данный момент стоят в очереди, типы их билетов хранятся в `user_tickets`. \n",
    "\n",
    "Напишите функцию, которая отсортирует `user_tickets` по очереди, указанной в `ticket_types`. Сначала в `user_tickets` должны оказаться все билеты, которые находятся на нулевом месте в `ticket_types`, потом те, которые на первом месте  в `ticket_types`, затем остальные.\n",
    "\n",
    "Проверьте работоспособность программы на разных значениях `ticket_types`, `user_tickets`.\n",
    "\n"
   ]
  },
  {
   "cell_type": "markdown",
   "metadata": {
    "id": "aY5A_BMTlAPb"
   },
   "source": [
    "Пример: \n",
    "\n",
    "Input: \n",
    "\n",
    "`ticket_types = ('Ж', 'К', 'З')`\n",
    "\n",
    "`user_tickets = ['З', 'К', 'К', 'З', 'З', 'З', 'Ж', 'К', 'Ж']` \n",
    "\n",
    "Output: \n",
    "\n",
    "`['Ж', 'Ж', 'К', 'К', 'К', 'З', 'З', 'З', 'З']`\n"
   ]
  },
  {
   "cell_type": "code",
   "execution_count": 28,
   "metadata": {
    "id": "Ig5cDnhrO9i_"
   },
   "outputs": [],
   "source": [
    "ticket_types = ('Ж', 'К', 'З')\n",
    "user_tickets = ['З', 'К', 'К', 'З', 'З', 'З', 'Ж', 'К', 'Ж']"
   ]
  },
  {
   "cell_type": "code",
   "execution_count": 37,
   "metadata": {
    "id": "hmTMM_dOmM39"
   },
   "outputs": [
    {
     "name": "stdout",
     "output_type": "stream",
     "text": [
      "45.6 ns ± 1.79 ns per loop (mean ± std. dev. of 7 runs, 10000000 loops each)\n"
     ]
    }
   ],
   "source": [
    "%%timeit     \n",
    "# Ваш код здесь\n",
    "def sorting_tickets (ticket_types, user_tickets):\n",
    "    newList = []\n",
    "    for type1 in ticket_types:\n",
    "        for i in range (len(user_tickets)):\n",
    "            if user_tickets[i] == type1:\n",
    "                newList.append(type1)\n",
    "    return newList \n",
    "            "
   ]
  },
  {
   "cell_type": "markdown",
   "metadata": {
    "id": "9_ykKIaGmzuK"
   },
   "source": [
    "Попробуйте реализовать предыдущую задачу с помощью нового метода `.count()`. Он считает, сколько раз элемент встречается в списке. Например, чтобы найти, сколько раз `Ж` встречается в списке, нужно вызвать: `user_tickets.count('Ж')`.\n",
    "\n",
    "Сравните время выполнения вашего кода и кода c `.count()` c помощью функции `timeit`.\n",
    "\n",
    "P. S. Если вы изначально воспользовались методом `.count()`, сделайте задачу наоборот: попробуйте реализовать решение программы без его использования и также сравнить время выполнения.\n"
   ]
  },
  {
   "cell_type": "code",
   "execution_count": 40,
   "metadata": {
    "id": "FUZhGHoNI0eN"
   },
   "outputs": [
    {
     "name": "stdout",
     "output_type": "stream",
     "text": [
      "44.8 ns ± 0.86 ns per loop (mean ± std. dev. of 7 runs, 10000000 loops each)\n"
     ]
    }
   ],
   "source": [
    "%%timeit\n",
    "# Ваш код здес\n",
    "def sorting_ticket_count (ticket_types, user_tickets):\n",
    "    newList = []\n",
    "    for typ in ticket_types:\n",
    "        for i in range (user_tickets.count(typ)):\n",
    "            newList.append(typ)\n",
    "    return newList"
   ]
  },
  {
   "cell_type": "markdown",
   "metadata": {
    "id": "KlXqFm7fmJPQ"
   },
   "source": [
    "**Дополнительные задачи**"
   ]
  },
  {
   "cell_type": "markdown",
   "metadata": {
    "id": "2sPR6oXyaQ9g"
   },
   "source": [
    "*Задача 3. Результаты анализов*\n",
    "\n",
    "Результаты одного из анализов могут принимать четыре значения: здоров, сомнительный результат, в группе риска или болен. Заключение принимается на основе значений порогов, которые хранятся в кортеже `thresholds`. \n",
    "\n",
    "Так, для кортежа со значениями `(2, 10, 15)`:\n",
    "- если количество бактерий 15 или больше, то человек здоров;\n",
    "- от десяти включительно до 15 — сомнительный результат;\n",
    "- от двух включительно до десяти — в группе риска;\n",
    "- менее двух — болен.\n",
    "\n",
    "В списке `analysis_results` лежат результаты по количеству бактерий в каждом образце за день. Напишите функцию, которая рассчитывает, сколько в списке здоровых и больных людей, сколько сомнительных результатов и сколько человек в группе риска.\n",
    "\n",
    "Проверьте работоспособность программы на разных входных значениях `thresholds, analysis_results`.\n"
   ]
  },
  {
   "cell_type": "markdown",
   "metadata": {
    "id": "RfTxCLGuguNT"
   },
   "source": [
    "Пример: \n",
    "\n",
    "Input: \n",
    "\n",
    "`thresholds = (2, 10, 15)`\n",
    "\n",
    "`analysis_results = [100, 90, 2, 1, 0, 8, 7, 10, 12, 6, 4, 20, 3, 0]` \n",
    "\n",
    "Output: \n",
    "\n",
    "`здоров:3, сомнительный результат:2, в группе риска:6, болен: 3`"
   ]
  },
  {
   "cell_type": "code",
   "execution_count": 41,
   "metadata": {
    "id": "q-Wv1kIXfvOA"
   },
   "outputs": [],
   "source": [
    "thresholds = (2, 10, 15)\n",
    "analysis_results = [100, 90, 2, 1, 0, 8, 7, 10, 12, 6, 4, 20, 3, 0]"
   ]
  },
  {
   "cell_type": "code",
   "execution_count": 43,
   "metadata": {
    "id": "2IAZN2-9hadk"
   },
   "outputs": [],
   "source": [
    "# Ваш код здесь\n",
    "def get_info (thresholds, analysis_results):\n",
    "    healthy = 0\n",
    "    doubtful = 0\n",
    "    risk = 0\n",
    "    ill = 0\n",
    "    newList = []\n",
    "    for result in analysis_results:\n",
    "        if result < thresholds[0]:\n",
    "            ill += 1\n",
    "        elif result < thresholds[1]:\n",
    "            risk += 1\n",
    "        elif result < thresholds[2]:\n",
    "            doubtful += 1\n",
    "        else:\n",
    "            healthy += 1\n",
    "    print (f\"Здоров {healthy} сомнительно {doubtful} риск {risk} болен {ill}\")\n",
    "            "
   ]
  },
  {
   "cell_type": "code",
   "execution_count": 44,
   "metadata": {
    "id": "52zcazTYmOn5"
   },
   "outputs": [
    {
     "name": "stdout",
     "output_type": "stream",
     "text": [
      "Здоров 3 сомнительно 2 риск 6 болен 3\n"
     ]
    }
   ],
   "source": [
    "get_info (thresholds, analysis_results)"
   ]
  },
  {
   "cell_type": "markdown",
   "metadata": {
    "id": "9nrRBaD2yfkr"
   },
   "source": [
    "\n",
    "\n",
    "---\n",
    "\n",
    "\n",
    "\n",
    "---\n",
    "\n",
    "|\n",
    "\n",
    "|\n",
    "\n",
    "|\n",
    "\n",
    "|\n",
    "\n",
    "|\n",
    "\n",
    "|\n",
    "\n",
    "|\n",
    "\n",
    "|\n",
    "\n",
    "|\n",
    "\n",
    "|\n",
    "\n",
    "|\n",
    "\n",
    "|\n",
    "\n",
    "|\n"
   ]
  },
  {
   "cell_type": "markdown",
   "metadata": {
    "id": "e_femPVIyfks"
   },
   "source": [
    "### Решения \n",
    "**Обязательные задачи**"
   ]
  },
  {
   "cell_type": "markdown",
   "metadata": {
    "id": "RCmw_VV0yfkt"
   },
   "source": [
    "*Задача 1. Площадь прямоугольника*\n",
    "\n",
    "В списке `coords` лежат четыре кортежа, каждый из которых соответствует координатам вершины прямоугольника на координатной плоскости. Напишите функцию, которая находит площадь прямоугольника по его координатам.\n",
    "\n",
    "Обратите внимание: координаты могут находиться в любом порядке. Проверьте работоспособность программы на разных входных значениях списка.\n"
   ]
  },
  {
   "cell_type": "markdown",
   "metadata": {
    "id": "iW74UwPByfkt"
   },
   "source": [
    "Пример: \n",
    "\n",
    "Input: `coords = [(10, 20), (10, 30), (40, 20), (40, 30)]` \n",
    "\n",
    "Output: `300`\n",
    "\n",
    "Input: `coords = [(10, 20), (40, 20), (40, 30),  (10, 30)]` \n",
    "\n",
    "Output: `300`"
   ]
  },
  {
   "cell_type": "code",
   "execution_count": null,
   "metadata": {
    "colab": {
     "base_uri": "https://localhost:8080/"
    },
    "id": "XL281BiIyfku",
    "outputId": "832efb87-225a-4ebd-833a-500c8d52b37e"
   },
   "outputs": [
    {
     "name": "stdout",
     "output_type": "stream",
     "text": [
      "300\n",
      "300\n",
      "300\n",
      "300\n"
     ]
    }
   ],
   "source": [
    "def count_area(coords):\n",
    "    for point in coords[1:]:\n",
    "        if point[0] != coords[0][0]:\n",
    "            width = coords[0][0] - point[0]\n",
    "        if point[1] != coords[0][1]:\n",
    "            height = coords[0][1] - point[1]\n",
    "            \n",
    "    # Чуть ниже вы найдёте примечание по использованию функции abs\n",
    "    return abs(width * height)  \n",
    "\n",
    "\n",
    "coords = [(10, 20), (10, 30), (40, 20), (40, 30)]\n",
    "print(count_area(coords))\n",
    "\n",
    "coords = [(10, 20), (40, 20), (40, 30), (10, 30)]\n",
    "print(count_area(coords))\n",
    "\n",
    "coords = [(10, 20), (40, 30), (10, 30), (40, 20)]\n",
    "print(count_area(coords))\n",
    "\n",
    "coords = [(40, 20), (40, 30), (10, 20), (10, 30)]\n",
    "print(count_area(coords))"
   ]
  },
  {
   "cell_type": "markdown",
   "metadata": {
    "id": "PkAGTXok1mHk"
   },
   "source": [
    "### *Примечание*\n",
    "\n",
    "Несложно заметить, что в решении используется функция, которая ранее в курсе не рассматривалась, – **abs**. \n",
    "\n",
    "**abs** – это встроенная в *стандартную библиотеку* Python функция, возвращающая **модуль** числа (или, как ещё говорят, **абсолютное значение** – оттуда и название функции). Если передать в функцию abs целое число или число с плавающей точкой, то функция вернёт неотрицательное значение и сохранит тип исходного числа.\n",
    "\n",
    "Координаты в списке могут находиться в любом порядке, поэтому при поиске высоты или ширины и, соответственно, вычитании одной координаты из другой мы можем получить отрицательный результат. В таком случае площадь будет отрицательной, чего не может быть. Это и есть причина, по которой мы используем функцию модуля над результатом."
   ]
  },
  {
   "cell_type": "markdown",
   "metadata": {
    "id": "kskRQBv9yfku"
   },
   "source": [
    "*Задача 2. Расстановка людей в очереди*\n",
    "\n",
    "Есть три типа билетов, которые хранятся в кортеже `ticket_types`. Также есть список посетителей, которые на данный момент стоят в очереди, типы их билетов хранятся в `user_tickets`. \n",
    "\n",
    "Напишите функцию, которая отсортирует `user_tickets` по очереди, указанной в `ticket_types`. Сначала в `user_tickets` должны оказаться все билеты, которые находятся на нулевом месте в `ticket_types`, потом те, которые на первом месте  в `ticket_types`, затем остальные.\n",
    "\n",
    "Проверьте работоспособность программы на разных значениях `ticket_types`, `user_tickets`.\n",
    "\n"
   ]
  },
  {
   "cell_type": "markdown",
   "metadata": {
    "id": "4hXO9L79yfku"
   },
   "source": [
    "Пример: \n",
    "\n",
    "Input: \n",
    "\n",
    "`ticket_types = ('Ж', 'К', 'З')`\n",
    "\n",
    "`user_tickets = ['З', 'К', 'К', 'З', 'З', 'З', 'Ж', 'К', 'Ж']` \n",
    "\n",
    "Output: \n",
    "\n",
    "`['Ж', 'Ж', 'К', 'К', 'К', 'З', 'З', 'З', 'З']`"
   ]
  },
  {
   "cell_type": "code",
   "execution_count": 52,
   "metadata": {
    "id": "Cek0DRSgyfku"
   },
   "outputs": [],
   "source": [
    "ticket_types = ('Ж', 'К', 'З')\n",
    "user_tickets = ['З', 'К', 'К', 'З', 'З', 'З', 'Ж', 'К', 'Ж']"
   ]
  },
  {
   "cell_type": "code",
   "execution_count": 47,
   "metadata": {
    "id": "99W4-AMuyfku"
   },
   "outputs": [],
   "source": [
    "def sort_queue(user_tickets, ticket_types):\n",
    "    sorted_tickets = []\n",
    "    for ticket in ticket_types:\n",
    "        for user in user_tickets:\n",
    "            if ticket == user: \n",
    "                sorted_tickets.append(ticket)\n",
    "\n",
    "    return sorted_tickets"
   ]
  },
  {
   "cell_type": "code",
   "execution_count": 48,
   "metadata": {
    "colab": {
     "base_uri": "https://localhost:8080/"
    },
    "id": "r2g6aCESltcr",
    "outputId": "c083dad3-7387-4c19-b362-80f5d035ec4b"
   },
   "outputs": [
    {
     "data": {
      "text/plain": [
       "['Ж', 'Ж', 'К', 'К', 'К', 'З', 'З', 'З', 'З']"
      ]
     },
     "execution_count": 48,
     "metadata": {},
     "output_type": "execute_result"
    }
   ],
   "source": [
    "sort_queue(user_tickets, ticket_types)"
   ]
  },
  {
   "cell_type": "markdown",
   "metadata": {
    "id": "-CRtzwLXyfkv"
   },
   "source": [
    "Попробуйте реализовать предыдущую задачу с помощью нового метода `.count()`. Он считает, сколько раз элемент встречается в списке. Например, чтобы найти, сколько раз `Ж` встречается в списке, нужно вызвать: `user_tickets.count('Ж')`.\n",
    "\n",
    "Сравните время выполнения вашего кода и кода c `.count()` c помощью функции `timeit`.\n",
    "\n",
    "P. S. Если вы изначально воспользовались методом `.count()`, сделайте задачу наоборот: попробуйте реализовать решение программы без его использования и также сравнить время выполнения.\n"
   ]
  },
  {
   "cell_type": "code",
   "execution_count": 61,
   "metadata": {
    "id": "xLz_zlS3yfkv"
   },
   "outputs": [],
   "source": [
    "def sort_queue2(user_tickets, ticket_types):\n",
    "    sorted_tickets = []\n",
    "    for ticket in ticket_types:\n",
    "        print (type (ticket * user_tickets.count(ticket)))\n",
    "        print (ticket)\n",
    "        sorted_tickets += ticket * user_tickets.count(ticket)\n",
    "        \n",
    "\n",
    "    return sorted_tickets"
   ]
  },
  {
   "cell_type": "code",
   "execution_count": 62,
   "metadata": {
    "colab": {
     "base_uri": "https://localhost:8080/"
    },
    "id": "b5HxEZy8lwuF",
    "outputId": "7a39f5ef-0fdf-4548-8c61-e7d3957a33d5"
   },
   "outputs": [
    {
     "name": "stdout",
     "output_type": "stream",
     "text": [
      "<class 'str'>\n",
      "Ж\n",
      "<class 'str'>\n",
      "К\n",
      "<class 'str'>\n",
      "З\n"
     ]
    },
    {
     "data": {
      "text/plain": [
       "['Ж', 'Ж', 'К', 'К', 'К', 'З', 'З', 'З', 'З']"
      ]
     },
     "execution_count": 62,
     "metadata": {},
     "output_type": "execute_result"
    }
   ],
   "source": [
    "sort_queue2(user_tickets, ticket_types)"
   ]
  },
  {
   "cell_type": "code",
   "execution_count": null,
   "metadata": {
    "colab": {
     "base_uri": "https://localhost:8080/"
    },
    "id": "E14gGmpjlKVO",
    "outputId": "95d7c698-acc1-48d6-806f-bc741f28da55"
   },
   "outputs": [
    {
     "name": "stdout",
     "output_type": "stream",
     "text": [
      "The slowest run took 6.37 times longer than the fastest. This could mean that an intermediate result is being cached.\n",
      "1000000 loops, best of 5: 1.67 µs per loop\n"
     ]
    }
   ],
   "source": [
    "%%timeit\n",
    "sort_queue2(user_tickets, ticket_types)"
   ]
  },
  {
   "cell_type": "code",
   "execution_count": 55,
   "metadata": {
    "colab": {
     "base_uri": "https://localhost:8080/"
    },
    "id": "2DSB_mUzkRJy",
    "outputId": "20d6bfa4-2c2b-4ec0-e404-c9d60be515b7"
   },
   "outputs": [
    {
     "ename": "TypeError",
     "evalue": "can only concatenate list (not \"str\") to list",
     "output_type": "error",
     "traceback": [
      "\u001b[1;31m---------------------------------------------------------------------------\u001b[0m",
      "\u001b[1;31mTypeError\u001b[0m                                 Traceback (most recent call last)",
      "\u001b[1;32m~\\AppData\\Local\\Temp\\ipykernel_5096\\2306942202.py\u001b[0m in \u001b[0;36m<module>\u001b[1;34m\u001b[0m\n\u001b[0;32m      1\u001b[0m \u001b[0mnewList\u001b[0m \u001b[1;33m=\u001b[0m \u001b[1;33m[\u001b[0m\u001b[1;33m]\u001b[0m\u001b[1;33m\u001b[0m\u001b[1;33m\u001b[0m\u001b[0m\n\u001b[1;32m----> 2\u001b[1;33m \u001b[0mprint\u001b[0m \u001b[1;33m(\u001b[0m\u001b[0mnewList\u001b[0m \u001b[1;33m+\u001b[0m \u001b[1;34m'2'\u001b[0m \u001b[1;33m*\u001b[0m \u001b[1;36m2\u001b[0m\u001b[1;33m)\u001b[0m\u001b[1;33m\u001b[0m\u001b[1;33m\u001b[0m\u001b[0m\n\u001b[0m",
      "\u001b[1;31mTypeError\u001b[0m: can only concatenate list (not \"str\") to list"
     ]
    }
   ],
   "source": [
    "\n"
   ]
  },
  {
   "cell_type": "markdown",
   "metadata": {
    "id": "uNOpo27Xyfkv"
   },
   "source": [
    "**Дополнительные задачи**"
   ]
  },
  {
   "cell_type": "markdown",
   "metadata": {
    "id": "JGu0__Moyfkv"
   },
   "source": [
    "*Задача 3. Результаты анализов*\n",
    "\n",
    "Результаты одного из анализов могут принимать четыре значения: здоров, сомнительный результат, в группе риска или болен. Заключение принимается на основе значений порогов, которые хранятся в кортеже `thresholds`. \n",
    "\n",
    "Так, для кортежа со значениями `(2, 10, 15)`:\n",
    "- если количество бактерий 15 или больше, то человек здоров;\n",
    "- от десяти включительно до 15 — сомнительный результат;\n",
    "- от двух включительно до десяти — в группе риска;\n",
    "- менее двух — болен.\n",
    "\n",
    "В списке `analysis_results` лежат результаты по количеству бактерий в каждом образце за день. Напишите функцию, которая рассчитывает, сколько в списке здоровых и больных людей, сколько сомнительных результатов и сколько человек в группе риска.\n",
    "\n",
    "Проверьте работоспособность программы на разных входных значениях `thresholds, analysis_results`.\n"
   ]
  },
  {
   "cell_type": "markdown",
   "metadata": {
    "id": "l5VRUkdZyfkv"
   },
   "source": [
    "Пример: \n",
    "\n",
    "Input: \n",
    "\n",
    "`thresholds = (2, 10, 15)`\n",
    "\n",
    "`analysis_results = [100, 90, 2, 1, 0, 8, 7, 10, 12, 6, 4, 20, 3, 0]` \n",
    "\n",
    "Output: \n",
    "\n",
    "`здоров:3, сомнительный результат:2, в группе риска:6, болен: 3`"
   ]
  },
  {
   "cell_type": "code",
   "execution_count": null,
   "metadata": {
    "id": "etKRqzTEyfkw"
   },
   "outputs": [],
   "source": [
    "thresholds = (2, 10, 15)\n",
    "analysis_results = [100, 90, 2, 1, 0, 8, 7, 10, 12, 6, 4, 20, 3, 0]"
   ]
  },
  {
   "cell_type": "code",
   "execution_count": null,
   "metadata": {
    "id": "7z43b7Kxyfkw"
   },
   "outputs": [],
   "source": [
    "def count_stats(analysis_results, thresholds):\n",
    "    healthy, sick, risk, doubtful = 0, 0, 0, 0\n",
    "    for r in analysis_results:\n",
    "        if r >= thresholds[2]:\n",
    "            healthy += 1\n",
    "        elif r >= thresholds[1]:\n",
    "            doubtful += 1\n",
    "        elif r >= thresholds[0]:\n",
    "            risk += 1\n",
    "        else:\n",
    "            sick += 1\n",
    "    print(f'здоров: {healthy}, сомнительный результат: {doubtful}, в группе риска: {risk}, болен: {sick}')"
   ]
  },
  {
   "cell_type": "code",
   "execution_count": null,
   "metadata": {
    "colab": {
     "base_uri": "https://localhost:8080/"
    },
    "id": "26bR1Afayfkw",
    "outputId": "01fafa28-8dc1-4fbb-d598-38a260caa936"
   },
   "outputs": [
    {
     "name": "stdout",
     "output_type": "stream",
     "text": [
      "здоров: 3, сомнительный результат: 2, в группе риска: 6, болен: 3\n"
     ]
    }
   ],
   "source": [
    "count_stats(analysis_results, thresholds)"
   ]
  },
  {
   "cell_type": "code",
   "execution_count": null,
   "metadata": {
    "id": "rm0mQ85sn6sz"
   },
   "outputs": [],
   "source": []
  }
 ],
 "metadata": {
  "colab": {
   "provenance": []
  },
  "kernelspec": {
   "display_name": "Python 3 (ipykernel)",
   "language": "python",
   "name": "python3"
  },
  "language_info": {
   "codemirror_mode": {
    "name": "ipython",
    "version": 3
   },
   "file_extension": ".py",
   "mimetype": "text/x-python",
   "name": "python",
   "nbconvert_exporter": "python",
   "pygments_lexer": "ipython3",
   "version": "3.9.13"
  }
 },
 "nbformat": 4,
 "nbformat_minor": 1
}
