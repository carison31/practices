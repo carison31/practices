{
 "cells": [
  {
   "cell_type": "markdown",
   "metadata": {
    "id": "80MESj3JcSJB"
   },
   "source": [
    "# Булевы значения. Практическое задание\n",
    "\n",
    "В конце ноутбука вы можете найти решения практических задач."
   ]
  },
  {
   "cell_type": "markdown",
   "metadata": {
    "id": "3dQzcDjE3JyQ"
   },
   "source": [
    "1. В следующих ячейках замените вопросительный знак на оператор сравнения или логический оператор так, чтобы на выводе получилось `True`."
   ]
  },
  {
   "cell_type": "code",
   "execution_count": null,
   "metadata": {
    "colab": {
     "base_uri": "https://localhost:8080/"
    },
    "executionInfo": {
     "elapsed": 22,
     "status": "ok",
     "timestamp": 1629468087329,
     "user": {
      "displayName": "Evgeniya Rakina",
      "photoUrl": "",
      "userId": "02082358283809329905"
     },
     "user_tz": -180
    },
    "id": "ocEbD69y3WQw",
    "outputId": "1e0bba3c-4d4a-4aa0-90f5-fd5f07efee91"
   },
   "outputs": [
    {
     "data": {
      "text/plain": [
       "True"
      ]
     },
     "execution_count": 1,
     "metadata": {},
     "output_type": "execute_result"
    }
   ],
   "source": [
    "25 > 13"
   ]
  },
  {
   "cell_type": "code",
   "execution_count": null,
   "metadata": {
    "colab": {
     "base_uri": "https://localhost:8080/"
    },
    "executionInfo": {
     "elapsed": 259,
     "status": "ok",
     "timestamp": 1629468132783,
     "user": {
      "displayName": "Evgeniya Rakina",
      "photoUrl": "",
      "userId": "02082358283809329905"
     },
     "user_tz": -180
    },
    "id": "5vcRbdJp3btT",
    "outputId": "4e05e1e6-8ef5-4220-d6d4-1899bd1d3228"
   },
   "outputs": [
    {
     "data": {
      "text/plain": [
       "True"
      ]
     },
     "execution_count": 4,
     "metadata": {},
     "output_type": "execute_result"
    }
   ],
   "source": [
    "4 * 5 == 2 * 10"
   ]
  },
  {
   "cell_type": "code",
   "execution_count": null,
   "metadata": {
    "colab": {
     "base_uri": "https://localhost:8080/"
    },
    "executionInfo": {
     "elapsed": 274,
     "status": "ok",
     "timestamp": 1629468175048,
     "user": {
      "displayName": "Evgeniya Rakina",
      "photoUrl": "",
      "userId": "02082358283809329905"
     },
     "user_tz": -180
    },
    "id": "tbmu68vG3gcK",
    "outputId": "ebc73109-b6da-4e6b-f371-f7891e9cd913"
   },
   "outputs": [
    {
     "data": {
      "text/plain": [
       "True"
      ]
     },
     "execution_count": 5,
     "metadata": {},
     "output_type": "execute_result"
    }
   ],
   "source": [
    "a = 25\n",
    "b = 15\n",
    "a // b < a * b"
   ]
  },
  {
   "cell_type": "code",
   "execution_count": null,
   "metadata": {
    "colab": {
     "base_uri": "https://localhost:8080/"
    },
    "executionInfo": {
     "elapsed": 278,
     "status": "ok",
     "timestamp": 1629468391830,
     "user": {
      "displayName": "Evgeniya Rakina",
      "photoUrl": "",
      "userId": "02082358283809329905"
     },
     "user_tz": -180
    },
    "id": "J9QmKMjr3yda",
    "outputId": "4b7836bd-2a91-4403-9446-922b6275c0eb"
   },
   "outputs": [
    {
     "data": {
      "text/plain": [
       "True"
      ]
     },
     "execution_count": 9,
     "metadata": {},
     "output_type": "execute_result"
    }
   ],
   "source": [
    "first = 33\n",
    "second = 27\n",
    "third = 22\n",
    "(first > second) or (third > second)"
   ]
  },
  {
   "cell_type": "markdown",
   "metadata": {
    "id": "O32iynuA5ObE"
   },
   "source": [
    "2. В следующих ячейках добавьте оператор `not`, чтобы на выводе получилось `False`."
   ]
  },
  {
   "cell_type": "code",
   "execution_count": 2,
   "metadata": {
    "colab": {
     "base_uri": "https://localhost:8080/"
    },
    "executionInfo": {
     "elapsed": 275,
     "status": "ok",
     "timestamp": 1629468684607,
     "user": {
      "displayName": "Evgeniya Rakina",
      "photoUrl": "",
      "userId": "02082358283809329905"
     },
     "user_tz": -180
    },
    "id": "rRveZNaz5UXk",
    "outputId": "41211939-7299-401e-87db-bd0bc09a63b8"
   },
   "outputs": [
    {
     "data": {
      "text/plain": [
       "False"
      ]
     },
     "execution_count": 2,
     "metadata": {},
     "output_type": "execute_result"
    }
   ],
   "source": [
    "dog = 12\n",
    "cat = 16\n",
    "rat = 3\n",
    "\n",
    "not dog < cat and cat > rat"
   ]
  },
  {
   "cell_type": "code",
   "execution_count": 3,
   "metadata": {
    "colab": {
     "base_uri": "https://localhost:8080/"
    },
    "executionInfo": {
     "elapsed": 287,
     "status": "ok",
     "timestamp": 1629468713082,
     "user": {
      "displayName": "Evgeniya Rakina",
      "photoUrl": "",
      "userId": "02082358283809329905"
     },
     "user_tz": -180
    },
    "id": "7OneG_SD5h04",
    "outputId": "13132a33-709c-4155-a813-4b8ab8b69d1e"
   },
   "outputs": [
    {
     "data": {
      "text/plain": [
       "False"
      ]
     },
     "execution_count": 3,
     "metadata": {},
     "output_type": "execute_result"
    }
   ],
   "source": [
    "not (cat > rat or cat > dog)"
   ]
  },
  {
   "cell_type": "code",
   "execution_count": 6,
   "metadata": {
    "colab": {
     "base_uri": "https://localhost:8080/"
    },
    "executionInfo": {
     "elapsed": 304,
     "status": "ok",
     "timestamp": 1629468792908,
     "user": {
      "displayName": "Evgeniya Rakina",
      "photoUrl": "",
      "userId": "02082358283809329905"
     },
     "user_tz": -180
    },
    "id": "KlRomsMN5vjZ",
    "outputId": "cdb3a1b7-9437-4153-c5f1-956e0a5b0afc"
   },
   "outputs": [
    {
     "data": {
      "text/plain": [
       "False"
      ]
     },
     "execution_count": 6,
     "metadata": {},
     "output_type": "execute_result"
    }
   ],
   "source": [
    "not cat != dog or rat == cat "
   ]
  },
  {
   "cell_type": "markdown",
   "metadata": {
    "id": "gLeuYpSH8aCX"
   },
   "source": [
    "3. Мы можем сравнивать булевы значения, а также сохранять их в переменные и сравнивать эти переменные. Поменяйте выражения так, чтобы на выводе было `True`."
   ]
  },
  {
   "cell_type": "code",
   "execution_count": 7,
   "metadata": {
    "colab": {
     "base_uri": "https://localhost:8080/"
    },
    "executionInfo": {
     "elapsed": 275,
     "status": "ok",
     "timestamp": 1629469741878,
     "user": {
      "displayName": "Evgeniya Rakina",
      "photoUrl": "",
      "userId": "02082358283809329905"
     },
     "user_tz": -180
    },
    "id": "x3lxXw_B70Am",
    "outputId": "cf6537b8-89c5-4105-bd9d-80383a15d1af"
   },
   "outputs": [
    {
     "data": {
      "text/plain": [
       "True"
      ]
     },
     "execution_count": 7,
     "metadata": {},
     "output_type": "execute_result"
    }
   ],
   "source": [
    "True == True"
   ]
  },
  {
   "cell_type": "code",
   "execution_count": 8,
   "metadata": {
    "colab": {
     "base_uri": "https://localhost:8080/"
    },
    "executionInfo": {
     "elapsed": 277,
     "status": "ok",
     "timestamp": 1629469862811,
     "user": {
      "displayName": "Evgeniya Rakina",
      "photoUrl": "",
      "userId": "02082358283809329905"
     },
     "user_tz": -180
    },
    "id": "kuKH5l1d8SzU",
    "outputId": "dde441d7-64ac-4d6a-d2b7-d3074a54c93a"
   },
   "outputs": [
    {
     "data": {
      "text/plain": [
       "True"
      ]
     },
     "execution_count": 8,
     "metadata": {},
     "output_type": "execute_result"
    }
   ],
   "source": [
    "True and True"
   ]
  },
  {
   "cell_type": "markdown",
   "metadata": {
    "id": "AWiFB5Eh-RCH"
   },
   "source": [
    "4. Булевы значения могут быть представлены также в виде чисел. `True` равен 1, `False` равен 0. Замените вопросительный знак таким образом, чтобы на выводе получилось `True`."
   ]
  },
  {
   "cell_type": "code",
   "execution_count": 11,
   "metadata": {
    "colab": {
     "base_uri": "https://localhost:8080/"
    },
    "executionInfo": {
     "elapsed": 4,
     "status": "ok",
     "timestamp": 1629470015736,
     "user": {
      "displayName": "Evgeniya Rakina",
      "photoUrl": "",
      "userId": "02082358283809329905"
     },
     "user_tz": -180
    },
    "id": "vn_Gprga95A1",
    "outputId": "c93b0750-5135-4dbe-cfdc-af6cf662e609"
   },
   "outputs": [
    {
     "data": {
      "text/plain": [
       "True"
      ]
     },
     "execution_count": 11,
     "metadata": {},
     "output_type": "execute_result"
    }
   ],
   "source": [
    "True + False + True == 2"
   ]
  },
  {
   "cell_type": "code",
   "execution_count": 13,
   "metadata": {
    "colab": {
     "base_uri": "https://localhost:8080/"
    },
    "executionInfo": {
     "elapsed": 261,
     "status": "ok",
     "timestamp": 1629470092299,
     "user": {
      "displayName": "Evgeniya Rakina",
      "photoUrl": "",
      "userId": "02082358283809329905"
     },
     "user_tz": -180
    },
    "id": "Kefi3WUS-jBE",
    "outputId": "ffc1718a-fb5c-4df3-be95-f821be7a0ecc"
   },
   "outputs": [
    {
     "data": {
      "text/plain": [
       "True"
      ]
     },
     "execution_count": 13,
     "metadata": {},
     "output_type": "execute_result"
    }
   ],
   "source": [
    "True * 5 * False > -1"
   ]
  },
  {
   "cell_type": "code",
   "execution_count": 14,
   "metadata": {
    "colab": {
     "base_uri": "https://localhost:8080/"
    },
    "executionInfo": {
     "elapsed": 278,
     "status": "ok",
     "timestamp": 1629470179567,
     "user": {
      "displayName": "Evgeniya Rakina",
      "photoUrl": "",
      "userId": "02082358283809329905"
     },
     "user_tz": -180
    },
    "id": "5Ok4nAM5_Dsd",
    "outputId": "c026d5dd-f5e6-4a0a-c91a-5de6589d742a"
   },
   "outputs": [
    {
     "data": {
      "text/plain": [
       "True"
      ]
     },
     "execution_count": 14,
     "metadata": {},
     "output_type": "execute_result"
    }
   ],
   "source": [
    "not False == True"
   ]
  },
  {
   "cell_type": "code",
   "execution_count": 15,
   "metadata": {
    "id": "2OZx96TJ_eKr"
   },
   "outputs": [
    {
     "name": "stdout",
     "output_type": "stream",
     "text": [
      "змеи любят греться на солнце \n"
     ]
    }
   ],
   "source": [
    "inf = \"греться \"\n",
    "\n",
    "noun = \"змеи \"\n",
    "\n",
    "obj = \"солнце \"\n",
    "\n",
    "prep = \"на \"\n",
    "\n",
    "verb = \"любят \"\n",
    "\n",
    "print (noun + verb + inf + prep + obj)"
   ]
  },
  {
   "cell_type": "markdown",
   "metadata": {
    "id": "HqBJYi_wcbhM"
   },
   "source": [
    "|\n",
    "\n",
    "|\n",
    "\n",
    "|\n",
    "\n",
    "|\n",
    "\n",
    "|\n",
    "\n",
    "| \n",
    "\n",
    "|\n",
    "\n",
    "|\n",
    "\n",
    "|\n",
    "\n",
    "|\n",
    "\n",
    "|\n",
    "\n",
    "|\n",
    "\n",
    "|\n",
    "\n",
    "|\n",
    "\n",
    "|\n",
    "\n",
    "|\n",
    "\n",
    "|\n",
    "\n",
    "| \n",
    "\n",
    "|\n",
    "\n",
    "|\n",
    "\n",
    "|\n",
    "\n",
    "|\n",
    "\n",
    "|\n",
    "\n",
    "|\n",
    "\n",
    "## Решения\n",
    "\n",
    "1. В следующих ячейках замените вопросительный знак на оператор сравнения или логический оператор так, чтобы на выводе получилось `True`."
   ]
  },
  {
   "cell_type": "code",
   "execution_count": 1,
   "metadata": {
    "colab": {
     "base_uri": "https://localhost:8080/"
    },
    "executionInfo": {
     "elapsed": 7,
     "status": "ok",
     "timestamp": 1642027166784,
     "user": {
      "displayName": "Евгения Миллер",
      "photoUrl": "https://lh3.googleusercontent.com/a-/AOh14Gj2X0dQicVOw3_uvDLm2AdkkDjMIUubVj8NCWQ6=s64",
      "userId": "01842992490389353651"
     },
     "user_tz": -180
    },
    "id": "FLpqrGDqcbhN",
    "outputId": "6274e9fd-f203-44e3-dd6b-b1b12ee067fd"
   },
   "outputs": [
    {
     "data": {
      "text/plain": [
       "True"
      ]
     },
     "execution_count": 1,
     "metadata": {},
     "output_type": "execute_result"
    }
   ],
   "source": [
    "25 > 13"
   ]
  },
  {
   "cell_type": "code",
   "execution_count": 16,
   "metadata": {},
   "outputs": [
    {
     "name": "stdout",
     "output_type": "stream",
     "text": [
      "33.54838709677419\n"
     ]
    }
   ],
   "source": [
    "distance = 15.5\n",
    "cost = 520\n",
    "\n",
    "costPerDis = cost / distance\n",
    "\n",
    "print (costPerDis)"
   ]
  },
  {
   "cell_type": "code",
   "execution_count": 22,
   "metadata": {},
   "outputs": [
    {
     "name": "stdout",
     "output_type": "stream",
     "text": [
      "Переменная age является строкой False\n",
      "Переменная town является строкой True\n",
      "Переменная beautiful является строкой False\n"
     ]
    }
   ],
   "source": [
    "# Переменные для проверки\n",
    "\n",
    "age = 1006\n",
    "\n",
    "town = 'Торжок'\n",
    "\n",
    "beautiful = True\n",
    "\n",
    "print (\"Переменная age является строкой\", isinstance(age, str))\n",
    "print (\"Переменная town является строкой\", isinstance(town, str))\n",
    "print (\"Переменная beautiful является строкой\", isinstance(beautiful, str))\n"
   ]
  },
  {
   "cell_type": "code",
   "execution_count": 24,
   "metadata": {},
   "outputs": [
    {
     "name": "stdout",
     "output_type": "stream",
     "text": [
      "Введите длину комнаты4\n",
      "Введите ширину комнаты5\n",
      "Ваша комната больше 15 м2? True\n"
     ]
    }
   ],
   "source": [
    "# Переменные для проверки\n",
    "\n",
    "length = float(input(\"Введите длину комнаты\"))\n",
    "\n",
    "width = float(input(\"Введите ширину комнаты\"))\n",
    "\n",
    "# Решение \n",
    "\n",
    "square = width * length\n",
    "\n",
    "#Вывод на экран\n",
    "\n",
    "print (\"Ваша комната больше 15 м2?\", square > 15)\n",
    "\n"
   ]
  },
  {
   "cell_type": "code",
   "execution_count": 25,
   "metadata": {},
   "outputs": [
    {
     "name": "stdout",
     "output_type": "stream",
     "text": [
      "Введите вашу строкуПривет\n",
      "Длина вашей строки 6\n"
     ]
    }
   ],
   "source": [
    "# Определение длины строки\n",
    "\n",
    "# Переменные\n",
    "\n",
    "phrase = input(\"Введите вашу строку \")\n",
    "\n",
    "# Вывод ее длины\n",
    "\n",
    "print (\"Длина вашей строки\", len(phrase))"
   ]
  },
  {
   "cell_type": "code",
   "execution_count": 27,
   "metadata": {
    "colab": {
     "base_uri": "https://localhost:8080/"
    },
    "executionInfo": {
     "elapsed": 3,
     "status": "ok",
     "timestamp": 1642027168125,
     "user": {
      "displayName": "Евгения Миллер",
      "photoUrl": "https://lh3.googleusercontent.com/a-/AOh14Gj2X0dQicVOw3_uvDLm2AdkkDjMIUubVj8NCWQ6=s64",
      "userId": "01842992490389353651"
     },
     "user_tz": -180
    },
    "id": "ToktCTfScbhO",
    "outputId": "6b6713a0-34c2-40c1-f4ab-66f5fdb80fc9"
   },
   "outputs": [
    {
     "data": {
      "text/plain": [
       "20"
      ]
     },
     "execution_count": 27,
     "metadata": {},
     "output_type": "execute_result"
    }
   ],
   "source": [
    "4 * 5 or 2 * 10"
   ]
  },
  {
   "cell_type": "code",
   "execution_count": 28,
   "metadata": {
    "colab": {
     "base_uri": "https://localhost:8080/"
    },
    "executionInfo": {
     "elapsed": 436,
     "status": "ok",
     "timestamp": 1642027179169,
     "user": {
      "displayName": "Евгения Миллер",
      "photoUrl": "https://lh3.googleusercontent.com/a-/AOh14Gj2X0dQicVOw3_uvDLm2AdkkDjMIUubVj8NCWQ6=s64",
      "userId": "01842992490389353651"
     },
     "user_tz": -180
    },
    "id": "zhOhZ7tccbhO",
    "outputId": "b081afe4-5ec1-4c9a-af07-5fc3135da957"
   },
   "outputs": [
    {
     "data": {
      "text/plain": [
       "True"
      ]
     },
     "execution_count": 28,
     "metadata": {},
     "output_type": "execute_result"
    }
   ],
   "source": [
    "77 // 2 == 38 and not False"
   ]
  },
  {
   "cell_type": "code",
   "execution_count": 4,
   "metadata": {
    "colab": {
     "base_uri": "https://localhost:8080/"
    },
    "executionInfo": {
     "elapsed": 400,
     "status": "ok",
     "timestamp": 1642027200118,
     "user": {
      "displayName": "Евгения Миллер",
      "photoUrl": "https://lh3.googleusercontent.com/a-/AOh14Gj2X0dQicVOw3_uvDLm2AdkkDjMIUubVj8NCWQ6=s64",
      "userId": "01842992490389353651"
     },
     "user_tz": -180
    },
    "id": "H9tSMpxacbhP",
    "outputId": "69da1823-5792-4d48-b832-6918d4ebc42c"
   },
   "outputs": [
    {
     "data": {
      "text/plain": [
       "True"
      ]
     },
     "execution_count": 4,
     "metadata": {},
     "output_type": "execute_result"
    }
   ],
   "source": [
    "first = 33\n",
    "second = 27\n",
    "third = 22\n",
    "(first > second) or (third > second)"
   ]
  },
  {
   "cell_type": "markdown",
   "metadata": {
    "id": "0YJT8BaecbhP"
   },
   "source": [
    "2. В следующих ячейках добавьте оператор `not`, чтобы на выводе получилось `False`."
   ]
  },
  {
   "cell_type": "code",
   "execution_count": 11,
   "metadata": {
    "colab": {
     "base_uri": "https://localhost:8080/"
    },
    "executionInfo": {
     "elapsed": 484,
     "status": "ok",
     "timestamp": 1642027317614,
     "user": {
      "displayName": "Евгения Миллер",
      "photoUrl": "https://lh3.googleusercontent.com/a-/AOh14Gj2X0dQicVOw3_uvDLm2AdkkDjMIUubVj8NCWQ6=s64",
      "userId": "01842992490389353651"
     },
     "user_tz": -180
    },
    "id": "MjAgeGtFcbhP",
    "outputId": "c71112d9-5843-4391-eee9-d979e2af446f"
   },
   "outputs": [
    {
     "data": {
      "text/plain": [
       "False"
      ]
     },
     "execution_count": 11,
     "metadata": {},
     "output_type": "execute_result"
    }
   ],
   "source": [
    "dog = 12\n",
    "cat = 16\n",
    "rat = 3\n",
    "\n",
    "dog < cat and not cat > rat"
   ]
  },
  {
   "cell_type": "code",
   "execution_count": 10,
   "metadata": {
    "colab": {
     "base_uri": "https://localhost:8080/"
    },
    "executionInfo": {
     "elapsed": 395,
     "status": "ok",
     "timestamp": 1642027291486,
     "user": {
      "displayName": "Евгения Миллер",
      "photoUrl": "https://lh3.googleusercontent.com/a-/AOh14Gj2X0dQicVOw3_uvDLm2AdkkDjMIUubVj8NCWQ6=s64",
      "userId": "01842992490389353651"
     },
     "user_tz": -180
    },
    "id": "eTes9xC6cbhP",
    "outputId": "c6008d62-fe5d-4f44-c0b3-5cd8a69001e4"
   },
   "outputs": [
    {
     "data": {
      "text/plain": [
       "False"
      ]
     },
     "execution_count": 10,
     "metadata": {},
     "output_type": "execute_result"
    }
   ],
   "source": [
    "not (cat > rat or cat > dog)"
   ]
  },
  {
   "cell_type": "code",
   "execution_count": 7,
   "metadata": {
    "colab": {
     "base_uri": "https://localhost:8080/"
    },
    "executionInfo": {
     "elapsed": 378,
     "status": "ok",
     "timestamp": 1642027236834,
     "user": {
      "displayName": "Евгения Миллер",
      "photoUrl": "https://lh3.googleusercontent.com/a-/AOh14Gj2X0dQicVOw3_uvDLm2AdkkDjMIUubVj8NCWQ6=s64",
      "userId": "01842992490389353651"
     },
     "user_tz": -180
    },
    "id": "2lF9mdVCcbhQ",
    "outputId": "cd674d70-fdbb-4433-ccf4-ed575625819f"
   },
   "outputs": [
    {
     "data": {
      "text/plain": [
       "False"
      ]
     },
     "execution_count": 7,
     "metadata": {},
     "output_type": "execute_result"
    }
   ],
   "source": [
    "not cat != dog or rat == cat "
   ]
  },
  {
   "cell_type": "markdown",
   "metadata": {
    "id": "OC1mKUezcbhQ"
   },
   "source": [
    "3. Мы можем сравнивать булевы значения, а также сохранять их в переменные и сравнивать эти переменные. Поменяйте выражения так, чтобы на выводе было `True`."
   ]
  },
  {
   "cell_type": "code",
   "execution_count": 12,
   "metadata": {
    "colab": {
     "base_uri": "https://localhost:8080/"
    },
    "executionInfo": {
     "elapsed": 446,
     "status": "ok",
     "timestamp": 1642027421727,
     "user": {
      "displayName": "Евгения Миллер",
      "photoUrl": "https://lh3.googleusercontent.com/a-/AOh14Gj2X0dQicVOw3_uvDLm2AdkkDjMIUubVj8NCWQ6=s64",
      "userId": "01842992490389353651"
     },
     "user_tz": -180
    },
    "id": "GshhgPIxcbhQ",
    "outputId": "213bfbae-6fa1-4201-abe1-117740cec1ec"
   },
   "outputs": [
    {
     "data": {
      "text/plain": [
       "True"
      ]
     },
     "execution_count": 12,
     "metadata": {},
     "output_type": "execute_result"
    }
   ],
   "source": [
    "True != False"
   ]
  },
  {
   "cell_type": "code",
   "execution_count": 13,
   "metadata": {
    "colab": {
     "base_uri": "https://localhost:8080/"
    },
    "executionInfo": {
     "elapsed": 485,
     "status": "ok",
     "timestamp": 1642027437892,
     "user": {
      "displayName": "Евгения Миллер",
      "photoUrl": "https://lh3.googleusercontent.com/a-/AOh14Gj2X0dQicVOw3_uvDLm2AdkkDjMIUubVj8NCWQ6=s64",
      "userId": "01842992490389353651"
     },
     "user_tz": -180
    },
    "id": "d8iuo90qcbhQ",
    "outputId": "857b2edd-f6e7-47b8-9c63-9ab0871a06a1"
   },
   "outputs": [
    {
     "data": {
      "text/plain": [
       "True"
      ]
     },
     "execution_count": 13,
     "metadata": {},
     "output_type": "execute_result"
    }
   ],
   "source": [
    "True or False"
   ]
  },
  {
   "cell_type": "markdown",
   "metadata": {
    "id": "ULrWbrxJcbhQ"
   },
   "source": [
    "4. Булевы значения могут быть представлены также в виде чисел. `True` равен 1, `False` равен 0. Замените вопросительный знак таким образом, чтобы на выводе получилось `True`."
   ]
  },
  {
   "cell_type": "code",
   "execution_count": 14,
   "metadata": {
    "colab": {
     "base_uri": "https://localhost:8080/"
    },
    "executionInfo": {
     "elapsed": 815,
     "status": "ok",
     "timestamp": 1642027457712,
     "user": {
      "displayName": "Евгения Миллер",
      "photoUrl": "https://lh3.googleusercontent.com/a-/AOh14Gj2X0dQicVOw3_uvDLm2AdkkDjMIUubVj8NCWQ6=s64",
      "userId": "01842992490389353651"
     },
     "user_tz": -180
    },
    "id": "G5R5ITHicbhR",
    "outputId": "d8e7d2bb-193b-4b38-955c-7f49217ef94a"
   },
   "outputs": [
    {
     "data": {
      "text/plain": [
       "True"
      ]
     },
     "execution_count": 14,
     "metadata": {},
     "output_type": "execute_result"
    }
   ],
   "source": [
    "True + False + True == 2"
   ]
  },
  {
   "cell_type": "code",
   "execution_count": 15,
   "metadata": {
    "colab": {
     "base_uri": "https://localhost:8080/"
    },
    "executionInfo": {
     "elapsed": 410,
     "status": "ok",
     "timestamp": 1642027471319,
     "user": {
      "displayName": "Евгения Миллер",
      "photoUrl": "https://lh3.googleusercontent.com/a-/AOh14Gj2X0dQicVOw3_uvDLm2AdkkDjMIUubVj8NCWQ6=s64",
      "userId": "01842992490389353651"
     },
     "user_tz": -180
    },
    "id": "RKaiO3Z9cbhR",
    "outputId": "2b672621-90ca-4ea3-f8b8-885d9c5f9bd6"
   },
   "outputs": [
    {
     "data": {
      "text/plain": [
       "True"
      ]
     },
     "execution_count": 15,
     "metadata": {},
     "output_type": "execute_result"
    }
   ],
   "source": [
    "True * 5 * False > -1"
   ]
  },
  {
   "cell_type": "code",
   "execution_count": 16,
   "metadata": {
    "colab": {
     "base_uri": "https://localhost:8080/"
    },
    "executionInfo": {
     "elapsed": 394,
     "status": "ok",
     "timestamp": 1642027496999,
     "user": {
      "displayName": "Евгения Миллер",
      "photoUrl": "https://lh3.googleusercontent.com/a-/AOh14Gj2X0dQicVOw3_uvDLm2AdkkDjMIUubVj8NCWQ6=s64",
      "userId": "01842992490389353651"
     },
     "user_tz": -180
    },
    "id": "Ah2hLSf8cbhR",
    "outputId": "db0ad5dc-8e8c-4840-e2ee-74feb7d9e4fe"
   },
   "outputs": [
    {
     "data": {
      "text/plain": [
       "True"
      ]
     },
     "execution_count": 16,
     "metadata": {},
     "output_type": "execute_result"
    }
   ],
   "source": [
    "1 + False == True"
   ]
  },
  {
   "cell_type": "code",
   "execution_count": null,
   "metadata": {
    "id": "adIfIjCldzKX"
   },
   "outputs": [],
   "source": []
  }
 ],
 "metadata": {
  "colab": {
   "collapsed_sections": [],
   "name": "5.7_Булевы_значения_Практика.ipynb",
   "provenance": []
  },
  "kernelspec": {
   "display_name": "Python 3 (ipykernel)",
   "language": "python",
   "name": "python3"
  },
  "language_info": {
   "codemirror_mode": {
    "name": "ipython",
    "version": 3
   },
   "file_extension": ".py",
   "mimetype": "text/x-python",
   "name": "python",
   "nbconvert_exporter": "python",
   "pygments_lexer": "ipython3",
   "version": "3.9.13"
  }
 },
 "nbformat": 4,
 "nbformat_minor": 1
}
